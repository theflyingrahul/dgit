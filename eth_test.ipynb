{
 "cells": [
  {
   "cell_type": "code",
   "execution_count": 1,
   "id": "fb290984-fea5-4d12-98c9-cd2df7c69924",
   "metadata": {},
   "outputs": [],
   "source": [
    "from web3 import Web3"
   ]
  },
  {
   "cell_type": "code",
   "execution_count": 2,
   "id": "9750901d-5510-4bbc-9d40-e7328a5a4d35",
   "metadata": {},
   "outputs": [],
   "source": [
    "from web3 import EthereumTesterProvider"
   ]
  },
  {
   "cell_type": "code",
   "execution_count": 3,
   "id": "773c298b-74b1-4443-a640-5863eacc3fd5",
   "metadata": {},
   "outputs": [
    {
     "data": {
      "text/plain": [
       "web3.providers.eth_tester.main.EthereumTesterProvider"
      ]
     },
     "execution_count": 3,
     "metadata": {},
     "output_type": "execute_result"
    }
   ],
   "source": [
    "EthereumTesterProvider"
   ]
  },
  {
   "cell_type": "code",
   "execution_count": 4,
   "id": "ee137fee-33c8-4324-81de-dceed09116ee",
   "metadata": {},
   "outputs": [
    {
     "name": "stderr",
     "output_type": "stream",
     "text": [
      "/data2/web3/web3/lib/python3.10/site-packages/eth_tester/backends/__init__.py:30: UserWarning: Ethereum Tester: No backend was explicitly set, and no *full* backends were available.  Falling back to the `MockBackend` which does not support all EVM functionality.  Please refer to the `eth-tester` documentation for information on what backends are available and how to set them.  Your py-evm package may need to be updated.\n",
      "  warnings.warn(\n"
     ]
    },
    {
     "data": {
      "text/plain": [
       "True"
      ]
     },
     "execution_count": 4,
     "metadata": {},
     "output_type": "execute_result"
    }
   ],
   "source": [
    "w3 = Web3(EthereumTesterProvider())\n",
    "w3.isConnected()"
   ]
  },
  {
   "cell_type": "markdown",
   "id": "d5b4908a-9a09-4442-9853-51a640dff0b0",
   "metadata": {},
   "source": [
    "# Connect to Eth HTTP provider (Infura)"
   ]
  },
  {
   "cell_type": "code",
   "execution_count": 20,
   "id": "cc20b45a-56a1-4e77-8d06-7abc3d5d82e1",
   "metadata": {},
   "outputs": [],
   "source": [
    "provider_url = 'https://mainnet.infura.io/v3/5953d19885cd43218c5d03280949a537'\n",
    "\n",
    "ganache_url = 'http://127.0.0.1:8545'\n",
    "w3 = Web3(Web3.HTTPProvider(ganache_url))"
   ]
  },
  {
   "cell_type": "code",
   "execution_count": 21,
   "id": "64908a2b-5e2b-496e-9b45-1a5ea67bd0d4",
   "metadata": {},
   "outputs": [
    {
     "data": {
      "text/plain": [
       "True"
      ]
     },
     "execution_count": 21,
     "metadata": {},
     "output_type": "execute_result"
    }
   ],
   "source": [
    "w3.isConnected()"
   ]
  },
  {
   "cell_type": "markdown",
   "id": "b2f7dc87-6f59-44e8-a4d7-0cf9f6ac0d6c",
   "metadata": {},
   "source": [
    "# Interacting with eth blockchain with web3.py"
   ]
  },
  {
   "cell_type": "code",
   "execution_count": 7,
   "id": "ceb252e9-8a0b-4d48-ba63-8b2067754111",
   "metadata": {},
   "outputs": [
    {
     "data": {
      "text/plain": [
       "AttributeDict({'baseFeePerGas': 14775252097,\n",
       " 'difficulty': 0,\n",
       " 'extraData': HexBytes('0x406275696c64657230783639'),\n",
       " 'gasLimit': 30000000,\n",
       " 'gasUsed': 13314946,\n",
       " 'hash': HexBytes('0x3ebd46fd455acdfce8e81e88915531c119fa39491c43eea785d82e6629f7b647'),\n",
       " 'logsBloom': HexBytes('0x05f544d660898c10f00a2621a69932a12b20620e45201b14241d0cc4445a5c1c191b91a4c591064800581322111d2102038825005b5329513224c865102600204c74d2b844905d69ea026acb91e460ec82421a2409451c933857d43d892489a0524f19001ae75003c886d900002d7865ecf25938cd54c4a4c22057f7a81c07881c3c135e134291d0244e00013133209ce38196816da120d8c4a290eb203b9bb2aa4371135d916e26229a50e52b500c820374089568832c821af00e2217e06c01c54a592b20832ddb1004800066c51884d5e536e3902300370c00398e0a20ec689433a98a0830e084ab8d0be594880e4a2514558961eaa0d11e093d371b42dc11'),\n",
       " 'miner': '0x690B9A9E9aa1C9dB991C7721a92d351Db4FaC990',\n",
       " 'mixHash': HexBytes('0x40c291c8d9953d1ff96af37b8f7ae8e72dd42d0d288a6bbf3dfcfb50a86a3f49'),\n",
       " 'nonce': HexBytes('0x0000000000000000'),\n",
       " 'number': 16169007,\n",
       " 'parentHash': HexBytes('0x406e0161b97f250ee896f2ea9468f151b9d1824ded6908ea7e5896e9ab160ca1'),\n",
       " 'receiptsRoot': HexBytes('0x591646137e524a82c405f64265c7a6b1174e9bb11affc5a2fb5d40ab55476bc6'),\n",
       " 'sha3Uncles': HexBytes('0x1dcc4de8dec75d7aab85b567b6ccd41ad312451b948a7413f0a142fd40d49347'),\n",
       " 'size': 140200,\n",
       " 'stateRoot': HexBytes('0xa9bb72832ea7c2fdf0e339c06201d9421741857c2151041974e078271e361670'),\n",
       " 'timestamp': 1670852699,\n",
       " 'totalDifficulty': 58750003716598352816469,\n",
       " 'transactions': [HexBytes('0xb6bf24a6d7986a3c86de36cdc2e1e65786dea10430b77ed41c8fba7d14a60181'),\n",
       "  HexBytes('0x627754d204d43af9863e1b6f22bb9ad17309f4d6a938938d9e717569ffc599be'),\n",
       "  HexBytes('0xfcb032fbabcff061f7c60f572854e13c9cedb2b28969236402a0c2aca597d229'),\n",
       "  HexBytes('0x2b7ef9114473428b5c053e4e810b6f9f66412793f0d9546a7cc04d06f6852eb6'),\n",
       "  HexBytes('0x8870d5a1e8628507c9a23a0595309933284c54e12679b3409c7bbc9833c6ceff'),\n",
       "  HexBytes('0x0e868ae7cf51e2e392c577abc5982ca7d47e19326416f48fef81849f24377575'),\n",
       "  HexBytes('0x58ae21dd4eed5cf2cef67e6720e5e48a5ee24d2bcfc639c0ed39238bb72b155d'),\n",
       "  HexBytes('0x25c9a054c9202b1fbc2ea9ce8a496c9185c1fdd3c597bb83c7b2437bdcb934cf'),\n",
       "  HexBytes('0x634e9d83897ffaad643d0e6e6ae78dc5296060cc17fd6202dc9eec3dba7b88ab'),\n",
       "  HexBytes('0xbe7462ed42dc60e12b5b79c3c00ecc25d82e985799deec8aafc81e05989bd04e'),\n",
       "  HexBytes('0xacb2279c93983dc3e414c6d41a10b7bf9b3f9774078676eecd0a765685bfb448'),\n",
       "  HexBytes('0x64e687b54e956eefc2e1373889d847322ec333f5dc3674ecfa016995a8280623'),\n",
       "  HexBytes('0x97c2e98d764e8624dc77e38e1b8dae6037311b9b8c327bbdc8ed0a48a1a28706'),\n",
       "  HexBytes('0x1abf6abe152ec02304572448ca33afcb71fdbf78e3628219c3d6066d2c554f51'),\n",
       "  HexBytes('0xb773f427d1b9808f90a50eea84c1f6a1f42c5b7ec5e9d64895307f49c39a1d41'),\n",
       "  HexBytes('0x85e27a1eae07db0a5893e17d048de5cd26fe21aae42779294ad52c36983c1908'),\n",
       "  HexBytes('0xbf14af2ba5e85fb703d02dadbb37446de0b98f6ad7b8d411de13efc9b64d8830'),\n",
       "  HexBytes('0xd025c748fbf48d570fe0ac33c1e65721867ed723dbd24ef8d1af584f6f30e73e'),\n",
       "  HexBytes('0xb6b736d2bf319ab5393221fb4ba01e6dc76d6fb58f13efbae3597d0626ca1ccd'),\n",
       "  HexBytes('0xa6a0d663f8f53953e3baf8537614310fc06d6866699377d85f768510edfba93e'),\n",
       "  HexBytes('0x068a45e66bdf8014ea82aae04a70e0c1d128832ed7ee2b643e97279c9c2c4b20'),\n",
       "  HexBytes('0x7a7a1c318e6ae339442eb8dd391c2e271e633453fa7885697f5f154147018ba6'),\n",
       "  HexBytes('0x0589991f2936c2b45f55350ff19dfd0ab265df8d5fb9dbe27ce631c64fab5f8d'),\n",
       "  HexBytes('0x85d25398316179c3c4f249920f22b50a82bf2359faf17ba444bec7b65bc24548'),\n",
       "  HexBytes('0x9da6c3a3c5a33281b914158c960ecf7e8b3790feaa96e4150e27d18a08d672a4'),\n",
       "  HexBytes('0x16497b87f867d5faa79cb192a8a9a37266f90e518c822f36be833892fadfa304'),\n",
       "  HexBytes('0x5521dc59666574878c14b3565692ebd014bafe78fe6c2b31f0be01dfd5b83b52'),\n",
       "  HexBytes('0x64f7f8bcfd34c0b9f3c5430c3db0c70ff84c991b441066a884494007ad51a81f'),\n",
       "  HexBytes('0x529e4a33104d018375f77a11533a549cfd286304d3f22fa0f4297bad999e33f0'),\n",
       "  HexBytes('0x93d7f2c3231e31e8204d7110c45863335b5fe89bdc364c36aa9648f804d5cbc4'),\n",
       "  HexBytes('0x8bda81eeed71d7dfbec69d6ad1c6b883ae61c1d5589f66f6a59de7646e63bcd5'),\n",
       "  HexBytes('0x804c6f688d5355ab9f11abf8fb3c880282a8cda6b53d875a04a7d0bc7b51be8e'),\n",
       "  HexBytes('0xf0651278cc3f52eaace78ec194e4ea341d5c697acd56dac52ac70c91b8f05578'),\n",
       "  HexBytes('0x3a26c4c4224b7ced3fd287f50139715cd8b9c3db47d7e13d623da36683abccd2'),\n",
       "  HexBytes('0x60b2d4c1734cd4e1d4f7f3cc0dbffcfe3d7d4dae58f23f59a156bbd1eca6f495'),\n",
       "  HexBytes('0x0356c2fea9ef69a97c9dc76a88199bcb34df262273c5f6113ab0620ea0e27506'),\n",
       "  HexBytes('0x0894f9055a2d377d7757c6095378c1e25195d95cb605d1d608b478915b0818cf'),\n",
       "  HexBytes('0xe12290f783423054bf85f6caf99e12114df8875837e6acda98c4ea168869429b'),\n",
       "  HexBytes('0x503eb881285dffb4211d11c65b70e4d2c6f67851954dcba8be2d46e47cfa22bb'),\n",
       "  HexBytes('0x521247862e517895f5e791e8d7af9a63e0cf855c1e174b7e35f194fef0bdb65b'),\n",
       "  HexBytes('0xff6be7954ff8cf8a4f799770758d1f55ea156603cabd56f311c0756b0569c861'),\n",
       "  HexBytes('0x44302ac6ef3cab532a862561a39f5f669ae4f88bc002217f0189fc6c0664bacd'),\n",
       "  HexBytes('0x2c48ad369b143b1b3addb8ea45a5ed47c8882978fc00c59511a69f47bdce0df3'),\n",
       "  HexBytes('0x87e4cfab2b4a630c0fc6dd451a1dc09418eb104db8e91c3b2e4e4a1b7edc76ea'),\n",
       "  HexBytes('0x80dcb8f45f8433fdb0299f1855b1d98d9dcdb68700b867cd87fa176d14c25020'),\n",
       "  HexBytes('0x2be898eab49e9e774d315c3966dac17959fe752f18d2011bcd648442754d8ef5'),\n",
       "  HexBytes('0xe62e986af246ab0cdee779063da1f7f161b67c32e02086c086e21e8947b624b8'),\n",
       "  HexBytes('0xe900690baac183bfdb6a588fd12059aec1cbe051997caf7846dc8ae39dc5168b'),\n",
       "  HexBytes('0xf2cda966032dd2241bb29071b210bd3feedc57383d8a040043b73ad61cac3a14'),\n",
       "  HexBytes('0xf6a254ac0b6ff5486b96957d86ea8a425e06a21fc5900c16329cf97d5bacb980'),\n",
       "  HexBytes('0x051f02ad58be3bd54854f8a0cf44a4a9e5f1154c64cba1b60a024166ddc96c7c'),\n",
       "  HexBytes('0xd51339abf81baa8bf6837e9baa4791aed126cb88422633e1f96fc7ae38b6e20b'),\n",
       "  HexBytes('0x2a4412c9c76054ca716e6dbcbf0a6f5fdff895a12a485f28db567fa887a24792'),\n",
       "  HexBytes('0x73d6d4f5a61f30b3a0c18c40d6023728e9f424b092c56eb76ea7f8eb392b5d8e'),\n",
       "  HexBytes('0xa55e71ec25c6f855e6a9d6f448ae7686b77e28518bcc59038ec9541ca976af05'),\n",
       "  HexBytes('0x376f3946077ab0850c3196a6c9520945112f5a59e300b8022ec8640f03ef6203'),\n",
       "  HexBytes('0xf71ee882ce3d0bcee052a0c526dea316ec9c32f3b5ad18425e00b87150da4a95'),\n",
       "  HexBytes('0xec54039d2473b8e5eb297696cab7ad2d2a39a15264f7f675f13db6febeec92b2'),\n",
       "  HexBytes('0x006c03df8bc233381a263fd5e6c0b0434f43ccc47263c7350b9053278a37b0a2'),\n",
       "  HexBytes('0xa43c4a803cde172efe4d37b9e2097fdf5252969ebec2f4ecbc7b824a7c1f4a63'),\n",
       "  HexBytes('0xc9d875de9c2bb2ff4fc5930548674b532a094158a5e8308238caf1aa08f6af43'),\n",
       "  HexBytes('0xf6c7b3d3b8a434632ddf895706aaace7a4e37fff21125962ee1a556d9b46d609'),\n",
       "  HexBytes('0x9c7208a8b9b21a26dfb743eb0d38a74d76fde88eeba14a037cf650f6854bc92e'),\n",
       "  HexBytes('0x1eabfe770e6cc4dc9ed76117b80da91551b83df25ece4074ec38324421c00daa'),\n",
       "  HexBytes('0x3dd28ec734bb0a00a6ace357ca8d18a68cad0109f51449866b106543d2e9d168'),\n",
       "  HexBytes('0x23920491b77b8d44a8128ab1f4c420a8aa983e7c932837dcb0d548510953913f'),\n",
       "  HexBytes('0x67b56827c3e30e134f4478198e71dbca951797ddaec6ec30faa632921a1f3735'),\n",
       "  HexBytes('0x7f8aab6e247d40765359cf5d9e5c7b230285db1aa2c1514a4e1f191c1c0c3628'),\n",
       "  HexBytes('0xb5488e9f271428ed9620c7d6ef47227e1e17fd24c87483f9cc238b4dd016355b'),\n",
       "  HexBytes('0x16bf2fbdc3b72a66461daba4af9cce1f6d16acdcccf311f193a1e3b6b97f9425'),\n",
       "  HexBytes('0x9ad29c882e2c37c1d0d35eeb3cecb462c44c6ca671c2878d5ced53039af1b96d'),\n",
       "  HexBytes('0x54c3214d3b7dd6672ecad14af36d84512b0a523be2af9a6ded3af8ac21ea5aef'),\n",
       "  HexBytes('0xea63177abeda34d16d98a19aa5e53c7499277f2c294bfb5be3058932e96b6f09'),\n",
       "  HexBytes('0x1a6816409f0d42fc1352f4adabdb6a3a46dc4f87ad89cd2b88395b667a0eb6cd'),\n",
       "  HexBytes('0x0983f7b3a976d07cb30f4411d7f573eac88747238bee6c38cd1d3f2008e60800'),\n",
       "  HexBytes('0xfa898561c5355144690e80adc501218bb146ad52ca2f92fd6cdf76e12f2459e8'),\n",
       "  HexBytes('0x0496e07c843396d805fb9e804efcc4fc53d104083d590e9df39e3481c07bb6fb'),\n",
       "  HexBytes('0xaf9bd290a685c392c46e11cf3a8d92bcea9b32e192e3221544b458d4cabe6d16'),\n",
       "  HexBytes('0xc9d859267e323c5e30f0c041f392649e59e56d358ff89dcb350588b5567ba63c'),\n",
       "  HexBytes('0x368420dd2779852d5134998d70c3ae34a46d4599a91185d7c54d48d89dce92b4'),\n",
       "  HexBytes('0xda51c124f200257045f325e6f085e5fba68ce82ebb3ab4f802390ad2406ea903'),\n",
       "  HexBytes('0x53d95c906ea83f4c0a9f21f04bb277a17923e106fc2d435fc83927bc6181e709'),\n",
       "  HexBytes('0x5aaab6b544927f05ab04008421f577b4cf3ba5a2941128f0361a314e87949a9f'),\n",
       "  HexBytes('0x9c7766cead400acc032858a29e4b5b90021eeb6fd956b2995fe605a643ebfc1b'),\n",
       "  HexBytes('0x8035ebc853f0e49aed8e3877f2afa2cb61fdd9a150c7d962218b503eefa03cb4'),\n",
       "  HexBytes('0x05eb1f124802edead3bc386342da59c6af2a2b66c6556f2c95885ad5ad6bc7ea'),\n",
       "  HexBytes('0xb0ee78b616010022e0575cdb1a5d867ece246adab6a525f3ddaff19646dbeb28'),\n",
       "  HexBytes('0x88afa81f00a23d4b038a44ef865f3a3e4c18f449f61c0de166af6e7972dba3ae'),\n",
       "  HexBytes('0xc4e68c4048ef80cea9b6dd08347b52c7b548884d7d9225cacb88fc6d455fadc5'),\n",
       "  HexBytes('0xfedbd5fe82430ef0804938973ead08aa0d0f3af9733836f44037a4c1c5e86329'),\n",
       "  HexBytes('0x433d4ca9a012136b56c62950aeebb8191d3e912dea63d55f8afaa0bbea45314b'),\n",
       "  HexBytes('0x3936cd81f68d524dd5cbd3b4b4b855a36880f4ef1f05d74939f77c3d2bdbddd5'),\n",
       "  HexBytes('0xd349ff4dd34c1fd028ce8abfd20ad3e7008090ac24cfadeb309ad5b2d6618a13'),\n",
       "  HexBytes('0x82ca9c83d1f4b2421af5812f4ffe4aafa5c5e8acbad89cbef3df59bb8e0f25a4'),\n",
       "  HexBytes('0xcd90d79dd3e402eaf4f992fdf0fb0abb1dc52a8dba39a61172307b55b171a0b9'),\n",
       "  HexBytes('0xd917997b192702c658d14b60e028e5d7cf67f91305f393d0a2d33c46ef3241ef'),\n",
       "  HexBytes('0xe482c0115822fef10e8b7f6808b044ee26535767943f99526ea132aeb57dad14'),\n",
       "  HexBytes('0xa0f01b18c3568dae6fd969abf2984b907c117c68442f4cc08223bb52c0a63752'),\n",
       "  HexBytes('0x34bdac8600ed73ca62db07716e519ec38c4debf4fe4e62e3732dd484efc9933f'),\n",
       "  HexBytes('0x60f17172234b36af9d2d58d7d9703cbc72c47f3328ba02116cd7f527c83d44e4'),\n",
       "  HexBytes('0x6e7df61258e1c8b7dd9ec6ee50f08040125a6e574aadc17343759ec093b1db9a'),\n",
       "  HexBytes('0x9034dfd361b331b3d07a36b5d512c99d863a709ab1c785060fc0fb752ae1ac0c'),\n",
       "  HexBytes('0x1e073ae73e284466d1f884b40364a4199fe28c32159c8360f3af5a715411dae1'),\n",
       "  HexBytes('0xa9c2bee9a9f1f901032288a5519615137315de578dc10f0288e24c824d480718'),\n",
       "  HexBytes('0x691f562447c4f7c791ebf009b09edbf86439a445f5d40ae36f132f727781193b'),\n",
       "  HexBytes('0x0e431949bc35526734dc16ddfeb72e909bd0e360a9e676a0b4ab7b38780623d3'),\n",
       "  HexBytes('0x19753bd4e73e884e8571217ce80cbecf7b29d9e571e474c3e6e441c4103127de'),\n",
       "  HexBytes('0x79f7f6760c1863d22da6072a77ba166083e25d7121c8f3d2a3675da47a7eebf7'),\n",
       "  HexBytes('0xbc754cfa6d75b51bd2f5e85c60b097ee008fb12357446b05d70e16e06601fd53'),\n",
       "  HexBytes('0x8c820ecef0e6bba79e97487cb0f0ac59d89b8f2fbf2ff29df48f9e625a4df151'),\n",
       "  HexBytes('0x03bdc9e5ce674e3e4f86b19321633dddaf81c0240adb92058da91b6bb1f0485d'),\n",
       "  HexBytes('0x35a4af23b3dda1b45f25fb6f9bfa9760cc73d16a6d891d17f5fc1fbdab4ec089'),\n",
       "  HexBytes('0xc6d5a720085e79bb8fc0d9cecfd0d7c5194edfa216c65d04762db55c447f85c5'),\n",
       "  HexBytes('0x3cf1a0e9d45488851e71c6a9f943f308da795fc0cee407bb83e970ae6cf1231c'),\n",
       "  HexBytes('0x23e962c06877f4a91e5718a50162b55a222683823d4729b4e1d73c7ea553d20c'),\n",
       "  HexBytes('0x2720f6d28eccd580427dfc4e033d56e7df3c5ffdf24de37cce0760b0d5d55533'),\n",
       "  HexBytes('0x479f229c8ee440e1d7afa9d0b76148b9481ab7fcef9eca357fabd856fe558384'),\n",
       "  HexBytes('0x0a2b3ef9dc50c7800d35ed94ebee827abef3f5a22555fdbd2832541c1dcff05a'),\n",
       "  HexBytes('0xdccbd480a622a840acf4d79b13ed3928d3021ec57cd6ea4a6c3b438205f5aeac'),\n",
       "  HexBytes('0x42b83951ee2857de4aa868cc6d607861fd593c5bc98f3d2e3f3e353f6dfb6b99'),\n",
       "  HexBytes('0x7c7cb56feb0de03cb5474ac737ba3887385a479dc025a8af2ea86ec1a66ee69b'),\n",
       "  HexBytes('0x8cf290c43af85861aa182d2d5860f9fc370dd39297aeebb1a6e85eb7782252e7'),\n",
       "  HexBytes('0xdcd207f7972058a1e1a56e5b19525c6d72ea5a3c9018f24961540cde5652aa3c'),\n",
       "  HexBytes('0xc3003f4b7d79f3b2b5842968467628c143e6b04395575921dd70f7042ca8edf8'),\n",
       "  HexBytes('0xdfaf12fe3f12da073a73846ed2466f7545ea5e6205a3caea930c25f7136a1d57'),\n",
       "  HexBytes('0x09fb10044b3406465316929538fad0241b2e47bb71efd044917bcc57ddb5c710'),\n",
       "  HexBytes('0x84adaf791877d252ebcfb2e16b0f2f7bb7fe4481b93efba9986b1fbd626cbf73'),\n",
       "  HexBytes('0x3e0723bc38e81a63ad0fa98465733c7c7d710e826c355581b41452092b246cc0'),\n",
       "  HexBytes('0x652ca43c87b03abe287b63b2d3a2e182b9df947e2e75e739ead5c485bd0cff9c'),\n",
       "  HexBytes('0xcfe8b291ee5b4b389f3d2569211d657e8a0bc66cf554749664333ad4894696f3'),\n",
       "  HexBytes('0x4c22386e76547809840374edf409f3a21de1a75049452a6346310e24932edc89'),\n",
       "  HexBytes('0xa900cfe708edf2478c5bb2605ce83c9bd9821edf8833fe199286f99f61e30880'),\n",
       "  HexBytes('0x9ad1d8e2f0733f7e19a403f2d35fd8cf29d70989adccaebb2859703886fd17d4'),\n",
       "  HexBytes('0x7a7cdace5d3602d5207b97c1eafbfa039443dacb553a2566eb8d06c83abc68f7'),\n",
       "  HexBytes('0xa62d37f260ca590c30b783236497bb0ae37220d5fadd4f9e7d42737f26236c76'),\n",
       "  HexBytes('0xce24e081cf39c0a9446614952275070f4f28f16bdc43e3ccf7b2740a0bf7c264'),\n",
       "  HexBytes('0x3a92c9406c4cc62b5437cbd194ab0f154ae2129d1defe19bf957ae3303279264'),\n",
       "  HexBytes('0x59deba25f52701c914167921f62ab95ca8d765e59d93b2f8cb979e426c4f3bdc'),\n",
       "  HexBytes('0x790894ee94a6850b99f33858d5942fb7d83f8d7d7005bfa2da7459aae605462c'),\n",
       "  HexBytes('0xd47ef20575b04e43642a725043e5bd276a0d17d120dab34d726494f0ac80ec09'),\n",
       "  HexBytes('0x50b9fe41111e46e68f9c33e0b362847c46e129471e794ebc7ff1254195be3276'),\n",
       "  HexBytes('0x4e1bc205091fde834bc1b939b3582aa6f7a4c85bf2c34ac01ddeb4f31dfe3432'),\n",
       "  HexBytes('0x7347dd99c262285d54f08b50c09a8b22383ef6f2c451f4893c49f20655b4fba5'),\n",
       "  HexBytes('0xf230683974b691229fbb624ed7d11bd8a7e4f03dc0a53b6c4f1c122e407b9e0f'),\n",
       "  HexBytes('0xf4c40e47c51717ffad7638441b429fe6b17567882e4d22958fba4f1519f81d93'),\n",
       "  HexBytes('0xad3dbbc30bb8a0dc82427f24c754e35cba78e99fd7ac19f30d40a4d8add2a1cc'),\n",
       "  HexBytes('0x42aef1593a711ab87f4d565fe635443fb5a13d1fda630ca0c9f52b812672a520'),\n",
       "  HexBytes('0x8e861a455e8a1e88b91e324302bed7cc445468585bb295d694c6101ae6df6a67'),\n",
       "  HexBytes('0x9efc4ee1f828ea67ba14d73f5a631bae923cef2d46794cc631237252a22f17c7'),\n",
       "  HexBytes('0x690842889f59a86869e95411bf4f686193f9dc5aabd99ff3fc0aa5cdf7e86f72'),\n",
       "  HexBytes('0x1ce2c66a46ddf165606d36b2dc2468b456b908300547c167067ac0e7627043d0'),\n",
       "  HexBytes('0xac3bd007b22a70774e60b1e9d5e3c2ae510ffb8d791890f4d120184a3e32138f'),\n",
       "  HexBytes('0x9554931f80a209e165d6ae65a24e81d3bead1e5605984a8f77c7c6c64bef7830'),\n",
       "  HexBytes('0xe334ea6af926fbf2639e2ebdbbf0b68bec2181ff3d7055c7df46b902d0c0fe0e'),\n",
       "  HexBytes('0xd45d98e9d2ba893e1c1bdc8869cfe1812591d90021a6718e23496dd6c11ee0b0'),\n",
       "  HexBytes('0x7f05782ce398eef0c05587f3b0145e040c21ed13a2e2dfad681a43f0452b170f')],\n",
       " 'transactionsRoot': HexBytes('0x2858a034a96100419b85fff1fddb4ca55845ae2c7fb0dac4dc2581888fcccb3c'),\n",
       " 'uncles': []})"
      ]
     },
     "execution_count": 7,
     "metadata": {},
     "output_type": "execute_result"
    }
   ],
   "source": [
    "latest_block = w3.eth.get_block('latest')\n",
    "latest_block"
   ]
  },
  {
   "cell_type": "code",
   "execution_count": 8,
   "id": "baef1af8-4585-4009-b644-4c3f23a2605d",
   "metadata": {},
   "outputs": [
    {
     "data": {
      "text/plain": [
       "True"
      ]
     },
     "execution_count": 8,
     "metadata": {},
     "output_type": "execute_result"
    }
   ],
   "source": [
    "w3.isAddress('0x6bfEC8048fE2B1424a7961262471207c2Dea9CD5')"
   ]
  },
  {
   "cell_type": "code",
   "execution_count": 9,
   "id": "e401efad-2536-4802-b693-5c422937e8b3",
   "metadata": {},
   "outputs": [
    {
     "data": {
      "text/plain": [
       "0"
      ]
     },
     "execution_count": 9,
     "metadata": {},
     "output_type": "execute_result"
    }
   ],
   "source": [
    "wallet = w3.toChecksumAddress('0x6bfEC8048fE2B1424a7961262471207c2Dea9CD5')\n",
    "w3.eth.get_balance(wallet)"
   ]
  },
  {
   "cell_type": "markdown",
   "id": "c1c80e59-2ad2-461b-b6ac-2fb00feb02f5",
   "metadata": {},
   "source": [
    "# Interact with a smart contract on ethbc"
   ]
  },
  {
   "cell_type": "code",
   "execution_count": 10,
   "id": "a0d052cd-2846-493a-8ed6-8cc75e48377a",
   "metadata": {},
   "outputs": [
    {
     "data": {
      "text/plain": [
       "'BoredApeYachtClub'"
      ]
     },
     "execution_count": 10,
     "metadata": {},
     "output_type": "execute_result"
    }
   ],
   "source": [
    "abi = '[{\"inputs\":[{\"internalType\":\"string\",\"name\":\"name\",\"type\":\"string\"},{\"internalType\":\"string\",\"name\":\"symbol\",\"type\":\"string\"},{\"internalType\":\"uint256\",\"name\":\"maxNftSupply\",\"type\":\"uint256\"},{\"internalType\":\"uint256\",\"name\":\"saleStart\",\"type\":\"uint256\"}],\"stateMutability\":\"nonpayable\",\"type\":\"constructor\"},{\"anonymous\":false,\"inputs\":[{\"indexed\":true,\"internalType\":\"address\",\"name\":\"owner\",\"type\":\"address\"},{\"indexed\":true,\"internalType\":\"address\",\"name\":\"approved\",\"type\":\"address\"},{\"indexed\":true,\"internalType\":\"uint256\",\"name\":\"tokenId\",\"type\":\"uint256\"}],\"name\":\"Approval\",\"type\":\"event\"},{\"anonymous\":false,\"inputs\":[{\"indexed\":true,\"internalType\":\"address\",\"name\":\"owner\",\"type\":\"address\"},{\"indexed\":true,\"internalType\":\"address\",\"name\":\"operator\",\"type\":\"address\"},{\"indexed\":false,\"internalType\":\"bool\",\"name\":\"approved\",\"type\":\"bool\"}],\"name\":\"ApprovalForAll\",\"type\":\"event\"},{\"anonymous\":false,\"inputs\":[{\"indexed\":true,\"internalType\":\"address\",\"name\":\"previousOwner\",\"type\":\"address\"},{\"indexed\":true,\"internalType\":\"address\",\"name\":\"newOwner\",\"type\":\"address\"}],\"name\":\"OwnershipTransferred\",\"type\":\"event\"},{\"anonymous\":false,\"inputs\":[{\"indexed\":true,\"internalType\":\"address\",\"name\":\"from\",\"type\":\"address\"},{\"indexed\":true,\"internalType\":\"address\",\"name\":\"to\",\"type\":\"address\"},{\"indexed\":true,\"internalType\":\"uint256\",\"name\":\"tokenId\",\"type\":\"uint256\"}],\"name\":\"Transfer\",\"type\":\"event\"},{\"inputs\":[],\"name\":\"BAYC_PROVENANCE\",\"outputs\":[{\"internalType\":\"string\",\"name\":\"\",\"type\":\"string\"}],\"stateMutability\":\"view\",\"type\":\"function\"},{\"inputs\":[],\"name\":\"MAX_APES\",\"outputs\":[{\"internalType\":\"uint256\",\"name\":\"\",\"type\":\"uint256\"}],\"stateMutability\":\"view\",\"type\":\"function\"},{\"inputs\":[],\"name\":\"REVEAL_TIMESTAMP\",\"outputs\":[{\"internalType\":\"uint256\",\"name\":\"\",\"type\":\"uint256\"}],\"stateMutability\":\"view\",\"type\":\"function\"},{\"inputs\":[],\"name\":\"apePrice\",\"outputs\":[{\"internalType\":\"uint256\",\"name\":\"\",\"type\":\"uint256\"}],\"stateMutability\":\"view\",\"type\":\"function\"},{\"inputs\":[{\"internalType\":\"address\",\"name\":\"to\",\"type\":\"address\"},{\"internalType\":\"uint256\",\"name\":\"tokenId\",\"type\":\"uint256\"}],\"name\":\"approve\",\"outputs\":[],\"stateMutability\":\"nonpayable\",\"type\":\"function\"},{\"inputs\":[{\"internalType\":\"address\",\"name\":\"owner\",\"type\":\"address\"}],\"name\":\"balanceOf\",\"outputs\":[{\"internalType\":\"uint256\",\"name\":\"\",\"type\":\"uint256\"}],\"stateMutability\":\"view\",\"type\":\"function\"},{\"inputs\":[],\"name\":\"baseURI\",\"outputs\":[{\"internalType\":\"string\",\"name\":\"\",\"type\":\"string\"}],\"stateMutability\":\"view\",\"type\":\"function\"},{\"inputs\":[],\"name\":\"emergencySetStartingIndexBlock\",\"outputs\":[],\"stateMutability\":\"nonpayable\",\"type\":\"function\"},{\"inputs\":[],\"name\":\"flipSaleState\",\"outputs\":[],\"stateMutability\":\"nonpayable\",\"type\":\"function\"},{\"inputs\":[{\"internalType\":\"uint256\",\"name\":\"tokenId\",\"type\":\"uint256\"}],\"name\":\"getApproved\",\"outputs\":[{\"internalType\":\"address\",\"name\":\"\",\"type\":\"address\"}],\"stateMutability\":\"view\",\"type\":\"function\"},{\"inputs\":[{\"internalType\":\"address\",\"name\":\"owner\",\"type\":\"address\"},{\"internalType\":\"address\",\"name\":\"operator\",\"type\":\"address\"}],\"name\":\"isApprovedForAll\",\"outputs\":[{\"internalType\":\"bool\",\"name\":\"\",\"type\":\"bool\"}],\"stateMutability\":\"view\",\"type\":\"function\"},{\"inputs\":[],\"name\":\"maxApePurchase\",\"outputs\":[{\"internalType\":\"uint256\",\"name\":\"\",\"type\":\"uint256\"}],\"stateMutability\":\"view\",\"type\":\"function\"},{\"inputs\":[{\"internalType\":\"uint256\",\"name\":\"numberOfTokens\",\"type\":\"uint256\"}],\"name\":\"mintApe\",\"outputs\":[],\"stateMutability\":\"payable\",\"type\":\"function\"},{\"inputs\":[],\"name\":\"name\",\"outputs\":[{\"internalType\":\"string\",\"name\":\"\",\"type\":\"string\"}],\"stateMutability\":\"view\",\"type\":\"function\"},{\"inputs\":[],\"name\":\"owner\",\"outputs\":[{\"internalType\":\"address\",\"name\":\"\",\"type\":\"address\"}],\"stateMutability\":\"view\",\"type\":\"function\"},{\"inputs\":[{\"internalType\":\"uint256\",\"name\":\"tokenId\",\"type\":\"uint256\"}],\"name\":\"ownerOf\",\"outputs\":[{\"internalType\":\"address\",\"name\":\"\",\"type\":\"address\"}],\"stateMutability\":\"view\",\"type\":\"function\"},{\"inputs\":[],\"name\":\"renounceOwnership\",\"outputs\":[],\"stateMutability\":\"nonpayable\",\"type\":\"function\"},{\"inputs\":[],\"name\":\"reserveApes\",\"outputs\":[],\"stateMutability\":\"nonpayable\",\"type\":\"function\"},{\"inputs\":[{\"internalType\":\"address\",\"name\":\"from\",\"type\":\"address\"},{\"internalType\":\"address\",\"name\":\"to\",\"type\":\"address\"},{\"internalType\":\"uint256\",\"name\":\"tokenId\",\"type\":\"uint256\"}],\"name\":\"safeTransferFrom\",\"outputs\":[],\"stateMutability\":\"nonpayable\",\"type\":\"function\"},{\"inputs\":[{\"internalType\":\"address\",\"name\":\"from\",\"type\":\"address\"},{\"internalType\":\"address\",\"name\":\"to\",\"type\":\"address\"},{\"internalType\":\"uint256\",\"name\":\"tokenId\",\"type\":\"uint256\"},{\"internalType\":\"bytes\",\"name\":\"_data\",\"type\":\"bytes\"}],\"name\":\"safeTransferFrom\",\"outputs\":[],\"stateMutability\":\"nonpayable\",\"type\":\"function\"},{\"inputs\":[],\"name\":\"saleIsActive\",\"outputs\":[{\"internalType\":\"bool\",\"name\":\"\",\"type\":\"bool\"}],\"stateMutability\":\"view\",\"type\":\"function\"},{\"inputs\":[{\"internalType\":\"address\",\"name\":\"operator\",\"type\":\"address\"},{\"internalType\":\"bool\",\"name\":\"approved\",\"type\":\"bool\"}],\"name\":\"setApprovalForAll\",\"outputs\":[],\"stateMutability\":\"nonpayable\",\"type\":\"function\"},{\"inputs\":[{\"internalType\":\"string\",\"name\":\"baseURI\",\"type\":\"string\"}],\"name\":\"setBaseURI\",\"outputs\":[],\"stateMutability\":\"nonpayable\",\"type\":\"function\"},{\"inputs\":[{\"internalType\":\"string\",\"name\":\"provenanceHash\",\"type\":\"string\"}],\"name\":\"setProvenanceHash\",\"outputs\":[],\"stateMutability\":\"nonpayable\",\"type\":\"function\"},{\"inputs\":[{\"internalType\":\"uint256\",\"name\":\"revealTimeStamp\",\"type\":\"uint256\"}],\"name\":\"setRevealTimestamp\",\"outputs\":[],\"stateMutability\":\"nonpayable\",\"type\":\"function\"},{\"inputs\":[],\"name\":\"setStartingIndex\",\"outputs\":[],\"stateMutability\":\"nonpayable\",\"type\":\"function\"},{\"inputs\":[],\"name\":\"startingIndex\",\"outputs\":[{\"internalType\":\"uint256\",\"name\":\"\",\"type\":\"uint256\"}],\"stateMutability\":\"view\",\"type\":\"function\"},{\"inputs\":[],\"name\":\"startingIndexBlock\",\"outputs\":[{\"internalType\":\"uint256\",\"name\":\"\",\"type\":\"uint256\"}],\"stateMutability\":\"view\",\"type\":\"function\"},{\"inputs\":[{\"internalType\":\"bytes4\",\"name\":\"interfaceId\",\"type\":\"bytes4\"}],\"name\":\"supportsInterface\",\"outputs\":[{\"internalType\":\"bool\",\"name\":\"\",\"type\":\"bool\"}],\"stateMutability\":\"view\",\"type\":\"function\"},{\"inputs\":[],\"name\":\"symbol\",\"outputs\":[{\"internalType\":\"string\",\"name\":\"\",\"type\":\"string\"}],\"stateMutability\":\"view\",\"type\":\"function\"},{\"inputs\":[{\"internalType\":\"uint256\",\"name\":\"index\",\"type\":\"uint256\"}],\"name\":\"tokenByIndex\",\"outputs\":[{\"internalType\":\"uint256\",\"name\":\"\",\"type\":\"uint256\"}],\"stateMutability\":\"view\",\"type\":\"function\"},{\"inputs\":[{\"internalType\":\"address\",\"name\":\"owner\",\"type\":\"address\"},{\"internalType\":\"uint256\",\"name\":\"index\",\"type\":\"uint256\"}],\"name\":\"tokenOfOwnerByIndex\",\"outputs\":[{\"internalType\":\"uint256\",\"name\":\"\",\"type\":\"uint256\"}],\"stateMutability\":\"view\",\"type\":\"function\"},{\"inputs\":[{\"internalType\":\"uint256\",\"name\":\"tokenId\",\"type\":\"uint256\"}],\"name\":\"tokenURI\",\"outputs\":[{\"internalType\":\"string\",\"name\":\"\",\"type\":\"string\"}],\"stateMutability\":\"view\",\"type\":\"function\"},{\"inputs\":[],\"name\":\"totalSupply\",\"outputs\":[{\"internalType\":\"uint256\",\"name\":\"\",\"type\":\"uint256\"}],\"stateMutability\":\"view\",\"type\":\"function\"},{\"inputs\":[{\"internalType\":\"address\",\"name\":\"from\",\"type\":\"address\"},{\"internalType\":\"address\",\"name\":\"to\",\"type\":\"address\"},{\"internalType\":\"uint256\",\"name\":\"tokenId\",\"type\":\"uint256\"}],\"name\":\"transferFrom\",\"outputs\":[],\"stateMutability\":\"nonpayable\",\"type\":\"function\"},{\"inputs\":[{\"internalType\":\"address\",\"name\":\"newOwner\",\"type\":\"address\"}],\"name\":\"transferOwnership\",\"outputs\":[],\"stateMutability\":\"nonpayable\",\"type\":\"function\"},{\"inputs\":[],\"name\":\"withdraw\",\"outputs\":[],\"stateMutability\":\"nonpayable\",\"type\":\"function\"}]'\n",
    "contract_address = '0xBC4CA0EdA7647A8aB7C2061c2E118A18a936f13D'\n",
    "\n",
    "contract_instance = w3.eth.contract(address=contract_address, abi=abi)\n",
    "\n",
    "contract_instance.functions.name().call()"
   ]
  },
  {
   "cell_type": "code",
   "execution_count": 11,
   "id": "9f6093bd-761a-468f-84df-3e526259b7bf",
   "metadata": {},
   "outputs": [
    {
     "data": {
      "text/plain": [
       "'BAYC'"
      ]
     },
     "execution_count": 11,
     "metadata": {},
     "output_type": "execute_result"
    }
   ],
   "source": [
    "contract_instance.functions.symbol().call()"
   ]
  },
  {
   "cell_type": "markdown",
   "id": "51aab838-6c6b-4c29-be0d-78596fcc6171",
   "metadata": {},
   "source": [
    "# Compiling Solidity contract"
   ]
  },
  {
   "cell_type": "code",
   "execution_count": 12,
   "id": "0241ec72-4e5d-4ef2-8494-cfb56a0478fe",
   "metadata": {},
   "outputs": [],
   "source": [
    "import solcx\n",
    "solcx.get_installable_solc_versions()\n",
    "solcx.install_solc()\n",
    "\n",
    "from solcx import compile_source"
   ]
  },
  {
   "cell_type": "code",
   "execution_count": 13,
   "id": "d59f6b7f-d24f-40d3-a76c-02ce621d8735",
   "metadata": {},
   "outputs": [],
   "source": [
    "compiled_contract = compile_source(\n",
    "'''\n",
    "// SPDX-License-Identifier: UNLICENCED\n",
    "pragma solidity >= 0.8.17;\n",
    "\n",
    "contract Greeter{\n",
    "    string public greeting;\n",
    "\n",
    "    constructor() public {\n",
    "      greeting = \"Hello world!\";\n",
    "    }\n",
    "\n",
    "    function setGreeting(string calldata greeting1) public{\n",
    "        greeting = greeting1;\n",
    "    }\n",
    "\n",
    "    function greet() external view returns(string memory) {\n",
    "        return greeting;\n",
    "    }\n",
    "}\n",
    "''', output_values=['abi', 'bin'])"
   ]
  },
  {
   "cell_type": "code",
   "execution_count": 14,
   "id": "9620af17-3fa5-4126-b377-63d1f9a15581",
   "metadata": {},
   "outputs": [
    {
     "data": {
      "text/plain": [
       "{'<stdin>:Greeter': {'abi': [{'inputs': [],\n",
       "    'stateMutability': 'nonpayable',\n",
       "    'type': 'constructor'},\n",
       "   {'inputs': [],\n",
       "    'name': 'greet',\n",
       "    'outputs': [{'internalType': 'string', 'name': '', 'type': 'string'}],\n",
       "    'stateMutability': 'view',\n",
       "    'type': 'function'},\n",
       "   {'inputs': [],\n",
       "    'name': 'greeting',\n",
       "    'outputs': [{'internalType': 'string', 'name': '', 'type': 'string'}],\n",
       "    'stateMutability': 'view',\n",
       "    'type': 'function'},\n",
       "   {'inputs': [{'internalType': 'string',\n",
       "      'name': 'greeting1',\n",
       "      'type': 'string'}],\n",
       "    'name': 'setGreeting',\n",
       "    'outputs': [],\n",
       "    'stateMutability': 'nonpayable',\n",
       "    'type': 'function'}],\n",
       "  'bin': '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'}}"
      ]
     },
     "execution_count": 14,
     "metadata": {},
     "output_type": "execute_result"
    }
   ],
   "source": [
    "compiled_contract"
   ]
  },
  {
   "cell_type": "code",
   "execution_count": 15,
   "id": "6382eba6-86b7-4297-a75a-325e1fa8f3bc",
   "metadata": {},
   "outputs": [],
   "source": [
    "contract_name, contract_interface = compiled_contract.popitem()"
   ]
  },
  {
   "cell_type": "code",
   "execution_count": 16,
   "id": "208704ae-d999-46d6-8437-ec5077b069d6",
   "metadata": {},
   "outputs": [
    {
     "data": {
      "text/plain": [
       "'<stdin>:Greeter'"
      ]
     },
     "execution_count": 16,
     "metadata": {},
     "output_type": "execute_result"
    }
   ],
   "source": [
    "contract_name"
   ]
  },
  {
   "cell_type": "code",
   "execution_count": 17,
   "id": "97cb1e58-f840-45ba-80b6-16e00dc8dc29",
   "metadata": {},
   "outputs": [
    {
     "data": {
      "text/plain": [
       "{'abi': [{'inputs': [],\n",
       "   'stateMutability': 'nonpayable',\n",
       "   'type': 'constructor'},\n",
       "  {'inputs': [],\n",
       "   'name': 'greet',\n",
       "   'outputs': [{'internalType': 'string', 'name': '', 'type': 'string'}],\n",
       "   'stateMutability': 'view',\n",
       "   'type': 'function'},\n",
       "  {'inputs': [],\n",
       "   'name': 'greeting',\n",
       "   'outputs': [{'internalType': 'string', 'name': '', 'type': 'string'}],\n",
       "   'stateMutability': 'view',\n",
       "   'type': 'function'},\n",
       "  {'inputs': [{'internalType': 'string',\n",
       "     'name': 'greeting1',\n",
       "     'type': 'string'}],\n",
       "   'name': 'setGreeting',\n",
       "   'outputs': [],\n",
       "   'stateMutability': 'nonpayable',\n",
       "   'type': 'function'}],\n",
       " 'bin': '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'}"
      ]
     },
     "execution_count": 17,
     "metadata": {},
     "output_type": "execute_result"
    }
   ],
   "source": [
    "contract_interface"
   ]
  },
  {
   "cell_type": "markdown",
   "id": "966473b6-37cb-4524-87c1-d7b0c59c40f5",
   "metadata": {},
   "source": [
    "# Interacting with smart contracts"
   ]
  },
  {
   "cell_type": "code",
   "execution_count": 23,
   "id": "8e056725-d8f5-4204-a7ca-abd334c976e8",
   "metadata": {
    "tags": []
   },
   "outputs": [],
   "source": [
    "w3 = Web3(Web3.HTTPProvider(ganache_url))\n",
    "w3.eth.default_account = '0xE3f6d865A11958cb2c765B56FBeD78712637CbE6'\n",
    "\n",
    "greeter = w3.eth.contract(abi=contract_interface['abi'], bytecode=contract_interface['bin'])"
   ]
  },
  {
   "cell_type": "code",
   "execution_count": 24,
   "id": "b4172a68-35bc-4c60-ad8c-d330dbe11198",
   "metadata": {},
   "outputs": [],
   "source": [
    "tx_hash = greeter.constructor().transact()"
   ]
  },
  {
   "cell_type": "code",
   "execution_count": 26,
   "id": "faf593ce-c451-4d8d-8b1b-68e1c2de9d57",
   "metadata": {},
   "outputs": [
    {
     "data": {
      "text/plain": [
       "AttributeDict({'transactionHash': HexBytes('0xa7307fca81ff6da7b690e0b3c099641a4d2e3618354c22187368261a9969a310'),\n",
       " 'transactionIndex': 0,\n",
       " 'blockHash': HexBytes('0xe95ab1c5c5467de9268ad6fde75f8f3748e0e779ae51818b7f7971f2a2c9b38a'),\n",
       " 'blockNumber': 1,\n",
       " 'from': '0xE3f6d865A11958cb2c765B56FBeD78712637CbE6',\n",
       " 'to': None,\n",
       " 'gasUsed': 451321,\n",
       " 'cumulativeGasUsed': 451321,\n",
       " 'contractAddress': '0x1E0Cea656Bd26dd9b1032194BFb7b03949e1cCf6',\n",
       " 'logs': [],\n",
       " 'status': 1,\n",
       " 'logsBloom': HexBytes('0x00000000000000000000000000000000000000000000000000000000000000000000000000000000000000000000000000000000000000000000000000000000000000000000000000000000000000000000000000000000000000000000000000000000000000000000000000000000000000000000000000000000000000000000000000000000000000000000000000000000000000000000000000000000000000000000000000000000000000000000000000000000000000000000000000000000000000000000000000000000000000000000000000000000000000000000000000000000000000000000000000000000000000000000000000000000')})"
      ]
     },
     "execution_count": 26,
     "metadata": {},
     "output_type": "execute_result"
    }
   ],
   "source": [
    "tx_receipt = w3.eth.wait_for_transaction_receipt(tx_hash)\n",
    "tx_receipt"
   ]
  },
  {
   "cell_type": "code",
   "execution_count": 30,
   "id": "62041f9d-8530-48e8-a5ec-19a7e5f08f2d",
   "metadata": {},
   "outputs": [
    {
     "data": {
      "text/plain": [
       "<web3._utils.datatypes.Contract at 0x7f6ac9766c80>"
      ]
     },
     "execution_count": 30,
     "metadata": {},
     "output_type": "execute_result"
    }
   ],
   "source": [
    "greeeter_contract_instance = w3.eth.contract(address = tx_receipt.contractAddress, abi=contract_interface['abi'])\n",
    "greeeter_contract_instance"
   ]
  },
  {
   "cell_type": "code",
   "execution_count": 31,
   "id": "8cbe577e-f180-4e8f-b253-01b9fe097719",
   "metadata": {},
   "outputs": [
    {
     "data": {
      "text/plain": [
       "'Hello world!'"
      ]
     },
     "execution_count": 31,
     "metadata": {},
     "output_type": "execute_result"
    }
   ],
   "source": [
    "greeeter_contract_instance.functions.greet().call()"
   ]
  },
  {
   "cell_type": "code",
   "execution_count": 35,
   "id": "0dd3bb14-1fd7-42be-b024-63ddd34658c1",
   "metadata": {},
   "outputs": [
    {
     "data": {
      "text/plain": [
       "AttributeDict({'transactionHash': HexBytes('0x3e632d654df22a78452f4f729e701a4750525aee72897cc87697fd0aad62ab4b'),\n",
       " 'transactionIndex': 0,\n",
       " 'blockHash': HexBytes('0x13a50d6fd707cec37440fda524ac1641fbf65360edfe53683f140c735d668ae5'),\n",
       " 'blockNumber': 4,\n",
       " 'from': '0xE3f6d865A11958cb2c765B56FBeD78712637CbE6',\n",
       " 'to': '0x1E0Cea656Bd26dd9b1032194BFb7b03949e1cCf6',\n",
       " 'gasUsed': 24302,\n",
       " 'cumulativeGasUsed': 24302,\n",
       " 'contractAddress': None,\n",
       " 'logs': [],\n",
       " 'status': 1,\n",
       " 'logsBloom': HexBytes('0x00000000000000000000000000000000000000000000000000000000000000000000000000000000000000000000000000000000000000000000000000000000000000000000000000000000000000000000000000000000000000000000000000000000000000000000000000000000000000000000000000000000000000000000000000000000000000000000000000000000000000000000000000000000000000000000000000000000000000000000000000000000000000000000000000000000000000000000000000000000000000000000000000000000000000000000000000000000000000000000000000000000000000000000000000000000')})"
      ]
     },
     "execution_count": 35,
     "metadata": {},
     "output_type": "execute_result"
    }
   ],
   "source": [
    "tx_hash = greeeter_contract_instance.functions.setGreeting('Hello, Rahul!').transact()\n",
    "tx_receipt = w3.eth.wait_for_transaction_receipt(tx_hash)\n",
    "tx_receipt"
   ]
  },
  {
   "cell_type": "code",
   "execution_count": 36,
   "id": "6333ae62-d78f-4978-aeaf-410c5c52fa51",
   "metadata": {},
   "outputs": [
    {
     "data": {
      "text/plain": [
       "'Hello, Rahul!'"
      ]
     },
     "execution_count": 36,
     "metadata": {},
     "output_type": "execute_result"
    }
   ],
   "source": [
    "greeeter_contract_instance.functions.greet().call()"
   ]
  },
  {
   "cell_type": "code",
   "execution_count": null,
   "id": "194fb03a-d7d9-49fe-b881-d73602a5ec61",
   "metadata": {},
   "outputs": [],
   "source": []
  }
 ],
 "metadata": {
  "kernelspec": {
   "display_name": "Python 3 (ipykernel)",
   "language": "python",
   "name": "python3"
  },
  "language_info": {
   "codemirror_mode": {
    "name": "ipython",
    "version": 3
   },
   "file_extension": ".py",
   "mimetype": "text/x-python",
   "name": "python",
   "nbconvert_exporter": "python",
   "pygments_lexer": "ipython3",
   "version": "3.10.7"
  }
 },
 "nbformat": 4,
 "nbformat_minor": 5
}
