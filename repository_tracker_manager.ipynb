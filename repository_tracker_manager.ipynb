{
 "cells": [
  {
   "cell_type": "markdown",
   "id": "ae3cd079-41e6-4626-aeb4-f2145010162f",
   "metadata": {},
   "source": [
    "### Note: requires ganache-cli to be installed\n",
    "### Start ganache-cli as ganache-cli -d --db /data2/web3/ganachedb -i 1234"
   ]
  },
  {
   "cell_type": "code",
   "execution_count": 1,
   "id": "0142f8de-4629-45c6-82e7-40e439e4aff5",
   "metadata": {},
   "outputs": [],
   "source": [
    "from web3 import Web3"
   ]
  },
  {
   "cell_type": "markdown",
   "id": "45b14657-7cbf-498b-bd6a-7aa313a3ef52",
   "metadata": {},
   "source": [
    "# Code to compile .sol file and export EVM bytecode and ABI to JSON"
   ]
  },
  {
   "cell_type": "code",
   "execution_count": 2,
   "id": "9c15bbe0-b132-4f08-a54b-3f79c8d3cdce",
   "metadata": {},
   "outputs": [
    {
     "name": "stdout",
     "output_type": "stream",
     "text": [
      "// SPDX-License-Identifier: MIT\n",
      "pragma solidity >=0.8.17;\n",
      "\n",
      "contract RepositoryTracker {\n",
      "    string private _ipfsAddress;\n",
      "    string private _friendlyName;\n",
      "    address private _owner;\n",
      "\n",
      "    constructor(string memory bafyHash, string memory friendlyName) {\n",
      "        _owner = msg.sender;\n",
      "        _ipfsAddress = bafyHash;\n",
      "        _friendlyName = friendlyName;\n",
      "    }\n",
      "\n",
      "// Ownership stuff\n",
      "    function owner() public view virtual returns (address) {\n",
      "        return _owner;\n",
      "    }\n",
      "    \n",
      "    modifier onlyOwner() {\n",
      "        require(\n",
      "            owner() == msg.sender,\n",
      "            \"Ownership Assertion: Caller of the function is not the owner.\"\n",
      "        );\n",
      "        _;\n",
      "    }\n",
      "\n",
      "    function transferOwnership(address newOwner) public virtual onlyOwner {\n",
      "        _owner = newOwner;\n",
      "    }\n",
      "// End ownership stuff!\n",
      "// TODO: extend ownership to contributors or other relations\n",
      "// TODO: migrate to OpenZeppelin Ownable class\n",
      "\n",
      "    function setIpfsAddress(string calldata bafyHash) public onlyOwner {\n",
      "        _ipfsAddress = bafyHash;\n",
      "    }\n",
      "    function setFriendlyName(string calldata friendlyName) public onlyOwner {\n",
      "        _friendlyName = friendlyName;\n",
      "    }\n",
      "    function getIpfsAddress() external view returns (string memory) {\n",
      "        return _ipfsAddress;\n",
      "    }\n",
      "    function getFriendlyName() external view returns (string memory) {\n",
      "        return _friendlyName;\n",
      "    }\n",
      "}\n",
      "\n"
     ]
    }
   ],
   "source": [
    "contract_path = \"RepositoryTracker.sol\"\n",
    "with open(contract_path, \"r\") as file:\n",
    "    contract_file = file.read()\n",
    "print(contract_file)"
   ]
  },
  {
   "cell_type": "code",
   "execution_count": 3,
   "id": "032f20c7-a09f-4848-a8b8-8510dbb66814",
   "metadata": {},
   "outputs": [],
   "source": [
    "from solcx import compile_standard\n",
    "\n",
    "compiled_solidity = compile_standard(\n",
    "    {\n",
    "        \"language\": \"Solidity\",\n",
    "        \"sources\": {\n",
    "            \"RepositoryTracker.sol\": {\n",
    "                \"content\": contract_file,\n",
    "            }\n",
    "        },\n",
    "        \"settings\": {\n",
    "            \"outputSelection\": {\n",
    "                \"*\": {\"*\": [\"abi\", \"metadata\", \"evm.bytecode\", \"evm.sourceMap\"]}\n",
    "            }\n",
    "        },\n",
    "    },\n",
    "    solc_version=\"0.8.17\",\n",
    ")"
   ]
  },
  {
   "cell_type": "code",
   "execution_count": 4,
   "id": "4401d1c0-a470-4aa0-9a66-d021a94bcc46",
   "metadata": {},
   "outputs": [],
   "source": [
    "import json\n",
    "\n",
    "with open(\"compiled_contract.json\", \"w\") as file:\n",
    "    json.dump(compiled_solidity, file)"
   ]
  },
  {
   "cell_type": "markdown",
   "id": "021813b6-83de-4e84-b218-517174011034",
   "metadata": {
    "tags": []
   },
   "source": [
    "# Get ABI and EVM bytecode"
   ]
  },
  {
   "cell_type": "code",
   "execution_count": 5,
   "id": "d29fd6e5-fda7-44f7-bbca-9c8b3da96dc2",
   "metadata": {},
   "outputs": [
    {
     "data": {
      "text/plain": [
       "[{'inputs': [{'internalType': 'string', 'name': 'bafyHash', 'type': 'string'},\n",
       "   {'internalType': 'string', 'name': 'friendlyName', 'type': 'string'}],\n",
       "  'stateMutability': 'nonpayable',\n",
       "  'type': 'constructor'},\n",
       " {'inputs': [],\n",
       "  'name': 'getFriendlyName',\n",
       "  'outputs': [{'internalType': 'string', 'name': '', 'type': 'string'}],\n",
       "  'stateMutability': 'view',\n",
       "  'type': 'function'},\n",
       " {'inputs': [],\n",
       "  'name': 'getIpfsAddress',\n",
       "  'outputs': [{'internalType': 'string', 'name': '', 'type': 'string'}],\n",
       "  'stateMutability': 'view',\n",
       "  'type': 'function'},\n",
       " {'inputs': [],\n",
       "  'name': 'owner',\n",
       "  'outputs': [{'internalType': 'address', 'name': '', 'type': 'address'}],\n",
       "  'stateMutability': 'view',\n",
       "  'type': 'function'},\n",
       " {'inputs': [{'internalType': 'string',\n",
       "    'name': 'friendlyName',\n",
       "    'type': 'string'}],\n",
       "  'name': 'setFriendlyName',\n",
       "  'outputs': [],\n",
       "  'stateMutability': 'nonpayable',\n",
       "  'type': 'function'},\n",
       " {'inputs': [{'internalType': 'string', 'name': 'bafyHash', 'type': 'string'}],\n",
       "  'name': 'setIpfsAddress',\n",
       "  'outputs': [],\n",
       "  'stateMutability': 'nonpayable',\n",
       "  'type': 'function'},\n",
       " {'inputs': [{'internalType': 'address',\n",
       "    'name': 'newOwner',\n",
       "    'type': 'address'}],\n",
       "  'name': 'transferOwnership',\n",
       "  'outputs': [],\n",
       "  'stateMutability': 'nonpayable',\n",
       "  'type': 'function'}]"
      ]
     },
     "execution_count": 5,
     "metadata": {},
     "output_type": "execute_result"
    }
   ],
   "source": [
    "abi = compiled_solidity['contracts']['RepositoryTracker.sol']['RepositoryTracker']['abi']\n",
    "abi"
   ]
  },
  {
   "cell_type": "code",
   "execution_count": 6,
   "id": "b7924fd7-7f7c-4445-a7af-f212c36b4324",
   "metadata": {},
   "outputs": [],
   "source": [
    "bytecode = compiled_solidity['contracts']['RepositoryTracker.sol']['RepositoryTracker']['evm']['bytecode']['object']\n",
    "# bytecode"
   ]
  },
  {
   "cell_type": "markdown",
   "id": "b9bb1d19-3f3e-4ce4-848c-4ffbf3bfab0a",
   "metadata": {},
   "source": [
    "# Connect to Test net (Goerli/Ganache local)"
   ]
  },
  {
   "cell_type": "code",
   "execution_count": 7,
   "id": "ab6a8907-ed50-4d90-bdc9-a0b8d3dd4c5f",
   "metadata": {},
   "outputs": [
    {
     "data": {
      "text/plain": [
       "True"
      ]
     },
     "execution_count": 7,
     "metadata": {},
     "output_type": "execute_result"
    }
   ],
   "source": [
    "ropsten_url = 'https://goerli.infura.io/v3/5953d19885cd43218c5d03280949a537'\n",
    "ganache_url = 'http://localhost:8545'\n",
    "\n",
    "w3 = Web3(Web3.HTTPProvider(ganache_url))\n",
    "w3.isConnected()"
   ]
  },
  {
   "cell_type": "code",
   "execution_count": 8,
   "id": "0defa088-14a6-4c2d-a641-ebdd935f2126",
   "metadata": {},
   "outputs": [
    {
     "data": {
      "text/plain": [
       "web3._utils.datatypes.Contract"
      ]
     },
     "execution_count": 8,
     "metadata": {},
     "output_type": "execute_result"
    }
   ],
   "source": [
    "RepositoryTracker = w3.eth.contract(abi=abi, bytecode=bytecode)\n",
    "RepositoryTracker"
   ]
  },
  {
   "cell_type": "markdown",
   "id": "8de28d1d-6fee-4a3b-be52-988109adf6ab",
   "metadata": {
    "tags": []
   },
   "source": [
    "# Deploy Transaction (each repository to be tracked requires a new contract to be deployed)"
   ]
  },
  {
   "cell_type": "code",
   "execution_count": 9,
   "id": "9a2172fa-0a7f-43dd-a460-ec33df462057",
   "metadata": {},
   "outputs": [
    {
     "data": {
      "text/plain": [
       "24"
      ]
     },
     "execution_count": 9,
     "metadata": {},
     "output_type": "execute_result"
    }
   ],
   "source": [
    "# attributes to build transaction\n",
    "goerli_chain = 5\n",
    "ganache_chain = 1337\n",
    "\n",
    "metamask_wallet = '0x47f9aEB8F599d320718C92e30C406A893638253E'\n",
    "metamask_wallet_private_key = ''\n",
    "\n",
    "ganache_wallet = '0x90F8bf6A479f320ead074411a4B0e7944Ea8c9C1'\n",
    "ganache_wallet_private_key = '0x4f3edf983ac636a65a842ce7c78d9aa706d3b113bce9c46f30d7d21715b23b1d'\n",
    "\n",
    "\n",
    "# change settings here\n",
    "chainId = ganache_chain\n",
    "wallet = ganache_wallet\n",
    "wallet_private_key = ganache_wallet_private_key\n",
    "\n",
    "nonce = w3.eth.getTransactionCount(wallet)\n",
    "nonce"
   ]
  },
  {
   "cell_type": "markdown",
   "id": "8269f6db-492b-408a-aa4a-93847118230b",
   "metadata": {},
   "source": [
    "## Build deployment transaction"
   ]
  },
  {
   "cell_type": "code",
   "execution_count": 10,
   "id": "ceb4e2dc-506f-494c-90a5-30032746180c",
   "metadata": {},
   "outputs": [],
   "source": [
    "transaction = RepositoryTracker.constructor('hash', 'reponame').buildTransaction(\n",
    "    {\n",
    "        \"gasPrice\": w3.eth.gas_price,\n",
    "        \"from\": wallet,\n",
    "        \"chainId\": chainId,\n",
    "        \"nonce\": nonce,\n",
    "    }\n",
    ")"
   ]
  },
  {
   "cell_type": "markdown",
   "id": "5616c650-da53-4e57-93d7-ec4607ad6776",
   "metadata": {},
   "source": [
    "## Sign transaction with private key"
   ]
  },
  {
   "cell_type": "code",
   "execution_count": 11,
   "id": "f564ee43-e6ef-4558-a17e-bc3fd4acced3",
   "metadata": {},
   "outputs": [],
   "source": [
    "signed_transaction = w3.eth.account.sign_transaction(transaction, private_key=wallet_private_key)\n",
    "# signed_transaction"
   ]
  },
  {
   "cell_type": "markdown",
   "id": "b89445df-ced5-4b50-9761-b8d32dac1ab1",
   "metadata": {},
   "source": [
    "## Perform transaction"
   ]
  },
  {
   "cell_type": "code",
   "execution_count": 12,
   "id": "cf250d73-77a6-477f-890d-d6260101521d",
   "metadata": {},
   "outputs": [
    {
     "data": {
      "text/plain": [
       "HexBytes('0xf4fdd0683a82a0a0170a908dd416f2a2383112431b56d0b80eb08af13582a913')"
      ]
     },
     "execution_count": 12,
     "metadata": {},
     "output_type": "execute_result"
    }
   ],
   "source": [
    "tx_hash = w3.eth.send_raw_transaction(signed_transaction.rawTransaction)\n",
    "\n",
    "# update nonce after each successful transaction: each transaction needs to have a unique nonce\n",
    "nonce += 1\n",
    "\n",
    "tx_hash"
   ]
  },
  {
   "cell_type": "code",
   "execution_count": 13,
   "id": "eb23bf0e-1d13-4b78-abea-cb6c129ff293",
   "metadata": {},
   "outputs": [
    {
     "data": {
      "text/plain": [
       "AttributeDict({'transactionHash': HexBytes('0xf4fdd0683a82a0a0170a908dd416f2a2383112431b56d0b80eb08af13582a913'),\n",
       " 'transactionIndex': 0,\n",
       " 'blockHash': HexBytes('0x3e3be81a52ef6111369b8a6dd35988a65630733b5295513e8cae80527346be27'),\n",
       " 'blockNumber': 25,\n",
       " 'from': '0x90F8bf6A479f320ead074411a4B0e7944Ea8c9C1',\n",
       " 'to': None,\n",
       " 'gasUsed': 705005,\n",
       " 'cumulativeGasUsed': 705005,\n",
       " 'contractAddress': '0xD86C8F0327494034F60e25074420BcCF560D5610',\n",
       " 'logs': [],\n",
       " 'status': 1,\n",
       " 'logsBloom': HexBytes('0x00000000000000000000000000000000000000000000000000000000000000000000000000000000000000000000000000000000000000000000000000000000000000000000000000000000000000000000000000000000000000000000000000000000000000000000000000000000000000000000000000000000000000000000000000000000000000000000000000000000000000000000000000000000000000000000000000000000000000000000000000000000000000000000000000000000000000000000000000000000000000000000000000000000000000000000000000000000000000000000000000000000000000000000000000000000')})"
      ]
     },
     "execution_count": 13,
     "metadata": {},
     "output_type": "execute_result"
    }
   ],
   "source": [
    "tx_receipt = w3.eth.wait_for_transaction_receipt(tx_hash)\n",
    "tx_receipt"
   ]
  },
  {
   "cell_type": "markdown",
   "id": "293792c0-5ce1-4435-99ec-60a43fbe1407",
   "metadata": {
    "tags": []
   },
   "source": [
    "## Capture contract address"
   ]
  },
  {
   "cell_type": "code",
   "execution_count": 14,
   "id": "3299e573-ab8d-4745-9965-cfeab5847d19",
   "metadata": {},
   "outputs": [
    {
     "data": {
      "text/plain": [
       "'0xD86C8F0327494034F60e25074420BcCF560D5610'"
      ]
     },
     "execution_count": 14,
     "metadata": {},
     "output_type": "execute_result"
    }
   ],
   "source": [
    "contract_address = tx_receipt.contractAddress\n",
    "contract_address"
   ]
  },
  {
   "cell_type": "markdown",
   "id": "ab5de9a0-fe71-4ca3-b109-dec79bff197a",
   "metadata": {
    "tags": []
   },
   "source": [
    "# Get Contract Instance from Test net"
   ]
  },
  {
   "cell_type": "code",
   "execution_count": 15,
   "id": "61bd5568-495c-4bae-a7fc-cd506d90a438",
   "metadata": {},
   "outputs": [
    {
     "data": {
      "text/plain": [
       "<web3._utils.datatypes.Contract at 0x7fc069f76350>"
      ]
     },
     "execution_count": 15,
     "metadata": {},
     "output_type": "execute_result"
    }
   ],
   "source": [
    "contract_instance = w3.eth.contract(address=contract_address, abi=abi)\n",
    "contract_instance"
   ]
  },
  {
   "cell_type": "markdown",
   "id": "a4cebf8b-437d-4a1f-94cd-9af8abe49aef",
   "metadata": {},
   "source": [
    "## Getter call"
   ]
  },
  {
   "cell_type": "code",
   "execution_count": 16,
   "id": "951ba1cb-1764-4248-970e-d60e86c3b8aa",
   "metadata": {},
   "outputs": [
    {
     "data": {
      "text/plain": [
       "'hash'"
      ]
     },
     "execution_count": 16,
     "metadata": {},
     "output_type": "execute_result"
    }
   ],
   "source": [
    "contract_instance.functions.getIpfsAddress().call()"
   ]
  },
  {
   "cell_type": "markdown",
   "id": "128a3b64-984c-4e5e-abf8-ae685eff7840",
   "metadata": {},
   "source": [
    "## Simulate setter transaction"
   ]
  },
  {
   "cell_type": "code",
   "execution_count": 17,
   "id": "a3330d77-7b3a-47d0-84bc-702f27b02baf",
   "metadata": {},
   "outputs": [
    {
     "data": {
      "text/plain": [
       "[]"
      ]
     },
     "execution_count": 17,
     "metadata": {},
     "output_type": "execute_result"
    }
   ],
   "source": [
    "contract_instance.functions.setIpfsAddress('settingBafyAddr').call()"
   ]
  },
  {
   "cell_type": "markdown",
   "id": "b48928d4-9bee-4db5-a231-a5eea1246512",
   "metadata": {},
   "source": [
    "## Setter call"
   ]
  },
  {
   "cell_type": "code",
   "execution_count": 18,
   "id": "3705d0b6-0f98-477b-80e2-0725c038f6b7",
   "metadata": {},
   "outputs": [],
   "source": [
    "set_ipfs_addr_transaction = contract_instance.functions.setIpfsAddress('fakeBafyHash').buildTransaction({\n",
    "        \"gasPrice\": w3.eth.gas_price,\n",
    "        \"from\": wallet,\n",
    "        \"chainId\": chainId,\n",
    "        \"nonce\": nonce,\n",
    "})"
   ]
  },
  {
   "cell_type": "code",
   "execution_count": 19,
   "id": "0135bd09-0328-434b-a59a-c566c5e1d08b",
   "metadata": {},
   "outputs": [],
   "source": [
    "signed_set_ipfs_addr_transaction = w3.eth.account.sign_transaction(set_ipfs_addr_transaction, private_key=wallet_private_key)"
   ]
  },
  {
   "cell_type": "code",
   "execution_count": 20,
   "id": "f74a1453-c59e-41f6-8de8-641fb5a9eec7",
   "metadata": {},
   "outputs": [
    {
     "data": {
      "text/plain": [
       "AttributeDict({'transactionHash': HexBytes('0xfb0f9fa1cede6f2b0ebb4d7ceb49cae01c5e2f41b71f4659d057360024b7e92f'),\n",
       " 'transactionIndex': 0,\n",
       " 'blockHash': HexBytes('0x30b08cd508164da8e10903fc42d039116bfb802bb24eb7aa9f475213be1fc7d8'),\n",
       " 'blockNumber': 26,\n",
       " 'from': '0x90F8bf6A479f320ead074411a4B0e7944Ea8c9C1',\n",
       " 'to': '0xD86C8F0327494034F60e25074420BcCF560D5610',\n",
       " 'gasUsed': 29417,\n",
       " 'cumulativeGasUsed': 29417,\n",
       " 'contractAddress': None,\n",
       " 'logs': [],\n",
       " 'status': 1,\n",
       " 'logsBloom': HexBytes('0x00000000000000000000000000000000000000000000000000000000000000000000000000000000000000000000000000000000000000000000000000000000000000000000000000000000000000000000000000000000000000000000000000000000000000000000000000000000000000000000000000000000000000000000000000000000000000000000000000000000000000000000000000000000000000000000000000000000000000000000000000000000000000000000000000000000000000000000000000000000000000000000000000000000000000000000000000000000000000000000000000000000000000000000000000000000')})"
      ]
     },
     "execution_count": 20,
     "metadata": {},
     "output_type": "execute_result"
    }
   ],
   "source": [
    "set_ipfs_tx_hash = w3.eth.send_raw_transaction(signed_set_ipfs_addr_transaction.rawTransaction)\n",
    "set_ipfs_tx_receipt = w3.eth.wait_for_transaction_receipt(set_ipfs_tx_hash)\n",
    "\n",
    "# update nonce after each successful transaction: each transaction needs to have a unique nonce\n",
    "nonce += 1\n",
    "\n",
    "set_ipfs_tx_receipt"
   ]
  },
  {
   "cell_type": "code",
   "execution_count": 21,
   "id": "a9a1a921-d218-497a-8d0b-057e7646265f",
   "metadata": {},
   "outputs": [
    {
     "data": {
      "text/plain": [
       "'fakeBafyHash'"
      ]
     },
     "execution_count": 21,
     "metadata": {},
     "output_type": "execute_result"
    }
   ],
   "source": [
    "contract_instance.functions.getIpfsAddress().call()"
   ]
  },
  {
   "cell_type": "markdown",
   "id": "5ab7d761-96f4-4e36-9794-9b6591f632bd",
   "metadata": {},
   "source": [
    "## Test bafyHash with non-owner"
   ]
  },
  {
   "cell_type": "code",
   "execution_count": 22,
   "id": "f142db5b-6f61-4501-8a39-178088a4fd71",
   "metadata": {},
   "outputs": [
    {
     "name": "stdout",
     "output_type": "stream",
     "text": [
      "<class 'web3.exceptions.ContractLogicError'>\n"
     ]
    }
   ],
   "source": [
    "try:\n",
    "    set_ipfs_addr_transaction = contract_instance.functions.setIpfsAddress('fakeBafyHash').buildTransaction({\n",
    "        \"gasPrice\": w3.eth.gas_price,\n",
    "        \"from\": '0x016Cf2768A5061AeD1e47DF56E9d09Acfe184692',\n",
    "        \"chainId\": chainId,\n",
    "        \"nonce\": nonce,\n",
    "    })\n",
    "    signed_set_ipfs_addr_transaction = w3.eth.account.sign_transaction(set_ipfs_addr_transaction, private_key='0x0f14c58877d8dbc422f158fbf1b654f8068c4f7cdbb8cdbcae2e671c78969713')\n",
    "\n",
    "    set_ipfs_tx_hash = w3.eth.send_raw_transaction(signed_set_ipfs_addr_transaction.rawTransaction)\n",
    "    set_ipfs_tx_receipt = w3.eth.wait_for_transaction_receipt(set_ipfs_tx_hash)\n",
    "\n",
    "    # update nonce after each successful transaction: each transaction needs to have a unique nonce\n",
    "    nonce += 1\n",
    "\n",
    "    set_ipfs_tx_receipt\n",
    "except Exception as e:\n",
    "    print(type(e))\n",
    "    # print(e.with_traceback())"
   ]
  },
  {
   "cell_type": "markdown",
   "id": "b9aea5f1-e42b-4c30-a398-f25fbc41ef18",
   "metadata": {},
   "source": [
    "ContractLogicError: execution reverted: VM Exception while processing transaction: revert Ownership Assertion: Caller of the function is not the owner."
   ]
  },
  {
   "cell_type": "markdown",
   "id": "d0302811-4611-44ed-aa30-0e96596aeb65",
   "metadata": {},
   "source": [
    "# L1 Integration with dGit"
   ]
  },
  {
   "cell_type": "markdown",
   "id": "013a5d95-1217-4214-81d0-2a58cc695e95",
   "metadata": {},
   "source": [
    "## dGit init"
   ]
  },
  {
   "cell_type": "code",
   "execution_count": 23,
   "id": "0b38f8ff-018d-4fec-bf9a-57df61d17c3d",
   "metadata": {
    "tags": []
   },
   "outputs": [
    {
     "name": "stdout",
     "output_type": "stream",
     "text": [
      "/data2/web3\n"
     ]
    }
   ],
   "source": [
    "! pwd"
   ]
  },
  {
   "cell_type": "code",
   "execution_count": 24,
   "id": "a0533601-f68f-4949-b062-c82c04a266a4",
   "metadata": {},
   "outputs": [
    {
     "name": "stdout",
     "output_type": "stream",
     "text": [
      "/data2/web3\n"
     ]
    }
   ],
   "source": [
    "#  creating a test repository\n",
    "%cd /data2/web3/\n",
    "! rm -rf test-repo\n",
    "! mkdir test-repo"
   ]
  },
  {
   "cell_type": "code",
   "execution_count": 25,
   "id": "864f557d-0cc9-4161-a839-32f5082dc698",
   "metadata": {},
   "outputs": [],
   "source": [
    "# marking dgit as executable\n",
    "! chmod +x dgit.sh"
   ]
  },
  {
   "cell_type": "code",
   "execution_count": 26,
   "id": "154ac217-62be-4c75-ab4b-35736554d310",
   "metadata": {},
   "outputs": [
    {
     "name": "stdout",
     "output_type": "stream",
     "text": [
      "/data2/web3/test-repo\n",
      "/data2/web3/test-repo\n",
      "--------------------------------------------------------------------------------\n",
      "Decentralized-Git-on-IPFS Wrapper\n",
      "--------------------------------------------------------------------------------\n",
      "init\n",
      "Using default password! \n",
      "\n",
      "Empty directory detected... creating README.md\n",
      "\u001b[33mhint: Using 'master' as the name for the initial branch. This default branch name\u001b[m\n",
      "\u001b[33mhint: is subject to change. To configure the initial branch name to use in all\u001b[m\n",
      "\u001b[33mhint: of your new repositories, which will suppress this warning, call:\u001b[m\n",
      "\u001b[33mhint: \u001b[m\n",
      "\u001b[33mhint: \tgit config --global init.defaultBranch <name>\u001b[m\n",
      "\u001b[33mhint: \u001b[m\n",
      "\u001b[33mhint: Names commonly chosen instead of 'master' are 'main', 'trunk' and\u001b[m\n",
      "\u001b[33mhint: 'development'. The just-created branch can be renamed via this command:\u001b[m\n",
      "\u001b[33mhint: \u001b[m\n",
      "\u001b[33mhint: \tgit branch -m <name>\u001b[m\n",
      "Initialized empty Git repository in /data2/web3/test-repo/.git/\n",
      "[master (root-commit) 7c47aee] Initialized new repository\n",
      " 1 file changed, 0 insertions(+), 0 deletions(-)\n",
      " create mode 100644 README.md\n",
      "\u001b[33mhint: Using 'master' as the name for the initial branch. This default branch name\u001b[m\n",
      "\u001b[33mhint: is subject to change. To configure the initial branch name to use in all\u001b[m\n",
      "\u001b[33mhint: of your new repositories, which will suppress this warning, call:\u001b[m\n",
      "\u001b[33mhint: \u001b[m\n",
      "\u001b[33mhint: \tgit config --global init.defaultBranch <name>\u001b[m\n",
      "\u001b[33mhint: \u001b[m\n",
      "\u001b[33mhint: Names commonly chosen instead of 'master' are 'main', 'trunk' and\u001b[m\n",
      "\u001b[33mhint: 'development'. The just-created branch can be renamed via this command:\u001b[m\n",
      "\u001b[33mhint: \u001b[m\n",
      "\u001b[33mhint: \tgit branch -m <name>\u001b[m\n",
      "Initialized empty Git repository in /home/rahul/.tmp/bare/test-repo/\n",
      "Pushing repository... \n",
      "\n",
      "error: No such remote: 'temp'\n",
      "Enumerating objects: 3, done.\n",
      "Counting objects: 100% (3/3), done.\n",
      "Writing objects: 100% (3/3), 229 bytes | 229.00 KiB/s, done.\n",
      "Total 3 (delta 0), reused 0 (delta 0), pack-reused 0\n",
      "To /home/rahul/.tmp/bare/test-repo\n",
      " * [new branch]      master -> master\n",
      "branch 'master' set up to track 'temp/master'.\n",
      " 17.46 KiB / 17.46 KiB [===============================================] 100.00%\u001b[2K\n",
      "Cleaning up... \n",
      "\n",
      "Writing repository tracking information to disk... \n",
      "\n",
      "Updated hash: Qmee8P1DWqeh7ZHy1J1RvsAK55EZv1duT31XPkaH9nLZwz\n",
      "\n",
      "hello world 2\n",
      "[master 9395cfd] test test\n",
      " 1 file changed, 1 insertion(+)\n",
      " create mode 100644 test.txt\n"
     ]
    }
   ],
   "source": [
    "# initialize git repository, stage changes, and commit\n",
    "%cd test-repo\n",
    "! pwd\n",
    "\n",
    "! ../dgit.sh -c init\n",
    "\n",
    "! echo \"hello world 2\" > test.txt\n",
    "! cat test.txt\n",
    "! git add .\n",
    "! git commit -m \"test test\""
   ]
  },
  {
   "cell_type": "code",
   "execution_count": 27,
   "id": "d266b55c-9908-418a-9575-91ea7f72cd1f",
   "metadata": {},
   "outputs": [
    {
     "data": {
      "text/plain": [
       "('Qmee8P1DWqeh7ZHy1J1RvsAK55EZv1duT31XPkaH9nLZwz', 'test-repo')"
      ]
     },
     "execution_count": 27,
     "metadata": {},
     "output_type": "execute_result"
    }
   ],
   "source": [
    "# capture bafyHash and friendlyName from .git/description\n",
    "\n",
    "with open(\".git/description\", \"r\") as file:\n",
    "    bafyHash = file.readline().strip()\n",
    "    friendlyName = file.readline().strip()\n",
    "\n",
    "bafyHash, friendlyName"
   ]
  },
  {
   "cell_type": "markdown",
   "id": "c5bcd78c-1ba1-4046-9610-446f9911f51c",
   "metadata": {},
   "source": [
    "### Create contract with repo info"
   ]
  },
  {
   "cell_type": "code",
   "execution_count": 28,
   "id": "045705af-5501-43aa-80a1-ef9643d87518",
   "metadata": {},
   "outputs": [
    {
     "data": {
      "text/plain": [
       "AttributeDict({'transactionHash': HexBytes('0x7b0fef9cc99ec74e6da2f506e6dc70510fb9dbcce52d347d194d8e6b067900f2'),\n",
       " 'transactionIndex': 0,\n",
       " 'blockHash': HexBytes('0x90a6816a045099d72c359bee9db1c87954f3e457dae45740431086a831b8fc24'),\n",
       " 'blockNumber': 27,\n",
       " 'from': '0x90F8bf6A479f320ead074411a4B0e7944Ea8c9C1',\n",
       " 'to': None,\n",
       " 'gasUsed': 745915,\n",
       " 'cumulativeGasUsed': 745915,\n",
       " 'contractAddress': '0xaD888d0Ade988EbEe74B8D4F39BF29a8d0fe8A8D',\n",
       " 'logs': [],\n",
       " 'status': 1,\n",
       " 'logsBloom': HexBytes('0x00000000000000000000000000000000000000000000000000000000000000000000000000000000000000000000000000000000000000000000000000000000000000000000000000000000000000000000000000000000000000000000000000000000000000000000000000000000000000000000000000000000000000000000000000000000000000000000000000000000000000000000000000000000000000000000000000000000000000000000000000000000000000000000000000000000000000000000000000000000000000000000000000000000000000000000000000000000000000000000000000000000000000000000000000000000')})"
      ]
     },
     "execution_count": 28,
     "metadata": {},
     "output_type": "execute_result"
    }
   ],
   "source": [
    "new_repo_tx = RepositoryTracker.constructor(bafyHash, friendlyName).buildTransaction(\n",
    "    {\n",
    "        \"gasPrice\": w3.eth.gas_price,\n",
    "        \"from\": wallet,\n",
    "        \"chainId\": chainId,\n",
    "        \"nonce\": nonce,\n",
    "    }\n",
    ")\n",
    "\n",
    "new_repo_tx_signed = w3.eth.account.sign_transaction(new_repo_tx, private_key=wallet_private_key)\n",
    "tx_hash = w3.eth.send_raw_transaction(new_repo_tx_signed.rawTransaction)\n",
    "tx_receipt = w3.eth.wait_for_transaction_receipt(tx_hash)\n",
    "\n",
    "nonce += 1\n",
    "\n",
    "contract_address = tx_receipt.contractAddress\n",
    "\n",
    "tx_receipt"
   ]
  },
  {
   "cell_type": "markdown",
   "id": "c19d4359-58c1-4257-8a8c-8f22063047eb",
   "metadata": {
    "tags": []
   },
   "source": [
    "### Read contract and verify changes"
   ]
  },
  {
   "cell_type": "code",
   "execution_count": 29,
   "id": "51146817-5c41-4753-b3df-a0a5c93b1cc6",
   "metadata": {},
   "outputs": [
    {
     "data": {
      "text/plain": [
       "'Qmee8P1DWqeh7ZHy1J1RvsAK55EZv1duT31XPkaH9nLZwz'"
      ]
     },
     "metadata": {},
     "output_type": "display_data"
    },
    {
     "data": {
      "text/plain": [
       "'test-repo'"
      ]
     },
     "metadata": {},
     "output_type": "display_data"
    }
   ],
   "source": [
    "contract_instance = w3.eth.contract(address=tx_receipt.contractAddress, abi=abi)\n",
    "display(contract_instance.functions.getIpfsAddress().call())\n",
    "display(contract_instance.functions.getFriendlyName().call())"
   ]
  },
  {
   "cell_type": "markdown",
   "id": "08054dc3-2bd6-46be-bcbb-b5314ef29271",
   "metadata": {},
   "source": [
    "## dGit push"
   ]
  },
  {
   "cell_type": "code",
   "execution_count": 30,
   "id": "247a6879-eefb-43e4-b5a6-7fb817e251cb",
   "metadata": {},
   "outputs": [
    {
     "name": "stdout",
     "output_type": "stream",
     "text": [
      "[master 0f02610] test push\n",
      " 1 file changed, 0 insertions(+), 0 deletions(-)\n",
      " create mode 100644 newfile\n",
      "--------------------------------------------------------------------------------\n",
      "Decentralized-Git-on-IPFS Wrapper\n",
      "--------------------------------------------------------------------------------\n",
      "push password\n",
      "Fetching repository from IPFS... \n",
      "\n",
      "Saving file(s) to /home/rahul/.tmp/Qmee8P1DWqeh7ZHy1J1RvsAK55EZv1duT31XPkaH9nLZwz.enc\n",
      " 17.46 KiB / 17.46 KiB [============================================] 100.00% 0s\n",
      "\n",
      "Decrypting contents... \n",
      "\n",
      "Friendly repository name: test-repo\n",
      "\n",
      "Pushing repository... \n",
      "\n",
      "Enumerating objects: 6, done.\n",
      "Counting objects: 100% (6/6), done.\n",
      "Delta compression using up to 8 threads\n",
      "Compressing objects: 100% (4/4), done.\n",
      "Writing objects: 100% (5/5), 473 bytes | 473.00 KiB/s, done.\n",
      "Total 5 (delta 1), reused 0 (delta 0), pack-reused 0\n",
      "To /home/rahul/.tmp/bare/test-repo\n",
      "   7c47aee..0f02610  master -> master\n",
      " 20.15 KiB / 20.15 KiB [===============================================] 100.00%\u001b[2K\n",
      "Writing repository tracking information to disk... \n",
      "\n",
      "Updated hash: QmWQFRsYCegGEuaZMDJgZKWU3KpmATXoctE8Qwrsg76vgh\n",
      "\n",
      "\n",
      "Cleaning up... \n",
      "\n"
     ]
    }
   ],
   "source": [
    "! touch newfile\n",
    "! git add .\n",
    "! git commit -m \"test push\"\n",
    "! ../dgit.sh -c push -k \"password\""
   ]
  },
  {
   "cell_type": "markdown",
   "id": "f1b70a89-ada1-4888-8a40-1910a50fabf0",
   "metadata": {},
   "source": [
    "### Update bafyHash (and friendlyName) on repo contract"
   ]
  },
  {
   "cell_type": "code",
   "execution_count": 31,
   "id": "6fbf8edb-b916-4cca-bcdd-f06bce52697c",
   "metadata": {},
   "outputs": [
    {
     "data": {
      "text/plain": [
       "'QmWQFRsYCegGEuaZMDJgZKWU3KpmATXoctE8Qwrsg76vgh'"
      ]
     },
     "metadata": {},
     "output_type": "display_data"
    },
    {
     "data": {
      "text/plain": [
       "'test-repo'"
      ]
     },
     "metadata": {},
     "output_type": "display_data"
    },
    {
     "data": {
      "text/plain": [
       "AttributeDict({'transactionHash': HexBytes('0xfaeef4803245f55623d9eaae3c043c8fb4cf1456641fed0d9c9a905239da7f65'),\n",
       " 'transactionIndex': 0,\n",
       " 'blockHash': HexBytes('0x93b13510e0d9d284f26bf453a40bdbb17ca7defe8c76cf580451dea4abd8e387'),\n",
       " 'blockNumber': 28,\n",
       " 'from': '0x90F8bf6A479f320ead074411a4B0e7944Ea8c9C1',\n",
       " 'to': '0xaD888d0Ade988EbEe74B8D4F39BF29a8d0fe8A8D',\n",
       " 'gasUsed': 36249,\n",
       " 'cumulativeGasUsed': 36249,\n",
       " 'contractAddress': None,\n",
       " 'logs': [],\n",
       " 'status': 1,\n",
       " 'logsBloom': HexBytes('0x00000000000000000000000000000000000000000000000000000000000000000000000000000000000000000000000000000000000000000000000000000000000000000000000000000000000000000000000000000000000000000000000000000000000000000000000000000000000000000000000000000000000000000000000000000000000000000000000000000000000000000000000000000000000000000000000000000000000000000000000000000000000000000000000000000000000000000000000000000000000000000000000000000000000000000000000000000000000000000000000000000000000000000000000000000000')})"
      ]
     },
     "execution_count": 31,
     "metadata": {},
     "output_type": "execute_result"
    }
   ],
   "source": [
    "# capture bafyHash and friendlyName from .git/description\n",
    "\n",
    "with open(\".git/description\", \"r\") as file:\n",
    "    bafyHash = file.readline().strip()\n",
    "    friendlyName = file.readline().strip()\n",
    "\n",
    "display(bafyHash, friendlyName)\n",
    "\n",
    "contract_instance = w3.eth.contract(address=contract_address, abi=abi)\n",
    "\n",
    "update_repo_contract_tx = contract_instance.functions.setIpfsAddress(bafyHash).buildTransaction(\n",
    "    {\n",
    "        \"gasPrice\": w3.eth.gas_price,\n",
    "        \"from\": wallet,\n",
    "        \"chainId\": chainId,\n",
    "        \"nonce\": nonce,\n",
    "    }\n",
    ")\n",
    "\n",
    "update_repo_contract_tx_signed = w3.eth.account.sign_transaction(update_repo_contract_tx, private_key=wallet_private_key)\n",
    "tx_hash = w3.eth.send_raw_transaction(update_repo_contract_tx_signed.rawTransaction)\n",
    "tx_receipt = w3.eth.wait_for_transaction_receipt(tx_hash)\n",
    "\n",
    "nonce += 1\n",
    "\n",
    "tx_receipt"
   ]
  },
  {
   "cell_type": "code",
   "execution_count": 32,
   "id": "a885c497-0cf0-41ec-8b72-7abbfd4e6c5c",
   "metadata": {},
   "outputs": [
    {
     "data": {
      "text/plain": [
       "'QmWQFRsYCegGEuaZMDJgZKWU3KpmATXoctE8Qwrsg76vgh'"
      ]
     },
     "metadata": {},
     "output_type": "display_data"
    },
    {
     "data": {
      "text/plain": [
       "'test-repo'"
      ]
     },
     "metadata": {},
     "output_type": "display_data"
    }
   ],
   "source": [
    "# verifying changes\n",
    "# contract_instance = w3.eth.contract(address=tx_receipt.contractAddress, abi=abi)\n",
    "display(contract_instance.functions.getIpfsAddress().call())\n",
    "display(contract_instance.functions.getFriendlyName().call())"
   ]
  },
  {
   "cell_type": "markdown",
   "id": "6b5a7d32-dc4f-4041-aa16-0751794d6c9b",
   "metadata": {},
   "source": [
    "## dGit clone"
   ]
  },
  {
   "cell_type": "code",
   "execution_count": 35,
   "id": "ab7164c6-e1ea-45cb-8e90-7cb7ce6ec8b5",
   "metadata": {},
   "outputs": [
    {
     "name": "stdout",
     "output_type": "stream",
     "text": [
      "/data2/web3\n",
      "/data2/web3\n",
      "--------------------------------------------------------------------------------\n",
      "Decentralized-Git-on-IPFS Wrapper\n",
      "--------------------------------------------------------------------------------\n",
      "clone password QmWQFRsYCegGEuaZMDJgZKWU3KpmATXoctE8Qwrsg76vgh\n",
      "Fetching repository from IPFS... \n",
      "\n",
      "Saving file(s) to /home/rahul/.tmp/QmWQFRsYCegGEuaZMDJgZKWU3KpmATXoctE8Qwrsg76vgh.enc\n",
      " 20.15 KiB / 20.15 KiB [============================================] 100.00% 0s\n",
      "\n",
      "Decrypting contents... \n",
      "\n",
      "Friendly repository name: test-repo\n",
      "\n",
      "Cloning repository... \n",
      "\n",
      "Cloning into 'test-repo'...\n",
      "done.\n",
      "\n",
      "Cleaning up... \n",
      "\n",
      "Writing repository tracking information to disk... \n",
      "\n"
     ]
    }
   ],
   "source": [
    "%cd /data2/web3/\n",
    "! pwd\n",
    "! rm -rf test-repo/\n",
    "! ./dgit.sh -c clone -k \"password\" -i QmWQFRsYCegGEuaZMDJgZKWU3KpmATXoctE8Qwrsg76vgh"
   ]
  },
  {
   "cell_type": "markdown",
   "id": "ef1f482a-ae67-4acc-84f6-48b56ff920bd",
   "metadata": {},
   "source": [
    "## dGit pull"
   ]
  },
  {
   "cell_type": "code",
   "execution_count": 36,
   "id": "97a5e922-bded-46de-861e-3ef34bacb19b",
   "metadata": {},
   "outputs": [
    {
     "name": "stdout",
     "output_type": "stream",
     "text": [
      "/data2/web3/test-repo\n",
      "/data2/web3/test-repo\n",
      "--------------------------------------------------------------------------------\n",
      "Decentralized-Git-on-IPFS Wrapper\n",
      "--------------------------------------------------------------------------------\n",
      "pull password QmWQFRsYCegGEuaZMDJgZKWU3KpmATXoctE8Qwrsg76vgh\n",
      "Fetching repository from IPFS... \n",
      "\n",
      "Saving file(s) to /home/rahul/.tmp/QmWQFRsYCegGEuaZMDJgZKWU3KpmATXoctE8Qwrsg76vgh.enc\n",
      " 20.15 KiB / 20.15 KiB [============================================] 100.00% 0s\n",
      "\n",
      "Decrypting contents... \n",
      "\n",
      "Friendly repository name: test-repo\n",
      "\n",
      "Pulling repository... \n",
      "\n",
      "From /home/rahul/.tmp/bare/test-repo\n",
      " * branch            HEAD       -> FETCH_HEAD\n",
      "Already up to date.\n",
      "\n",
      "Cleaning up... \n",
      "\n"
     ]
    }
   ],
   "source": [
    "%cd /data2/web3/test-repo/\n",
    "! pwd\n",
    "! ../dgit.sh -c pull -k password -i QmWQFRsYCegGEuaZMDJgZKWU3KpmATXoctE8Qwrsg76vgh"
   ]
  },
  {
   "cell_type": "markdown",
   "id": "54b9612c-830f-4a03-b957-0aa8306a6005",
   "metadata": {
    "tags": []
   },
   "source": [
    "### TODO: Extend Ownable to implement contributors\n",
    "### TODO: Implement code as .py and integrate with dGit"
   ]
  }
 ],
 "metadata": {
  "kernelspec": {
   "display_name": "Python 3 (ipykernel)",
   "language": "python",
   "name": "python3"
  },
  "language_info": {
   "codemirror_mode": {
    "name": "ipython",
    "version": 3
   },
   "file_extension": ".py",
   "mimetype": "text/x-python",
   "name": "python",
   "nbconvert_exporter": "python",
   "pygments_lexer": "ipython3",
   "version": "3.10.7"
  }
 },
 "nbformat": 4,
 "nbformat_minor": 5
}
