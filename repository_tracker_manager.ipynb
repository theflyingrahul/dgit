{
 "cells": [
  {
   "cell_type": "code",
   "execution_count": 1,
   "id": "0142f8de-4629-45c6-82e7-40e439e4aff5",
   "metadata": {},
   "outputs": [],
   "source": [
    "from web3 import Web3"
   ]
  },
  {
   "cell_type": "markdown",
   "id": "45b14657-7cbf-498b-bd6a-7aa313a3ef52",
   "metadata": {},
   "source": [
    "# Code to compile .sol file and export EVM bytecode and ABI to JSON"
   ]
  },
  {
   "cell_type": "code",
   "execution_count": 2,
   "id": "9c15bbe0-b132-4f08-a54b-3f79c8d3cdce",
   "metadata": {},
   "outputs": [
    {
     "name": "stdout",
     "output_type": "stream",
     "text": [
      "// SPDX-License-Identifier: MIT\n",
      "pragma solidity >=0.8.17;\n",
      "\n",
      "contract RepositoryTracker {\n",
      "    string private _ipfsAddress;\n",
      "    string private _friendlyName;\n",
      "    address private _owner;\n",
      "\n",
      "    constructor(string memory bafyHash, string memory friendlyName) {\n",
      "        _owner = msg.sender;\n",
      "        _ipfsAddress = bafyHash;\n",
      "        _friendlyName = friendlyName;\n",
      "    }\n",
      "\n",
      "// Ownership stuff\n",
      "    function owner() public view virtual returns (address) {\n",
      "        return _owner;\n",
      "    }\n",
      "    \n",
      "    modifier onlyOwner() {\n",
      "        require(\n",
      "            owner() == msg.sender,\n",
      "            \"Ownership Assertion: Caller of the function is not the owner.\"\n",
      "        );\n",
      "        _;\n",
      "    }\n",
      "\n",
      "    function transferOwnership(address newOwner) public virtual onlyOwner {\n",
      "        _owner = newOwner;\n",
      "    }\n",
      "// End ownership stuff!\n",
      "// TODO: extend ownership to contributors or other relations\n",
      "// TODO: migrate to OpenZeppelin Ownable class\n",
      "\n",
      "    function setIpfsAddress(string calldata bafyHash) public onlyOwner {\n",
      "        _ipfsAddress = bafyHash;\n",
      "    }\n",
      "    function setFriendlyName(string calldata friendlyName) public onlyOwner {\n",
      "        _friendlyName = friendlyName;\n",
      "    }\n",
      "    function getIpfsAddress() external view returns (string memory) {\n",
      "        return _ipfsAddress;\n",
      "    }\n",
      "    function getFriendlyName() external view returns (string memory) {\n",
      "        return _friendlyName;\n",
      "    }\n",
      "}\n",
      "\n"
     ]
    }
   ],
   "source": [
    "contract_path = \"RepositoryTracker.sol\"\n",
    "with open(contract_path, \"r\") as file:\n",
    "    contract_file = file.read()\n",
    "print(contract_file)"
   ]
  },
  {
   "cell_type": "code",
   "execution_count": 3,
   "id": "032f20c7-a09f-4848-a8b8-8510dbb66814",
   "metadata": {},
   "outputs": [],
   "source": [
    "from solcx import compile_standard\n",
    "\n",
    "compiled_solidity = compile_standard(\n",
    "    {\n",
    "        \"language\": \"Solidity\",\n",
    "        \"sources\": {\n",
    "            \"RepositoryTracker.sol\": {\n",
    "                \"content\": contract_file,\n",
    "            }\n",
    "        },\n",
    "        \"settings\": {\n",
    "            \"outputSelection\": {\n",
    "                \"*\": {\"*\": [\"abi\", \"metadata\", \"evm.bytecode\", \"evm.sourceMap\"]}\n",
    "            }\n",
    "        },\n",
    "    },\n",
    "    solc_version=\"0.8.17\",\n",
    ")"
   ]
  },
  {
   "cell_type": "code",
   "execution_count": 4,
   "id": "4401d1c0-a470-4aa0-9a66-d021a94bcc46",
   "metadata": {},
   "outputs": [],
   "source": [
    "import json\n",
    "\n",
    "with open(\"compiled_contract.json\", \"w\") as file:\n",
    "    json.dump(compiled_solidity, file)"
   ]
  },
  {
   "cell_type": "markdown",
   "id": "021813b6-83de-4e84-b218-517174011034",
   "metadata": {
    "tags": []
   },
   "source": [
    "# Get ABI and EVM bytecode"
   ]
  },
  {
   "cell_type": "code",
   "execution_count": 5,
   "id": "d29fd6e5-fda7-44f7-bbca-9c8b3da96dc2",
   "metadata": {},
   "outputs": [
    {
     "data": {
      "text/plain": [
       "[{'inputs': [{'internalType': 'string', 'name': 'bafyHash', 'type': 'string'},\n",
       "   {'internalType': 'string', 'name': 'friendlyName', 'type': 'string'}],\n",
       "  'stateMutability': 'nonpayable',\n",
       "  'type': 'constructor'},\n",
       " {'inputs': [],\n",
       "  'name': 'getFriendlyName',\n",
       "  'outputs': [{'internalType': 'string', 'name': '', 'type': 'string'}],\n",
       "  'stateMutability': 'view',\n",
       "  'type': 'function'},\n",
       " {'inputs': [],\n",
       "  'name': 'getIpfsAddress',\n",
       "  'outputs': [{'internalType': 'string', 'name': '', 'type': 'string'}],\n",
       "  'stateMutability': 'view',\n",
       "  'type': 'function'},\n",
       " {'inputs': [],\n",
       "  'name': 'owner',\n",
       "  'outputs': [{'internalType': 'address', 'name': '', 'type': 'address'}],\n",
       "  'stateMutability': 'view',\n",
       "  'type': 'function'},\n",
       " {'inputs': [{'internalType': 'string',\n",
       "    'name': 'friendlyName',\n",
       "    'type': 'string'}],\n",
       "  'name': 'setFriendlyName',\n",
       "  'outputs': [],\n",
       "  'stateMutability': 'nonpayable',\n",
       "  'type': 'function'},\n",
       " {'inputs': [{'internalType': 'string', 'name': 'bafyHash', 'type': 'string'}],\n",
       "  'name': 'setIpfsAddress',\n",
       "  'outputs': [],\n",
       "  'stateMutability': 'nonpayable',\n",
       "  'type': 'function'},\n",
       " {'inputs': [{'internalType': 'address',\n",
       "    'name': 'newOwner',\n",
       "    'type': 'address'}],\n",
       "  'name': 'transferOwnership',\n",
       "  'outputs': [],\n",
       "  'stateMutability': 'nonpayable',\n",
       "  'type': 'function'}]"
      ]
     },
     "execution_count": 5,
     "metadata": {},
     "output_type": "execute_result"
    }
   ],
   "source": [
    "abi = compiled_solidity['contracts']['RepositoryTracker.sol']['RepositoryTracker']['abi']\n",
    "abi"
   ]
  },
  {
   "cell_type": "code",
   "execution_count": 6,
   "id": "b7924fd7-7f7c-4445-a7af-f212c36b4324",
   "metadata": {},
   "outputs": [
    {
     "data": {
      "text/plain": [
       "'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'"
      ]
     },
     "execution_count": 6,
     "metadata": {},
     "output_type": "execute_result"
    }
   ],
   "source": [
    "bytecode = compiled_solidity['contracts']['RepositoryTracker.sol']['RepositoryTracker']['evm']['bytecode']['object']\n",
    "bytecode"
   ]
  },
  {
   "cell_type": "markdown",
   "id": "b9bb1d19-3f3e-4ce4-848c-4ffbf3bfab0a",
   "metadata": {},
   "source": [
    "# Connect to Test net (Goerli/Ganache local)"
   ]
  },
  {
   "cell_type": "code",
   "execution_count": 7,
   "id": "ab6a8907-ed50-4d90-bdc9-a0b8d3dd4c5f",
   "metadata": {},
   "outputs": [
    {
     "data": {
      "text/plain": [
       "True"
      ]
     },
     "execution_count": 7,
     "metadata": {},
     "output_type": "execute_result"
    }
   ],
   "source": [
    "ropsten_url = 'https://goerli.infura.io/v3/5953d19885cd43218c5d03280949a537'\n",
    "ganache_url = 'http://localhost:8545'\n",
    "\n",
    "w3 = Web3(Web3.HTTPProvider(ganache_url))\n",
    "w3.isConnected()"
   ]
  },
  {
   "cell_type": "code",
   "execution_count": 8,
   "id": "0defa088-14a6-4c2d-a641-ebdd935f2126",
   "metadata": {},
   "outputs": [
    {
     "data": {
      "text/plain": [
       "web3._utils.datatypes.Contract"
      ]
     },
     "execution_count": 8,
     "metadata": {},
     "output_type": "execute_result"
    }
   ],
   "source": [
    "RepositoryTracker = w3.eth.contract(abi=abi, bytecode=bytecode)\n",
    "RepositoryTracker"
   ]
  },
  {
   "cell_type": "markdown",
   "id": "8de28d1d-6fee-4a3b-be52-988109adf6ab",
   "metadata": {
    "tags": []
   },
   "source": [
    "# Deploy Transaction (each repository to be tracked requires a new contract to be deployed)"
   ]
  },
  {
   "cell_type": "code",
   "execution_count": 9,
   "id": "9a2172fa-0a7f-43dd-a460-ec33df462057",
   "metadata": {},
   "outputs": [
    {
     "data": {
      "text/plain": [
       "16"
      ]
     },
     "execution_count": 9,
     "metadata": {},
     "output_type": "execute_result"
    }
   ],
   "source": [
    "# attributes to build transaction\n",
    "goerli_chain = 5\n",
    "ganache_chain = 1337\n",
    "\n",
    "metamask_wallet = '0x47f9aEB8F599d320718C92e30C406A893638253E'\n",
    "metamask_wallet_private_key = ''\n",
    "\n",
    "ganache_wallet = '0x90F8bf6A479f320ead074411a4B0e7944Ea8c9C1'\n",
    "ganache_wallet_private_key = '0x4f3edf983ac636a65a842ce7c78d9aa706d3b113bce9c46f30d7d21715b23b1d'\n",
    "\n",
    "\n",
    "# change settings here\n",
    "chainId = ganache_chain\n",
    "wallet = ganache_wallet\n",
    "wallet_private_key = ganache_wallet_private_key\n",
    "\n",
    "nonce = w3.eth.getTransactionCount(wallet)\n",
    "nonce"
   ]
  },
  {
   "cell_type": "markdown",
   "id": "8269f6db-492b-408a-aa4a-93847118230b",
   "metadata": {},
   "source": [
    "## Build deployment transaction"
   ]
  },
  {
   "cell_type": "code",
   "execution_count": 10,
   "id": "ceb4e2dc-506f-494c-90a5-30032746180c",
   "metadata": {},
   "outputs": [],
   "source": [
    "transaction = RepositoryTracker.constructor('hash', 'reponame').buildTransaction(\n",
    "    {\n",
    "        \"gasPrice\": w3.eth.gas_price,\n",
    "        \"from\": wallet,\n",
    "        \"chainId\": chainId,\n",
    "        \"nonce\": nonce,\n",
    "    }\n",
    ")"
   ]
  },
  {
   "cell_type": "markdown",
   "id": "5616c650-da53-4e57-93d7-ec4607ad6776",
   "metadata": {},
   "source": [
    "## Sign transaction with private key"
   ]
  },
  {
   "cell_type": "code",
   "execution_count": 11,
   "id": "f564ee43-e6ef-4558-a17e-bc3fd4acced3",
   "metadata": {},
   "outputs": [
    {
     "data": {
      "text/plain": [
       "SignedTransaction(rawTransaction=HexBytes('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'), hash=HexBytes('0x90db9328867032baf64b062e3d73788e9209c1d7721f5d4a177b70994973da82'), r=74107671636745272235495316606088225441084528487607472320893918472130627119261, s=14483960263507205204697242338693633370308768349426806312647835225753937753032, v=2710)"
      ]
     },
     "execution_count": 11,
     "metadata": {},
     "output_type": "execute_result"
    }
   ],
   "source": [
    "signed_transaction = w3.eth.account.sign_transaction(transaction, private_key=wallet_private_key)\n",
    "signed_transaction"
   ]
  },
  {
   "cell_type": "markdown",
   "id": "b89445df-ced5-4b50-9761-b8d32dac1ab1",
   "metadata": {},
   "source": [
    "## Perform transaction"
   ]
  },
  {
   "cell_type": "code",
   "execution_count": 12,
   "id": "cf250d73-77a6-477f-890d-d6260101521d",
   "metadata": {},
   "outputs": [
    {
     "data": {
      "text/plain": [
       "HexBytes('0x90db9328867032baf64b062e3d73788e9209c1d7721f5d4a177b70994973da82')"
      ]
     },
     "execution_count": 12,
     "metadata": {},
     "output_type": "execute_result"
    }
   ],
   "source": [
    "tx_hash = w3.eth.send_raw_transaction(signed_transaction.rawTransaction)\n",
    "\n",
    "# update nonce after each successful transaction: each transaction needs to have a unique nonce\n",
    "nonce += 1\n",
    "\n",
    "tx_hash"
   ]
  },
  {
   "cell_type": "code",
   "execution_count": 13,
   "id": "eb23bf0e-1d13-4b78-abea-cb6c129ff293",
   "metadata": {},
   "outputs": [
    {
     "data": {
      "text/plain": [
       "AttributeDict({'transactionHash': HexBytes('0x90db9328867032baf64b062e3d73788e9209c1d7721f5d4a177b70994973da82'),\n",
       " 'transactionIndex': 0,\n",
       " 'blockHash': HexBytes('0xb655201ca95eeba652fc67b237d16d7fdccd7f16d1438517599eb52eb5817d7b'),\n",
       " 'blockNumber': 17,\n",
       " 'from': '0x90F8bf6A479f320ead074411a4B0e7944Ea8c9C1',\n",
       " 'to': None,\n",
       " 'gasUsed': 705005,\n",
       " 'cumulativeGasUsed': 705005,\n",
       " 'contractAddress': '0x0E696947A06550DEf604e82C26fd9E493e576337',\n",
       " 'logs': [],\n",
       " 'status': 1,\n",
       " 'logsBloom': HexBytes('0x00000000000000000000000000000000000000000000000000000000000000000000000000000000000000000000000000000000000000000000000000000000000000000000000000000000000000000000000000000000000000000000000000000000000000000000000000000000000000000000000000000000000000000000000000000000000000000000000000000000000000000000000000000000000000000000000000000000000000000000000000000000000000000000000000000000000000000000000000000000000000000000000000000000000000000000000000000000000000000000000000000000000000000000000000000000')})"
      ]
     },
     "execution_count": 13,
     "metadata": {},
     "output_type": "execute_result"
    }
   ],
   "source": [
    "tx_receipt = w3.eth.wait_for_transaction_receipt(tx_hash)\n",
    "tx_receipt"
   ]
  },
  {
   "cell_type": "markdown",
   "id": "293792c0-5ce1-4435-99ec-60a43fbe1407",
   "metadata": {
    "tags": []
   },
   "source": [
    "## Capture contract address"
   ]
  },
  {
   "cell_type": "code",
   "execution_count": 14,
   "id": "3299e573-ab8d-4745-9965-cfeab5847d19",
   "metadata": {},
   "outputs": [
    {
     "data": {
      "text/plain": [
       "'0x0E696947A06550DEf604e82C26fd9E493e576337'"
      ]
     },
     "execution_count": 14,
     "metadata": {},
     "output_type": "execute_result"
    }
   ],
   "source": [
    "contract_address = tx_receipt.contractAddress\n",
    "contract_address"
   ]
  },
  {
   "cell_type": "markdown",
   "id": "ab5de9a0-fe71-4ca3-b109-dec79bff197a",
   "metadata": {
    "tags": []
   },
   "source": [
    "# Get Contract Instance from Test net"
   ]
  },
  {
   "cell_type": "code",
   "execution_count": 15,
   "id": "61bd5568-495c-4bae-a7fc-cd506d90a438",
   "metadata": {},
   "outputs": [
    {
     "data": {
      "text/plain": [
       "<web3._utils.datatypes.Contract at 0x7fa5efb2dba0>"
      ]
     },
     "execution_count": 15,
     "metadata": {},
     "output_type": "execute_result"
    }
   ],
   "source": [
    "contract_instance = w3.eth.contract(address=contract_address, abi=abi)\n",
    "contract_instance"
   ]
  },
  {
   "cell_type": "markdown",
   "id": "a4cebf8b-437d-4a1f-94cd-9af8abe49aef",
   "metadata": {},
   "source": [
    "## Getter call"
   ]
  },
  {
   "cell_type": "code",
   "execution_count": 16,
   "id": "951ba1cb-1764-4248-970e-d60e86c3b8aa",
   "metadata": {},
   "outputs": [
    {
     "data": {
      "text/plain": [
       "'hash'"
      ]
     },
     "execution_count": 16,
     "metadata": {},
     "output_type": "execute_result"
    }
   ],
   "source": [
    "contract_instance.functions.getIpfsAddress().call()"
   ]
  },
  {
   "cell_type": "markdown",
   "id": "128a3b64-984c-4e5e-abf8-ae685eff7840",
   "metadata": {},
   "source": [
    "## Simulate setter transaction"
   ]
  },
  {
   "cell_type": "code",
   "execution_count": 17,
   "id": "a3330d77-7b3a-47d0-84bc-702f27b02baf",
   "metadata": {},
   "outputs": [
    {
     "data": {
      "text/plain": [
       "[]"
      ]
     },
     "execution_count": 17,
     "metadata": {},
     "output_type": "execute_result"
    }
   ],
   "source": [
    "contract_instance.functions.setIpfsAddress('settingBafyAddr').call()"
   ]
  },
  {
   "cell_type": "markdown",
   "id": "b48928d4-9bee-4db5-a231-a5eea1246512",
   "metadata": {},
   "source": [
    "## Setter call"
   ]
  },
  {
   "cell_type": "code",
   "execution_count": 18,
   "id": "3705d0b6-0f98-477b-80e2-0725c038f6b7",
   "metadata": {},
   "outputs": [],
   "source": [
    "set_ipfs_addr_transaction = contract_instance.functions.setIpfsAddress('fakeBafyHash').buildTransaction({\n",
    "        \"gasPrice\": w3.eth.gas_price,\n",
    "        \"from\": wallet,\n",
    "        \"chainId\": chainId,\n",
    "        \"nonce\": nonce,\n",
    "})"
   ]
  },
  {
   "cell_type": "code",
   "execution_count": 19,
   "id": "0135bd09-0328-434b-a59a-c566c5e1d08b",
   "metadata": {},
   "outputs": [],
   "source": [
    "signed_set_ipfs_addr_transaction = w3.eth.account.sign_transaction(set_ipfs_addr_transaction, private_key=wallet_private_key)"
   ]
  },
  {
   "cell_type": "code",
   "execution_count": 20,
   "id": "f74a1453-c59e-41f6-8de8-641fb5a9eec7",
   "metadata": {},
   "outputs": [
    {
     "data": {
      "text/plain": [
       "AttributeDict({'transactionHash': HexBytes('0x52cc7761b634a062e8058a558ce9f199b3ebac4f009397e8dc465f5a9cc1d874'),\n",
       " 'transactionIndex': 0,\n",
       " 'blockHash': HexBytes('0xd9cb53f602cb47f37ce2501b995cc6d6c4cabaef9ce4596658539d23f94d4dc3'),\n",
       " 'blockNumber': 18,\n",
       " 'from': '0x90F8bf6A479f320ead074411a4B0e7944Ea8c9C1',\n",
       " 'to': '0x0E696947A06550DEf604e82C26fd9E493e576337',\n",
       " 'gasUsed': 29417,\n",
       " 'cumulativeGasUsed': 29417,\n",
       " 'contractAddress': None,\n",
       " 'logs': [],\n",
       " 'status': 1,\n",
       " 'logsBloom': HexBytes('0x00000000000000000000000000000000000000000000000000000000000000000000000000000000000000000000000000000000000000000000000000000000000000000000000000000000000000000000000000000000000000000000000000000000000000000000000000000000000000000000000000000000000000000000000000000000000000000000000000000000000000000000000000000000000000000000000000000000000000000000000000000000000000000000000000000000000000000000000000000000000000000000000000000000000000000000000000000000000000000000000000000000000000000000000000000000')})"
      ]
     },
     "execution_count": 20,
     "metadata": {},
     "output_type": "execute_result"
    }
   ],
   "source": [
    "set_ipfs_tx_hash = w3.eth.send_raw_transaction(signed_set_ipfs_addr_transaction.rawTransaction)\n",
    "set_ipfs_tx_receipt = w3.eth.wait_for_transaction_receipt(set_ipfs_tx_hash)\n",
    "\n",
    "# update nonce after each successful transaction: each transaction needs to have a unique nonce\n",
    "nonce += 1\n",
    "\n",
    "set_ipfs_tx_receipt"
   ]
  },
  {
   "cell_type": "code",
   "execution_count": 21,
   "id": "a9a1a921-d218-497a-8d0b-057e7646265f",
   "metadata": {},
   "outputs": [
    {
     "data": {
      "text/plain": [
       "'fakeBafyHash'"
      ]
     },
     "execution_count": 21,
     "metadata": {},
     "output_type": "execute_result"
    }
   ],
   "source": [
    "contract_instance.functions.getIpfsAddress().call()"
   ]
  },
  {
   "cell_type": "markdown",
   "id": "5ab7d761-96f4-4e36-9794-9b6591f632bd",
   "metadata": {},
   "source": [
    "## Test bafyHash with non-owner"
   ]
  },
  {
   "cell_type": "code",
   "execution_count": 22,
   "id": "f142db5b-6f61-4501-8a39-178088a4fd71",
   "metadata": {},
   "outputs": [
    {
     "name": "stdout",
     "output_type": "stream",
     "text": [
      "<class 'web3.exceptions.ContractLogicError'>\n"
     ]
    }
   ],
   "source": [
    "try:\n",
    "    set_ipfs_addr_transaction = contract_instance.functions.setIpfsAddress('fakeBafyHash').buildTransaction({\n",
    "        \"gasPrice\": w3.eth.gas_price,\n",
    "        \"from\": '0x016Cf2768A5061AeD1e47DF56E9d09Acfe184692',\n",
    "        \"chainId\": chainId,\n",
    "        \"nonce\": nonce,\n",
    "    })\n",
    "    signed_set_ipfs_addr_transaction = w3.eth.account.sign_transaction(set_ipfs_addr_transaction, private_key='0x0f14c58877d8dbc422f158fbf1b654f8068c4f7cdbb8cdbcae2e671c78969713')\n",
    "\n",
    "    set_ipfs_tx_hash = w3.eth.send_raw_transaction(signed_set_ipfs_addr_transaction.rawTransaction)\n",
    "    set_ipfs_tx_receipt = w3.eth.wait_for_transaction_receipt(set_ipfs_tx_hash)\n",
    "\n",
    "    # update nonce after each successful transaction: each transaction needs to have a unique nonce\n",
    "    nonce += 1\n",
    "\n",
    "    set_ipfs_tx_receipt\n",
    "except Exception as e:\n",
    "    print(type(e))\n",
    "    # print(e.with_traceback())"
   ]
  },
  {
   "cell_type": "markdown",
   "id": "b9aea5f1-e42b-4c30-a398-f25fbc41ef18",
   "metadata": {},
   "source": [
    "ContractLogicError: execution reverted: VM Exception while processing transaction: revert Ownership Assertion: Caller of the function is not the owner."
   ]
  },
  {
   "cell_type": "markdown",
   "id": "d0302811-4611-44ed-aa30-0e96596aeb65",
   "metadata": {},
   "source": [
    "# L1 Integration with dGit"
   ]
  },
  {
   "cell_type": "markdown",
   "id": "013a5d95-1217-4214-81d0-2a58cc695e95",
   "metadata": {},
   "source": [
    "## dGit init"
   ]
  },
  {
   "cell_type": "code",
   "execution_count": 23,
   "id": "0b38f8ff-018d-4fec-bf9a-57df61d17c3d",
   "metadata": {
    "tags": []
   },
   "outputs": [
    {
     "name": "stdout",
     "output_type": "stream",
     "text": [
      "/data2/web3\n"
     ]
    }
   ],
   "source": [
    "! pwd"
   ]
  },
  {
   "cell_type": "code",
   "execution_count": 24,
   "id": "a0533601-f68f-4949-b062-c82c04a266a4",
   "metadata": {},
   "outputs": [
    {
     "name": "stdout",
     "output_type": "stream",
     "text": [
      "/data2/web3\n"
     ]
    }
   ],
   "source": [
    "#  creating a test repository\n",
    "%cd /data2/web3/\n",
    "! rm -rf test-repo\n",
    "! mkdir test-repo"
   ]
  },
  {
   "cell_type": "code",
   "execution_count": 25,
   "id": "864f557d-0cc9-4161-a839-32f5082dc698",
   "metadata": {},
   "outputs": [],
   "source": [
    "# marking dgit as executable\n",
    "! chmod +x dgit.sh\n",
    "# make a copy of dgit.sh -> dgit\n",
    "! cp dgit.sh dgit"
   ]
  },
  {
   "cell_type": "code",
   "execution_count": 26,
   "id": "154ac217-62be-4c75-ab4b-35736554d310",
   "metadata": {},
   "outputs": [
    {
     "name": "stdout",
     "output_type": "stream",
     "text": [
      "/data2/web3/test-repo\n",
      "/data2/web3/test-repo\n",
      "--------------------------------------------------------------------------------\n",
      "Decentralized-Git-on-IPFS Wrapper\n",
      "--------------------------------------------------------------------------------\n",
      "init\n",
      "Using default password! \n",
      "\n",
      "Empty directory detected... creating README.md\n",
      "\u001b[33mhint: Using 'master' as the name for the initial branch. This default branch name\u001b[m\n",
      "\u001b[33mhint: is subject to change. To configure the initial branch name to use in all\u001b[m\n",
      "\u001b[33mhint: of your new repositories, which will suppress this warning, call:\u001b[m\n",
      "\u001b[33mhint: \u001b[m\n",
      "\u001b[33mhint: \tgit config --global init.defaultBranch <name>\u001b[m\n",
      "\u001b[33mhint: \u001b[m\n",
      "\u001b[33mhint: Names commonly chosen instead of 'master' are 'main', 'trunk' and\u001b[m\n",
      "\u001b[33mhint: 'development'. The just-created branch can be renamed via this command:\u001b[m\n",
      "\u001b[33mhint: \u001b[m\n",
      "\u001b[33mhint: \tgit branch -m <name>\u001b[m\n",
      "Initialized empty Git repository in /data2/web3/test-repo/.git/\n",
      "[master (root-commit) b15c9f7] Initialized new repository\n",
      " 1 file changed, 0 insertions(+), 0 deletions(-)\n",
      " create mode 100644 README.md\n",
      "\u001b[33mhint: Using 'master' as the name for the initial branch. This default branch name\u001b[m\n",
      "\u001b[33mhint: is subject to change. To configure the initial branch name to use in all\u001b[m\n",
      "\u001b[33mhint: of your new repositories, which will suppress this warning, call:\u001b[m\n",
      "\u001b[33mhint: \u001b[m\n",
      "\u001b[33mhint: \tgit config --global init.defaultBranch <name>\u001b[m\n",
      "\u001b[33mhint: \u001b[m\n",
      "\u001b[33mhint: Names commonly chosen instead of 'master' are 'main', 'trunk' and\u001b[m\n",
      "\u001b[33mhint: 'development'. The just-created branch can be renamed via this command:\u001b[m\n",
      "\u001b[33mhint: \u001b[m\n",
      "\u001b[33mhint: \tgit branch -m <name>\u001b[m\n",
      "Initialized empty Git repository in /home/rahul/.tmp/bare/test-repo/\n",
      "Pushing repository... \n",
      "\n",
      "error: No such remote: 'temp'\n",
      "Enumerating objects: 3, done.\n",
      "Counting objects: 100% (3/3), done.\n",
      "Writing objects: 100% (3/3), 229 bytes | 229.00 KiB/s, done.\n",
      "Total 3 (delta 0), reused 0 (delta 0), pack-reused 0\n",
      "To /home/rahul/.tmp/bare/test-repo\n",
      " * [new branch]      master -> master\n",
      "branch 'master' set up to track 'temp/master'.\n",
      " 17.46 KiB / 17.46 KiB [===============================================] 100.00%\u001b[2K\n",
      "Cleaning up... \n",
      "\n",
      "Writing repository tracking information to disk... \n",
      "\n",
      "Updated hash: Qmebe5nGGjn6pAES8qJsJEMpHw8jbXKQH8WX82QrK4N8mn\n",
      "\n",
      "hello world 2\n",
      "[master ea7f7e2] test test\n",
      " 1 file changed, 1 insertion(+)\n",
      " create mode 100644 test.txt\n"
     ]
    }
   ],
   "source": [
    "# initialize git repository, stage changes, and commit\n",
    "%cd test-repo\n",
    "! pwd\n",
    "\n",
    "! ../dgit -c init\n",
    "\n",
    "! echo \"hello world 2\" > test.txt\n",
    "! cat test.txt\n",
    "! git add .\n",
    "! git commit -m \"test test\""
   ]
  },
  {
   "cell_type": "code",
   "execution_count": 27,
   "id": "d266b55c-9908-418a-9575-91ea7f72cd1f",
   "metadata": {},
   "outputs": [
    {
     "data": {
      "text/plain": [
       "('Qmebe5nGGjn6pAES8qJsJEMpHw8jbXKQH8WX82QrK4N8mn', 'test-repo')"
      ]
     },
     "execution_count": 27,
     "metadata": {},
     "output_type": "execute_result"
    }
   ],
   "source": [
    "# capture bafyHash and friendlyName from .git/description\n",
    "\n",
    "with open(\".git/description\", \"r\") as file:\n",
    "    bafyHash = file.readline().strip()\n",
    "    friendlyName = file.readline().strip()\n",
    "\n",
    "bafyHash, friendlyName"
   ]
  },
  {
   "cell_type": "markdown",
   "id": "c5bcd78c-1ba1-4046-9610-446f9911f51c",
   "metadata": {},
   "source": [
    "### Create contract with repo info"
   ]
  },
  {
   "cell_type": "code",
   "execution_count": 28,
   "id": "045705af-5501-43aa-80a1-ef9643d87518",
   "metadata": {},
   "outputs": [
    {
     "data": {
      "text/plain": [
       "AttributeDict({'transactionHash': HexBytes('0x6832f2c1ba9ae2add28b4915977e4a3e2496fa15f99fa181ae184f7d0d3722fd'),\n",
       " 'transactionIndex': 0,\n",
       " 'blockHash': HexBytes('0x29ff73eadbcb8a6b37cc8a032e08455f3ce23ffd95989c241212607af3bc136a'),\n",
       " 'blockNumber': 19,\n",
       " 'from': '0x90F8bf6A479f320ead074411a4B0e7944Ea8c9C1',\n",
       " 'to': None,\n",
       " 'gasUsed': 745915,\n",
       " 'cumulativeGasUsed': 745915,\n",
       " 'contractAddress': '0xA94B7f0465E98609391C623d0560C5720a3f2D33',\n",
       " 'logs': [],\n",
       " 'status': 1,\n",
       " 'logsBloom': HexBytes('0x00000000000000000000000000000000000000000000000000000000000000000000000000000000000000000000000000000000000000000000000000000000000000000000000000000000000000000000000000000000000000000000000000000000000000000000000000000000000000000000000000000000000000000000000000000000000000000000000000000000000000000000000000000000000000000000000000000000000000000000000000000000000000000000000000000000000000000000000000000000000000000000000000000000000000000000000000000000000000000000000000000000000000000000000000000000')})"
      ]
     },
     "execution_count": 28,
     "metadata": {},
     "output_type": "execute_result"
    }
   ],
   "source": [
    "new_repo_tx = RepositoryTracker.constructor(bafyHash, friendlyName).buildTransaction(\n",
    "    {\n",
    "        \"gasPrice\": w3.eth.gas_price,\n",
    "        \"from\": wallet,\n",
    "        \"chainId\": chainId,\n",
    "        \"nonce\": nonce,\n",
    "    }\n",
    ")\n",
    "\n",
    "new_repo_tx_signed = w3.eth.account.sign_transaction(new_repo_tx, private_key=wallet_private_key)\n",
    "tx_hash = w3.eth.send_raw_transaction(new_repo_tx_signed.rawTransaction)\n",
    "tx_receipt = w3.eth.wait_for_transaction_receipt(tx_hash)\n",
    "\n",
    "nonce += 1\n",
    "\n",
    "contract_address = tx_receipt.contractAddress\n",
    "\n",
    "tx_receipt"
   ]
  },
  {
   "cell_type": "markdown",
   "id": "c19d4359-58c1-4257-8a8c-8f22063047eb",
   "metadata": {
    "tags": []
   },
   "source": [
    "### Read contract and verify changes"
   ]
  },
  {
   "cell_type": "code",
   "execution_count": 29,
   "id": "51146817-5c41-4753-b3df-a0a5c93b1cc6",
   "metadata": {},
   "outputs": [
    {
     "data": {
      "text/plain": [
       "'Qmebe5nGGjn6pAES8qJsJEMpHw8jbXKQH8WX82QrK4N8mn'"
      ]
     },
     "metadata": {},
     "output_type": "display_data"
    },
    {
     "data": {
      "text/plain": [
       "'test-repo'"
      ]
     },
     "metadata": {},
     "output_type": "display_data"
    }
   ],
   "source": [
    "contract_instance = w3.eth.contract(address=tx_receipt.contractAddress, abi=abi)\n",
    "display(contract_instance.functions.getIpfsAddress().call())\n",
    "display(contract_instance.functions.getFriendlyName().call())"
   ]
  },
  {
   "cell_type": "markdown",
   "id": "08054dc3-2bd6-46be-bcbb-b5314ef29271",
   "metadata": {},
   "source": [
    "## dGit push"
   ]
  },
  {
   "cell_type": "code",
   "execution_count": 30,
   "id": "247a6879-eefb-43e4-b5a6-7fb817e251cb",
   "metadata": {},
   "outputs": [
    {
     "name": "stdout",
     "output_type": "stream",
     "text": [
      "[master 0a2575d] test push\n",
      " 1 file changed, 0 insertions(+), 0 deletions(-)\n",
      " create mode 100644 newfile\n",
      "--------------------------------------------------------------------------------\n",
      "Decentralized-Git-on-IPFS Wrapper\n",
      "--------------------------------------------------------------------------------\n",
      "push password\n",
      "Fetching repository from IPFS... \n",
      "\n",
      "Saving file(s) to /home/rahul/.tmp/Qmebe5nGGjn6pAES8qJsJEMpHw8jbXKQH8WX82QrK4N8mn.enc\n",
      " 17.46 KiB / 17.46 KiB [============================================] 100.00% 0s\n",
      "\n",
      "Decrypting contents... \n",
      "\n",
      "Friendly repository name: test-repo\n",
      "\n",
      "Pushing repository... \n",
      "\n",
      "Enumerating objects: 6, done.\n",
      "Counting objects: 100% (6/6), done.\n",
      "Delta compression using up to 8 threads\n",
      "Compressing objects: 100% (4/4), done.\n",
      "Writing objects: 100% (5/5), 472 bytes | 472.00 KiB/s, done.\n",
      "Total 5 (delta 1), reused 0 (delta 0), pack-reused 0\n",
      "To /home/rahul/.tmp/bare/test-repo\n",
      "   b15c9f7..0a2575d  master -> master\n",
      " 20.15 KiB / 20.15 KiB [===============================================] 100.00%\u001b[2K\n",
      "Writing repository tracking information to disk... \n",
      "\n",
      "Updated hash: QmNYxcrY9e8TfWS9KZBscTsy8KvC2UvRkpUAm9pCBwjefe\n",
      "\n",
      "\n",
      "Cleaning up... \n",
      "\n"
     ]
    }
   ],
   "source": [
    "! touch newfile\n",
    "! git add .\n",
    "! git commit -m \"test push\"\n",
    "! ../dgit -c push -k \"password\""
   ]
  },
  {
   "cell_type": "markdown",
   "id": "f1b70a89-ada1-4888-8a40-1910a50fabf0",
   "metadata": {},
   "source": [
    "### Update bafyHash (and friendlyName) on repo contract"
   ]
  },
  {
   "cell_type": "code",
   "execution_count": 31,
   "id": "6fbf8edb-b916-4cca-bcdd-f06bce52697c",
   "metadata": {},
   "outputs": [
    {
     "data": {
      "text/plain": [
       "'QmNYxcrY9e8TfWS9KZBscTsy8KvC2UvRkpUAm9pCBwjefe'"
      ]
     },
     "metadata": {},
     "output_type": "display_data"
    },
    {
     "data": {
      "text/plain": [
       "'test-repo'"
      ]
     },
     "metadata": {},
     "output_type": "display_data"
    },
    {
     "data": {
      "text/plain": [
       "AttributeDict({'transactionHash': HexBytes('0x59006bab9aa99fd151628000c908e788fcf15b7dd29f625b45022499c4f114f7'),\n",
       " 'transactionIndex': 0,\n",
       " 'blockHash': HexBytes('0x7b0a54a9d696ea467fa9c8b266659e9adafd3d27fbfa5f64026e1c96aa1b6929'),\n",
       " 'blockNumber': 20,\n",
       " 'from': '0x90F8bf6A479f320ead074411a4B0e7944Ea8c9C1',\n",
       " 'to': '0xA94B7f0465E98609391C623d0560C5720a3f2D33',\n",
       " 'gasUsed': 36249,\n",
       " 'cumulativeGasUsed': 36249,\n",
       " 'contractAddress': None,\n",
       " 'logs': [],\n",
       " 'status': 1,\n",
       " 'logsBloom': HexBytes('0x00000000000000000000000000000000000000000000000000000000000000000000000000000000000000000000000000000000000000000000000000000000000000000000000000000000000000000000000000000000000000000000000000000000000000000000000000000000000000000000000000000000000000000000000000000000000000000000000000000000000000000000000000000000000000000000000000000000000000000000000000000000000000000000000000000000000000000000000000000000000000000000000000000000000000000000000000000000000000000000000000000000000000000000000000000000')})"
      ]
     },
     "execution_count": 31,
     "metadata": {},
     "output_type": "execute_result"
    }
   ],
   "source": [
    "# capture bafyHash and friendlyName from .git/description\n",
    "\n",
    "with open(\".git/description\", \"r\") as file:\n",
    "    bafyHash = file.readline().strip()\n",
    "    friendlyName = file.readline().strip()\n",
    "\n",
    "display(bafyHash, friendlyName)\n",
    "\n",
    "contract_instance = w3.eth.contract(address=contract_address, abi=abi)\n",
    "\n",
    "update_repo_contract_tx = contract_instance.functions.setIpfsAddress(bafyHash).buildTransaction(\n",
    "    {\n",
    "        \"gasPrice\": w3.eth.gas_price,\n",
    "        \"from\": wallet,\n",
    "        \"chainId\": chainId,\n",
    "        \"nonce\": nonce,\n",
    "    }\n",
    ")\n",
    "\n",
    "update_repo_contract_tx_signed = w3.eth.account.sign_transaction(update_repo_contract_tx, private_key=wallet_private_key)\n",
    "tx_hash = w3.eth.send_raw_transaction(update_repo_contract_tx_signed.rawTransaction)\n",
    "tx_receipt = w3.eth.wait_for_transaction_receipt(tx_hash)\n",
    "\n",
    "nonce += 1\n",
    "\n",
    "tx_receipt"
   ]
  },
  {
   "cell_type": "code",
   "execution_count": 32,
   "id": "a885c497-0cf0-41ec-8b72-7abbfd4e6c5c",
   "metadata": {},
   "outputs": [
    {
     "data": {
      "text/plain": [
       "'QmNYxcrY9e8TfWS9KZBscTsy8KvC2UvRkpUAm9pCBwjefe'"
      ]
     },
     "metadata": {},
     "output_type": "display_data"
    },
    {
     "data": {
      "text/plain": [
       "'test-repo'"
      ]
     },
     "metadata": {},
     "output_type": "display_data"
    }
   ],
   "source": [
    "# verifying changes\n",
    "# contract_instance = w3.eth.contract(address=tx_receipt.contractAddress, abi=abi)\n",
    "display(contract_instance.functions.getIpfsAddress().call())\n",
    "display(contract_instance.functions.getFriendlyName().call())"
   ]
  },
  {
   "cell_type": "markdown",
   "id": "6b5a7d32-dc4f-4041-aa16-0751794d6c9b",
   "metadata": {},
   "source": [
    "## dGit clone"
   ]
  },
  {
   "cell_type": "code",
   "execution_count": 33,
   "id": "ab7164c6-e1ea-45cb-8e90-7cb7ce6ec8b5",
   "metadata": {},
   "outputs": [
    {
     "name": "stdout",
     "output_type": "stream",
     "text": [
      "/data2/web3\n",
      "/data2/web3\n",
      "--------------------------------------------------------------------------------\n",
      "Decentralized-Git-on-IPFS Wrapper\n",
      "--------------------------------------------------------------------------------\n",
      "clone password QmWNDvePyrkK9A28Qp8uoDVm6wY7Liq1FBT2kuw5ZCz4Ls\n",
      "Fetching repository from IPFS... \n",
      "\n",
      "Saving file(s) to /home/rahul/.tmp/QmWNDvePyrkK9A28Qp8uoDVm6wY7Liq1FBT2kuw5ZCz4Ls.enc\n",
      " 20.15 KiB / 20.15 KiB [============================================] 100.00% 0s\n",
      "\n",
      "Decrypting contents... \n",
      "\n",
      "Friendly repository name: test-repo\n",
      "\n",
      "Cloning repository... \n",
      "\n",
      "Cloning into 'test-repo'...\n",
      "done.\n",
      "\n",
      "Cleaning up... \n",
      "\n",
      "Writing repository tracking information to disk... \n",
      "\n"
     ]
    }
   ],
   "source": [
    "%cd /data2/web3/\n",
    "! pwd\n",
    "! rm -rf test-repo/\n",
    "! chmod +x dgit.sh\n",
    "! ./dgit.sh -c clone -k \"password\" -i QmWNDvePyrkK9A28Qp8uoDVm6wY7Liq1FBT2kuw5ZCz4Ls"
   ]
  },
  {
   "cell_type": "markdown",
   "id": "ef1f482a-ae67-4acc-84f6-48b56ff920bd",
   "metadata": {},
   "source": [
    "## dGit pull"
   ]
  },
  {
   "cell_type": "code",
   "execution_count": 34,
   "id": "97a5e922-bded-46de-861e-3ef34bacb19b",
   "metadata": {},
   "outputs": [
    {
     "name": "stdout",
     "output_type": "stream",
     "text": [
      "/data2/web3/test-repo\n",
      "/data2/web3/test-repo\n",
      "--------------------------------------------------------------------------------\n",
      "Decentralized-Git-on-IPFS Wrapper\n",
      "--------------------------------------------------------------------------------\n",
      "pull password QmWNDvePyrkK9A28Qp8uoDVm6wY7Liq1FBT2kuw5ZCz4Ls\n",
      "Fetching repository from IPFS... \n",
      "\n",
      "Saving file(s) to /home/rahul/.tmp/QmWNDvePyrkK9A28Qp8uoDVm6wY7Liq1FBT2kuw5ZCz4Ls.enc\n",
      " 20.15 KiB / 20.15 KiB [============================================] 100.00% 0s\n",
      "\n",
      "Decrypting contents... \n",
      "\n",
      "Friendly repository name: test-repo\n",
      "\n",
      "Pulling repository... \n",
      "\n",
      "From /home/rahul/.tmp/bare/test-repo\n",
      " * branch            HEAD       -> FETCH_HEAD\n",
      "Already up to date.\n",
      "\n",
      "Cleaning up... \n",
      "\n"
     ]
    }
   ],
   "source": [
    "%cd /data2/web3/test-repo/\n",
    "! pwd\n",
    "! ../dgit.sh -c pull -k password -i QmWNDvePyrkK9A28Qp8uoDVm6wY7Liq1FBT2kuw5ZCz4Ls"
   ]
  },
  {
   "cell_type": "code",
   "execution_count": null,
   "id": "8fe2f795-043d-4506-9dd5-322132caf38a",
   "metadata": {},
   "outputs": [],
   "source": []
  }
 ],
 "metadata": {
  "kernelspec": {
   "display_name": "Python 3 (ipykernel)",
   "language": "python",
   "name": "python3"
  },
  "language_info": {
   "codemirror_mode": {
    "name": "ipython",
    "version": 3
   },
   "file_extension": ".py",
   "mimetype": "text/x-python",
   "name": "python",
   "nbconvert_exporter": "python",
   "pygments_lexer": "ipython3",
   "version": "3.10.7"
  }
 },
 "nbformat": 4,
 "nbformat_minor": 5
}
