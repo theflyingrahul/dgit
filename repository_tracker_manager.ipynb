{
 "cells": [
  {
   "cell_type": "markdown",
   "id": "ae3cd079-41e6-4626-aeb4-f2145010162f",
   "metadata": {},
   "source": [
    "### Note: requires ganache-cli to be installed\n",
    "### Start ganache-cli as ganache-cli -d --db /data2/web3/ganachedb -i 1234"
   ]
  },
  {
   "cell_type": "code",
   "execution_count": 1,
   "id": "0142f8de-4629-45c6-82e7-40e439e4aff5",
   "metadata": {},
   "outputs": [],
   "source": [
    "from web3 import Web3"
   ]
  },
  {
   "cell_type": "markdown",
   "id": "45b14657-7cbf-498b-bd6a-7aa313a3ef52",
   "metadata": {},
   "source": [
    "# Code to compile .sol file and export EVM bytecode and ABI to JSON"
   ]
  },
  {
   "cell_type": "code",
   "execution_count": 88,
   "id": "9c15bbe0-b132-4f08-a54b-3f79c8d3cdce",
   "metadata": {},
   "outputs": [],
   "source": [
    "contract_path = \"RepositoryTracker.sol\"\n",
    "with open(contract_path, \"r\") as file:\n",
    "    contract_file = file.read()\n",
    "# print(contract_file)"
   ]
  },
  {
   "cell_type": "code",
   "execution_count": 89,
   "id": "032f20c7-a09f-4848-a8b8-8510dbb66814",
   "metadata": {},
   "outputs": [],
   "source": [
    "from solcx import compile_standard\n",
    "\n",
    "compiled_solidity = compile_standard(\n",
    "    {\n",
    "        \"language\": \"Solidity\",\n",
    "        \"sources\": {\n",
    "            \"RepositoryTracker.sol\": {\n",
    "                \"content\": contract_file,\n",
    "            }\n",
    "        },\n",
    "        \"settings\": {\n",
    "            \"outputSelection\": {\n",
    "                \"*\": {\"*\": [\"abi\", \"metadata\", \"evm.bytecode\", \"evm.sourceMap\"]}\n",
    "            }\n",
    "        },\n",
    "    },\n",
    "    solc_version=\"0.8.17\",\n",
    ")"
   ]
  },
  {
   "cell_type": "code",
   "execution_count": 15,
   "id": "4401d1c0-a470-4aa0-9a66-d021a94bcc46",
   "metadata": {},
   "outputs": [],
   "source": [
    "import json\n",
    "\n",
    "with open(\"compiled_contract.json\", \"w\") as file:\n",
    "    json.dump(compiled_solidity, file)"
   ]
  },
  {
   "cell_type": "markdown",
   "id": "021813b6-83de-4e84-b218-517174011034",
   "metadata": {
    "tags": []
   },
   "source": [
    "# Get ABI and EVM bytecode"
   ]
  },
  {
   "cell_type": "code",
   "execution_count": 16,
   "id": "d29fd6e5-fda7-44f7-bbca-9c8b3da96dc2",
   "metadata": {},
   "outputs": [
    {
     "data": {
      "text/plain": [
       "[{'inputs': [{'internalType': 'string', 'name': 'bafyHash', 'type': 'string'},\n",
       "   {'internalType': 'string', 'name': 'friendlyName', 'type': 'string'},\n",
       "   {'internalType': 'address[]', 'name': 'devAddresses', 'type': 'address[]'},\n",
       "   {'internalType': 'address[]',\n",
       "    'name': 'auditAddresses',\n",
       "    'type': 'address[]'}],\n",
       "  'stateMutability': 'nonpayable',\n",
       "  'type': 'constructor'},\n",
       " {'anonymous': False,\n",
       "  'inputs': [{'indexed': True,\n",
       "    'internalType': 'address',\n",
       "    'name': 'previousOwner',\n",
       "    'type': 'address'},\n",
       "   {'indexed': True,\n",
       "    'internalType': 'address',\n",
       "    'name': 'newOwner',\n",
       "    'type': 'address'}],\n",
       "  'name': 'OwnershipTransferred',\n",
       "  'type': 'event'},\n",
       " {'anonymous': False,\n",
       "  'inputs': [{'indexed': True,\n",
       "    'internalType': 'bytes32',\n",
       "    'name': 'role',\n",
       "    'type': 'bytes32'},\n",
       "   {'indexed': True,\n",
       "    'internalType': 'bytes32',\n",
       "    'name': 'previousAdminRole',\n",
       "    'type': 'bytes32'},\n",
       "   {'indexed': True,\n",
       "    'internalType': 'bytes32',\n",
       "    'name': 'newAdminRole',\n",
       "    'type': 'bytes32'}],\n",
       "  'name': 'RoleAdminChanged',\n",
       "  'type': 'event'},\n",
       " {'anonymous': False,\n",
       "  'inputs': [{'indexed': True,\n",
       "    'internalType': 'bytes32',\n",
       "    'name': 'role',\n",
       "    'type': 'bytes32'},\n",
       "   {'indexed': True,\n",
       "    'internalType': 'address',\n",
       "    'name': 'account',\n",
       "    'type': 'address'},\n",
       "   {'indexed': True,\n",
       "    'internalType': 'address',\n",
       "    'name': 'sender',\n",
       "    'type': 'address'}],\n",
       "  'name': 'RoleGranted',\n",
       "  'type': 'event'},\n",
       " {'anonymous': False,\n",
       "  'inputs': [{'indexed': True,\n",
       "    'internalType': 'bytes32',\n",
       "    'name': 'role',\n",
       "    'type': 'bytes32'},\n",
       "   {'indexed': True,\n",
       "    'internalType': 'address',\n",
       "    'name': 'account',\n",
       "    'type': 'address'},\n",
       "   {'indexed': True,\n",
       "    'internalType': 'address',\n",
       "    'name': 'sender',\n",
       "    'type': 'address'}],\n",
       "  'name': 'RoleRevoked',\n",
       "  'type': 'event'},\n",
       " {'inputs': [],\n",
       "  'name': 'AUDIT_ROLE',\n",
       "  'outputs': [{'internalType': 'bytes32', 'name': '', 'type': 'bytes32'}],\n",
       "  'stateMutability': 'view',\n",
       "  'type': 'function'},\n",
       " {'inputs': [],\n",
       "  'name': 'DEFAULT_ADMIN_ROLE',\n",
       "  'outputs': [{'internalType': 'bytes32', 'name': '', 'type': 'bytes32'}],\n",
       "  'stateMutability': 'view',\n",
       "  'type': 'function'},\n",
       " {'inputs': [],\n",
       "  'name': 'DEV_ROLE',\n",
       "  'outputs': [{'internalType': 'bytes32', 'name': '', 'type': 'bytes32'}],\n",
       "  'stateMutability': 'view',\n",
       "  'type': 'function'},\n",
       " {'inputs': [{'internalType': 'address',\n",
       "    'name': 'auditAddress',\n",
       "    'type': 'address'}],\n",
       "  'name': 'addAuditor',\n",
       "  'outputs': [],\n",
       "  'stateMutability': 'nonpayable',\n",
       "  'type': 'function'},\n",
       " {'inputs': [{'internalType': 'address[]',\n",
       "    'name': 'auditAddresses',\n",
       "    'type': 'address[]'}],\n",
       "  'name': 'addAuditors',\n",
       "  'outputs': [],\n",
       "  'stateMutability': 'nonpayable',\n",
       "  'type': 'function'},\n",
       " {'inputs': [{'internalType': 'address',\n",
       "    'name': 'devAddress',\n",
       "    'type': 'address'}],\n",
       "  'name': 'addDeveloper',\n",
       "  'outputs': [],\n",
       "  'stateMutability': 'nonpayable',\n",
       "  'type': 'function'},\n",
       " {'inputs': [{'internalType': 'address[]',\n",
       "    'name': 'devAddresses',\n",
       "    'type': 'address[]'}],\n",
       "  'name': 'addDevelopers',\n",
       "  'outputs': [],\n",
       "  'stateMutability': 'nonpayable',\n",
       "  'type': 'function'},\n",
       " {'inputs': [],\n",
       "  'name': 'getFriendlyName',\n",
       "  'outputs': [{'internalType': 'string', 'name': '', 'type': 'string'}],\n",
       "  'stateMutability': 'view',\n",
       "  'type': 'function'},\n",
       " {'inputs': [],\n",
       "  'name': 'getIpfsAddress',\n",
       "  'outputs': [{'internalType': 'string', 'name': '', 'type': 'string'}],\n",
       "  'stateMutability': 'view',\n",
       "  'type': 'function'},\n",
       " {'inputs': [{'internalType': 'bytes32', 'name': 'role', 'type': 'bytes32'}],\n",
       "  'name': 'getRoleAdmin',\n",
       "  'outputs': [{'internalType': 'bytes32', 'name': '', 'type': 'bytes32'}],\n",
       "  'stateMutability': 'view',\n",
       "  'type': 'function'},\n",
       " {'inputs': [{'internalType': 'bytes32', 'name': 'role', 'type': 'bytes32'},\n",
       "   {'internalType': 'address', 'name': 'account', 'type': 'address'}],\n",
       "  'name': 'grantRole',\n",
       "  'outputs': [],\n",
       "  'stateMutability': 'nonpayable',\n",
       "  'type': 'function'},\n",
       " {'inputs': [{'internalType': 'bytes32', 'name': 'role', 'type': 'bytes32'},\n",
       "   {'internalType': 'address', 'name': 'account', 'type': 'address'}],\n",
       "  'name': 'hasRole',\n",
       "  'outputs': [{'internalType': 'bool', 'name': '', 'type': 'bool'}],\n",
       "  'stateMutability': 'view',\n",
       "  'type': 'function'},\n",
       " {'inputs': [],\n",
       "  'name': 'owner',\n",
       "  'outputs': [{'internalType': 'address', 'name': '', 'type': 'address'}],\n",
       "  'stateMutability': 'view',\n",
       "  'type': 'function'},\n",
       " {'inputs': [],\n",
       "  'name': 'renounceOwnership',\n",
       "  'outputs': [],\n",
       "  'stateMutability': 'nonpayable',\n",
       "  'type': 'function'},\n",
       " {'inputs': [{'internalType': 'bytes32', 'name': 'role', 'type': 'bytes32'},\n",
       "   {'internalType': 'address', 'name': 'account', 'type': 'address'}],\n",
       "  'name': 'renounceRole',\n",
       "  'outputs': [],\n",
       "  'stateMutability': 'nonpayable',\n",
       "  'type': 'function'},\n",
       " {'inputs': [{'internalType': 'bytes32', 'name': 'role', 'type': 'bytes32'},\n",
       "   {'internalType': 'address', 'name': 'account', 'type': 'address'}],\n",
       "  'name': 'revokeRole',\n",
       "  'outputs': [],\n",
       "  'stateMutability': 'nonpayable',\n",
       "  'type': 'function'},\n",
       " {'inputs': [{'internalType': 'string',\n",
       "    'name': 'friendlyName',\n",
       "    'type': 'string'}],\n",
       "  'name': 'setFriendlyName',\n",
       "  'outputs': [],\n",
       "  'stateMutability': 'nonpayable',\n",
       "  'type': 'function'},\n",
       " {'inputs': [{'internalType': 'string', 'name': 'bafyHash', 'type': 'string'}],\n",
       "  'name': 'setIpfsAddress',\n",
       "  'outputs': [],\n",
       "  'stateMutability': 'nonpayable',\n",
       "  'type': 'function'},\n",
       " {'inputs': [{'internalType': 'bytes4',\n",
       "    'name': 'interfaceId',\n",
       "    'type': 'bytes4'}],\n",
       "  'name': 'supportsInterface',\n",
       "  'outputs': [{'internalType': 'bool', 'name': '', 'type': 'bool'}],\n",
       "  'stateMutability': 'view',\n",
       "  'type': 'function'},\n",
       " {'inputs': [{'internalType': 'address',\n",
       "    'name': 'newOwner',\n",
       "    'type': 'address'}],\n",
       "  'name': 'transferOwnership',\n",
       "  'outputs': [],\n",
       "  'stateMutability': 'nonpayable',\n",
       "  'type': 'function'}]"
      ]
     },
     "execution_count": 16,
     "metadata": {},
     "output_type": "execute_result"
    }
   ],
   "source": [
    "abi = compiled_solidity['contracts']['RepositoryTracker.sol']['RepositoryTracker']['abi']\n",
    "abi"
   ]
  },
  {
   "cell_type": "code",
   "execution_count": 17,
   "id": "b7924fd7-7f7c-4445-a7af-f212c36b4324",
   "metadata": {},
   "outputs": [],
   "source": [
    "bytecode = compiled_solidity['contracts']['RepositoryTracker.sol']['RepositoryTracker']['evm']['bytecode']['object']\n",
    "# bytecode"
   ]
  },
  {
   "cell_type": "markdown",
   "id": "b9bb1d19-3f3e-4ce4-848c-4ffbf3bfab0a",
   "metadata": {},
   "source": [
    "# Connect to Test net (Goerli/Ganache local)"
   ]
  },
  {
   "cell_type": "code",
   "execution_count": 4,
   "id": "ab6a8907-ed50-4d90-bdc9-a0b8d3dd4c5f",
   "metadata": {},
   "outputs": [
    {
     "data": {
      "text/plain": [
       "True"
      ]
     },
     "execution_count": 4,
     "metadata": {},
     "output_type": "execute_result"
    }
   ],
   "source": [
    "ropsten_url = 'https://goerli.infura.io/v3/5953d19885cd43218c5d03280949a537'\n",
    "ganache_url = 'http://localhost:8545'\n",
    "\n",
    "w3 = Web3(Web3.HTTPProvider(ganache_url))\n",
    "w3.isConnected()"
   ]
  },
  {
   "cell_type": "code",
   "execution_count": 21,
   "id": "0defa088-14a6-4c2d-a641-ebdd935f2126",
   "metadata": {},
   "outputs": [
    {
     "data": {
      "text/plain": [
       "web3._utils.datatypes.Contract"
      ]
     },
     "execution_count": 21,
     "metadata": {},
     "output_type": "execute_result"
    }
   ],
   "source": [
    "RepositoryTracker = w3.eth.contract(abi=abi, bytecode=bytecode)\n",
    "RepositoryTracker"
   ]
  },
  {
   "cell_type": "markdown",
   "id": "8de28d1d-6fee-4a3b-be52-988109adf6ab",
   "metadata": {
    "tags": []
   },
   "source": [
    "# Deploy Transaction (each repository to be tracked requires a new contract to be deployed)"
   ]
  },
  {
   "cell_type": "code",
   "execution_count": 6,
   "id": "9a2172fa-0a7f-43dd-a460-ec33df462057",
   "metadata": {},
   "outputs": [
    {
     "data": {
      "text/plain": [
       "35"
      ]
     },
     "execution_count": 6,
     "metadata": {},
     "output_type": "execute_result"
    }
   ],
   "source": [
    "# attributes to build transaction\n",
    "goerli_chain = 5\n",
    "ganache_chain = 1337\n",
    "\n",
    "metamask_wallet = '0x47f9aEB8F599d320718C92e30C406A893638253E'\n",
    "metamask_wallet_private_key = ''\n",
    "\n",
    "ganache_wallet = '0x90F8bf6A479f320ead074411a4B0e7944Ea8c9C1'\n",
    "ganache_wallet_private_key = '0x4f3edf983ac636a65a842ce7c78d9aa706d3b113bce9c46f30d7d21715b23b1d'\n",
    "\n",
    "\n",
    "# change settings here\n",
    "chainId = ganache_chain\n",
    "owner_wallet = ganache_wallet\n",
    "owner_wallet_private_key = ganache_wallet_private_key\n",
    "\n",
    "nonce = w3.eth.getTransactionCount(owner_wallet)\n",
    "nonce"
   ]
  },
  {
   "cell_type": "code",
   "execution_count": 11,
   "id": "6dd32225-12fd-4252-b01e-673eb986a467",
   "metadata": {},
   "outputs": [],
   "source": [
    "# Adding fake developers and auditors\n",
    "\n",
    "developer_wallets = ['0x3E5e9111Ae8eB78Fe1CC3bb8915d5D461F3Ef9A9', '0x28a8746e75304c0780E011BEd21C72cD78cd535E']\n",
    "developer_private_keys = ['0xe485d098507f54e7733a205420dfddbe58db035fa577fc294ebd14db90767a52', '0xa453611d9419d0e56f499079478fd72c37b251a94bfde4d19872c44cf65386e3']\n",
    "auditor_wallets =  ['0xACa94ef8bD5ffEE41947b4585a84BdA5a3d3DA6E', '0x1dF62f291b2E969fB0849d99D9Ce41e2F137006e']\n",
    "auditor_private_keys = ['0x829e924fdf021ba3dbbc4225edfece9aca04b929d6e75613329ca6f1d31c0bb4', '0xb0057716d5917badaf911b193b12b910811c1497b5bada8d7711f758981c3773']"
   ]
  },
  {
   "cell_type": "markdown",
   "id": "8269f6db-492b-408a-aa4a-93847118230b",
   "metadata": {},
   "source": [
    "## Build deployment transaction"
   ]
  },
  {
   "cell_type": "code",
   "execution_count": 44,
   "id": "ceb4e2dc-506f-494c-90a5-30032746180c",
   "metadata": {},
   "outputs": [],
   "source": [
    "transaction = RepositoryTracker.constructor('hash', 'reponame', developers, auditors).buildTransaction(\n",
    "    {\n",
    "        \"gasPrice\": w3.eth.gas_price,\n",
    "        \"from\": owner_wallet,\n",
    "        \"chainId\": chainId,\n",
    "        \"nonce\": nonce,\n",
    "    }\n",
    ")"
   ]
  },
  {
   "cell_type": "markdown",
   "id": "5616c650-da53-4e57-93d7-ec4607ad6776",
   "metadata": {},
   "source": [
    "## Sign transaction with private key"
   ]
  },
  {
   "cell_type": "code",
   "execution_count": 45,
   "id": "f564ee43-e6ef-4558-a17e-bc3fd4acced3",
   "metadata": {},
   "outputs": [],
   "source": [
    "signed_transaction = w3.eth.account.sign_transaction(transaction, private_key=owner_wallet_private_key)\n",
    "# signed_transaction"
   ]
  },
  {
   "cell_type": "markdown",
   "id": "b89445df-ced5-4b50-9761-b8d32dac1ab1",
   "metadata": {},
   "source": [
    "## Perform transaction"
   ]
  },
  {
   "cell_type": "code",
   "execution_count": 46,
   "id": "cf250d73-77a6-477f-890d-d6260101521d",
   "metadata": {},
   "outputs": [
    {
     "data": {
      "text/plain": [
       "HexBytes('0x142b20723ab4f7cbbc305a9459ca29aecbf891d80749fd32d23d84c1f589fc04')"
      ]
     },
     "execution_count": 46,
     "metadata": {},
     "output_type": "execute_result"
    }
   ],
   "source": [
    "tx_hash = w3.eth.send_raw_transaction(signed_transaction.rawTransaction)\n",
    "\n",
    "# update nonce after each successful transaction: each transaction needs to have a unique nonce\n",
    "nonce += 1\n",
    "\n",
    "tx_hash"
   ]
  },
  {
   "cell_type": "code",
   "execution_count": 51,
   "id": "eb23bf0e-1d13-4b78-abea-cb6c129ff293",
   "metadata": {},
   "outputs": [
    {
     "data": {
      "text/plain": [
       "AttributeDict({'transactionHash': HexBytes('0x142b20723ab4f7cbbc305a9459ca29aecbf891d80749fd32d23d84c1f589fc04'),\n",
       " 'transactionIndex': 0,\n",
       " 'blockHash': HexBytes('0xac170e19aecc19b255c70351266841baead10f89d2bc7cf7867d7e4317510f90'),\n",
       " 'blockNumber': 30,\n",
       " 'from': '0x90F8bf6A479f320ead074411a4B0e7944Ea8c9C1',\n",
       " 'to': None,\n",
       " 'gasUsed': 1986362,\n",
       " 'cumulativeGasUsed': 1986362,\n",
       " 'contractAddress': '0x86072CbFF48dA3C1F01824a6761A03F105BCC697',\n",
       " 'logs': [AttributeDict({'logIndex': 0,\n",
       "   'transactionIndex': 0,\n",
       "   'transactionHash': HexBytes('0x142b20723ab4f7cbbc305a9459ca29aecbf891d80749fd32d23d84c1f589fc04'),\n",
       "   'blockHash': HexBytes('0xac170e19aecc19b255c70351266841baead10f89d2bc7cf7867d7e4317510f90'),\n",
       "   'blockNumber': 30,\n",
       "   'address': '0x86072CbFF48dA3C1F01824a6761A03F105BCC697',\n",
       "   'data': '0x',\n",
       "   'topics': [HexBytes('0x8be0079c531659141344cd1fd0a4f28419497f9722a3daafe3b4186f6b6457e0'),\n",
       "    HexBytes('0x0000000000000000000000000000000000000000000000000000000000000000'),\n",
       "    HexBytes('0x00000000000000000000000090f8bf6a479f320ead074411a4b0e7944ea8c9c1')],\n",
       "   'type': 'mined',\n",
       "   'removed': False}),\n",
       "  AttributeDict({'logIndex': 1,\n",
       "   'transactionIndex': 0,\n",
       "   'transactionHash': HexBytes('0x142b20723ab4f7cbbc305a9459ca29aecbf891d80749fd32d23d84c1f589fc04'),\n",
       "   'blockHash': HexBytes('0xac170e19aecc19b255c70351266841baead10f89d2bc7cf7867d7e4317510f90'),\n",
       "   'blockNumber': 30,\n",
       "   'address': '0x86072CbFF48dA3C1F01824a6761A03F105BCC697',\n",
       "   'data': '0x',\n",
       "   'topics': [HexBytes('0x2f8788117e7eff1d82e926ec794901d17c78024a50270940304540a733656f0d'),\n",
       "    HexBytes('0x0000000000000000000000000000000000000000000000000000000000000000'),\n",
       "    HexBytes('0x00000000000000000000000090f8bf6a479f320ead074411a4b0e7944ea8c9c1'),\n",
       "    HexBytes('0x00000000000000000000000090f8bf6a479f320ead074411a4b0e7944ea8c9c1')],\n",
       "   'type': 'mined',\n",
       "   'removed': False}),\n",
       "  AttributeDict({'logIndex': 2,\n",
       "   'transactionIndex': 0,\n",
       "   'transactionHash': HexBytes('0x142b20723ab4f7cbbc305a9459ca29aecbf891d80749fd32d23d84c1f589fc04'),\n",
       "   'blockHash': HexBytes('0xac170e19aecc19b255c70351266841baead10f89d2bc7cf7867d7e4317510f90'),\n",
       "   'blockNumber': 30,\n",
       "   'address': '0x86072CbFF48dA3C1F01824a6761A03F105BCC697',\n",
       "   'data': '0x',\n",
       "   'topics': [HexBytes('0x2f8788117e7eff1d82e926ec794901d17c78024a50270940304540a733656f0d'),\n",
       "    HexBytes('0x51b355059847d158e68950419dbcd54fad00bdfd0634c2515a5c533288c7f0a2'),\n",
       "    HexBytes('0x0000000000000000000000003e5e9111ae8eb78fe1cc3bb8915d5d461f3ef9a9'),\n",
       "    HexBytes('0x00000000000000000000000090f8bf6a479f320ead074411a4b0e7944ea8c9c1')],\n",
       "   'type': 'mined',\n",
       "   'removed': False}),\n",
       "  AttributeDict({'logIndex': 3,\n",
       "   'transactionIndex': 0,\n",
       "   'transactionHash': HexBytes('0x142b20723ab4f7cbbc305a9459ca29aecbf891d80749fd32d23d84c1f589fc04'),\n",
       "   'blockHash': HexBytes('0xac170e19aecc19b255c70351266841baead10f89d2bc7cf7867d7e4317510f90'),\n",
       "   'blockNumber': 30,\n",
       "   'address': '0x86072CbFF48dA3C1F01824a6761A03F105BCC697',\n",
       "   'data': '0x',\n",
       "   'topics': [HexBytes('0x2f8788117e7eff1d82e926ec794901d17c78024a50270940304540a733656f0d'),\n",
       "    HexBytes('0x51b355059847d158e68950419dbcd54fad00bdfd0634c2515a5c533288c7f0a2'),\n",
       "    HexBytes('0x00000000000000000000000028a8746e75304c0780e011bed21c72cd78cd535e'),\n",
       "    HexBytes('0x00000000000000000000000090f8bf6a479f320ead074411a4b0e7944ea8c9c1')],\n",
       "   'type': 'mined',\n",
       "   'removed': False}),\n",
       "  AttributeDict({'logIndex': 4,\n",
       "   'transactionIndex': 0,\n",
       "   'transactionHash': HexBytes('0x142b20723ab4f7cbbc305a9459ca29aecbf891d80749fd32d23d84c1f589fc04'),\n",
       "   'blockHash': HexBytes('0xac170e19aecc19b255c70351266841baead10f89d2bc7cf7867d7e4317510f90'),\n",
       "   'blockNumber': 30,\n",
       "   'address': '0x86072CbFF48dA3C1F01824a6761A03F105BCC697',\n",
       "   'data': '0x',\n",
       "   'topics': [HexBytes('0x2f8788117e7eff1d82e926ec794901d17c78024a50270940304540a733656f0d'),\n",
       "    HexBytes('0x5db53b6955dc773ef555b3cc1835ee528ea8da7adbe1cd523fbff73209b77e0b'),\n",
       "    HexBytes('0x000000000000000000000000aca94ef8bd5ffee41947b4585a84bda5a3d3da6e'),\n",
       "    HexBytes('0x00000000000000000000000090f8bf6a479f320ead074411a4b0e7944ea8c9c1')],\n",
       "   'type': 'mined',\n",
       "   'removed': False}),\n",
       "  AttributeDict({'logIndex': 5,\n",
       "   'transactionIndex': 0,\n",
       "   'transactionHash': HexBytes('0x142b20723ab4f7cbbc305a9459ca29aecbf891d80749fd32d23d84c1f589fc04'),\n",
       "   'blockHash': HexBytes('0xac170e19aecc19b255c70351266841baead10f89d2bc7cf7867d7e4317510f90'),\n",
       "   'blockNumber': 30,\n",
       "   'address': '0x86072CbFF48dA3C1F01824a6761A03F105BCC697',\n",
       "   'data': '0x',\n",
       "   'topics': [HexBytes('0x2f8788117e7eff1d82e926ec794901d17c78024a50270940304540a733656f0d'),\n",
       "    HexBytes('0x5db53b6955dc773ef555b3cc1835ee528ea8da7adbe1cd523fbff73209b77e0b'),\n",
       "    HexBytes('0x0000000000000000000000001df62f291b2e969fb0849d99d9ce41e2f137006e'),\n",
       "    HexBytes('0x00000000000000000000000090f8bf6a479f320ead074411a4b0e7944ea8c9c1')],\n",
       "   'type': 'mined',\n",
       "   'removed': False})],\n",
       " 'status': 1,\n",
       " 'logsBloom': HexBytes('0x000000040010000000000000000000000080000000000000008000000000020000000000000000000000a0201000000000000000000000020000000000040000001000000000000000000000000000000001000800000000000000000000000000000000020000000000000008000800000000000000000004000000008000400000000001000000000000004000000000000000000000000000000000000000000002000000000000000000000002000000000000000000001000000000000000000000000000000000000000000200000000000000000100000000140020000008000000000000000000000000000000000000000000000000000000000000')})"
      ]
     },
     "execution_count": 51,
     "metadata": {},
     "output_type": "execute_result"
    }
   ],
   "source": [
    "tx_receipt = w3.eth.wait_for_transaction_receipt(tx_hash)\n",
    "tx_receipt"
   ]
  },
  {
   "cell_type": "markdown",
   "id": "293792c0-5ce1-4435-99ec-60a43fbe1407",
   "metadata": {
    "tags": []
   },
   "source": [
    "## Capture contract address"
   ]
  },
  {
   "cell_type": "code",
   "execution_count": 52,
   "id": "3299e573-ab8d-4745-9965-cfeab5847d19",
   "metadata": {},
   "outputs": [
    {
     "data": {
      "text/plain": [
       "'0x86072CbFF48dA3C1F01824a6761A03F105BCC697'"
      ]
     },
     "execution_count": 52,
     "metadata": {},
     "output_type": "execute_result"
    }
   ],
   "source": [
    "contract_address = tx_receipt.contractAddress\n",
    "contract_address"
   ]
  },
  {
   "cell_type": "markdown",
   "id": "ab5de9a0-fe71-4ca3-b109-dec79bff197a",
   "metadata": {
    "tags": []
   },
   "source": [
    "# Get Contract Instance from Test net"
   ]
  },
  {
   "cell_type": "code",
   "execution_count": 53,
   "id": "61bd5568-495c-4bae-a7fc-cd506d90a438",
   "metadata": {},
   "outputs": [
    {
     "data": {
      "text/plain": [
       "<web3._utils.datatypes.Contract at 0x7f57d9743e80>"
      ]
     },
     "execution_count": 53,
     "metadata": {},
     "output_type": "execute_result"
    }
   ],
   "source": [
    "contract_instance = w3.eth.contract(address=contract_address, abi=abi)\n",
    "contract_instance"
   ]
  },
  {
   "cell_type": "markdown",
   "id": "a4cebf8b-437d-4a1f-94cd-9af8abe49aef",
   "metadata": {},
   "source": [
    "## Getter call"
   ]
  },
  {
   "cell_type": "code",
   "execution_count": 55,
   "id": "951ba1cb-1764-4248-970e-d60e86c3b8aa",
   "metadata": {},
   "outputs": [
    {
     "data": {
      "text/plain": [
       "'hash'"
      ]
     },
     "execution_count": 55,
     "metadata": {},
     "output_type": "execute_result"
    }
   ],
   "source": [
    "contract_instance.functions.getIpfsAddress().call(\n",
    "    {\n",
    "        \"from\": auditor_wallets[1]\n",
    "    }\n",
    ")"
   ]
  },
  {
   "cell_type": "markdown",
   "id": "128a3b64-984c-4e5e-abf8-ae685eff7840",
   "metadata": {},
   "source": [
    "## Simulate setter transaction"
   ]
  },
  {
   "cell_type": "code",
   "execution_count": 56,
   "id": "a3330d77-7b3a-47d0-84bc-702f27b02baf",
   "metadata": {},
   "outputs": [
    {
     "ename": "ContractLogicError",
     "evalue": "execution reverted: VM Exception while processing transaction: revert Caller is not a developer!",
     "output_type": "error",
     "traceback": [
      "\u001b[0;31m---------------------------------------------------------------------------\u001b[0m",
      "\u001b[0;31mContractLogicError\u001b[0m                        Traceback (most recent call last)",
      "Cell \u001b[0;32mIn[56], line 1\u001b[0m\n\u001b[0;32m----> 1\u001b[0m \u001b[43mcontract_instance\u001b[49m\u001b[38;5;241;43m.\u001b[39;49m\u001b[43mfunctions\u001b[49m\u001b[38;5;241;43m.\u001b[39;49m\u001b[43msetIpfsAddress\u001b[49m\u001b[43m(\u001b[49m\u001b[38;5;124;43m'\u001b[39;49m\u001b[38;5;124;43msettingBafyAddr\u001b[39;49m\u001b[38;5;124;43m'\u001b[39;49m\u001b[43m)\u001b[49m\u001b[38;5;241;43m.\u001b[39;49m\u001b[43mcall\u001b[49m\u001b[43m(\u001b[49m\u001b[43m)\u001b[49m\n",
      "File \u001b[0;32m/data2/web3/web3/lib/python3.10/site-packages/web3/contract.py:970\u001b[0m, in \u001b[0;36mContractFunction.call\u001b[0;34m(self, transaction, block_identifier, state_override)\u001b[0m\n\u001b[1;32m    964\u001b[0m         \u001b[38;5;28;01mraise\u001b[39;00m \u001b[38;5;167;01mValueError\u001b[39;00m(\n\u001b[1;32m    965\u001b[0m             \u001b[38;5;124m\"\u001b[39m\u001b[38;5;124mPlease ensure that this contract instance has an address.\u001b[39m\u001b[38;5;124m\"\u001b[39m\n\u001b[1;32m    966\u001b[0m         )\n\u001b[1;32m    968\u001b[0m block_id \u001b[38;5;241m=\u001b[39m parse_block_identifier(\u001b[38;5;28mself\u001b[39m\u001b[38;5;241m.\u001b[39mweb3, block_identifier)\n\u001b[0;32m--> 970\u001b[0m \u001b[38;5;28;01mreturn\u001b[39;00m \u001b[43mcall_contract_function\u001b[49m\u001b[43m(\u001b[49m\n\u001b[1;32m    971\u001b[0m \u001b[43m    \u001b[49m\u001b[38;5;28;43mself\u001b[39;49m\u001b[38;5;241;43m.\u001b[39;49m\u001b[43mweb3\u001b[49m\u001b[43m,\u001b[49m\n\u001b[1;32m    972\u001b[0m \u001b[43m    \u001b[49m\u001b[38;5;28;43mself\u001b[39;49m\u001b[38;5;241;43m.\u001b[39;49m\u001b[43maddress\u001b[49m\u001b[43m,\u001b[49m\n\u001b[1;32m    973\u001b[0m \u001b[43m    \u001b[49m\u001b[38;5;28;43mself\u001b[39;49m\u001b[38;5;241;43m.\u001b[39;49m\u001b[43m_return_data_normalizers\u001b[49m\u001b[43m,\u001b[49m\n\u001b[1;32m    974\u001b[0m \u001b[43m    \u001b[49m\u001b[38;5;28;43mself\u001b[39;49m\u001b[38;5;241;43m.\u001b[39;49m\u001b[43mfunction_identifier\u001b[49m\u001b[43m,\u001b[49m\n\u001b[1;32m    975\u001b[0m \u001b[43m    \u001b[49m\u001b[43mcall_transaction\u001b[49m\u001b[43m,\u001b[49m\n\u001b[1;32m    976\u001b[0m \u001b[43m    \u001b[49m\u001b[43mblock_id\u001b[49m\u001b[43m,\u001b[49m\n\u001b[1;32m    977\u001b[0m \u001b[43m    \u001b[49m\u001b[38;5;28;43mself\u001b[39;49m\u001b[38;5;241;43m.\u001b[39;49m\u001b[43mcontract_abi\u001b[49m\u001b[43m,\u001b[49m\n\u001b[1;32m    978\u001b[0m \u001b[43m    \u001b[49m\u001b[38;5;28;43mself\u001b[39;49m\u001b[38;5;241;43m.\u001b[39;49m\u001b[43mabi\u001b[49m\u001b[43m,\u001b[49m\n\u001b[1;32m    979\u001b[0m \u001b[43m    \u001b[49m\u001b[43mstate_override\u001b[49m\u001b[43m,\u001b[49m\n\u001b[1;32m    980\u001b[0m \u001b[43m    \u001b[49m\u001b[38;5;241;43m*\u001b[39;49m\u001b[38;5;28;43mself\u001b[39;49m\u001b[38;5;241;43m.\u001b[39;49m\u001b[43margs\u001b[49m\u001b[43m,\u001b[49m\n\u001b[1;32m    981\u001b[0m \u001b[43m    \u001b[49m\u001b[38;5;241;43m*\u001b[39;49m\u001b[38;5;241;43m*\u001b[39;49m\u001b[38;5;28;43mself\u001b[39;49m\u001b[38;5;241;43m.\u001b[39;49m\u001b[43mkwargs\u001b[49m\n\u001b[1;32m    982\u001b[0m \u001b[43m\u001b[49m\u001b[43m)\u001b[49m\n",
      "File \u001b[0;32m/data2/web3/web3/lib/python3.10/site-packages/web3/contract.py:1525\u001b[0m, in \u001b[0;36mcall_contract_function\u001b[0;34m(web3, address, normalizers, function_identifier, transaction, block_id, contract_abi, fn_abi, state_override, *args, **kwargs)\u001b[0m\n\u001b[1;32m   1510\u001b[0m \u001b[38;5;124;03m\"\"\"\u001b[39;00m\n\u001b[1;32m   1511\u001b[0m \u001b[38;5;124;03mHelper function for interacting with a contract function using the\u001b[39;00m\n\u001b[1;32m   1512\u001b[0m \u001b[38;5;124;03m`eth_call` API.\u001b[39;00m\n\u001b[1;32m   1513\u001b[0m \u001b[38;5;124;03m\"\"\"\u001b[39;00m\n\u001b[1;32m   1514\u001b[0m call_transaction \u001b[38;5;241m=\u001b[39m prepare_transaction(\n\u001b[1;32m   1515\u001b[0m     address,\n\u001b[1;32m   1516\u001b[0m     web3,\n\u001b[0;32m   (...)\u001b[0m\n\u001b[1;32m   1522\u001b[0m     fn_kwargs\u001b[38;5;241m=\u001b[39mkwargs,\n\u001b[1;32m   1523\u001b[0m )\n\u001b[0;32m-> 1525\u001b[0m return_data \u001b[38;5;241m=\u001b[39m \u001b[43mweb3\u001b[49m\u001b[38;5;241;43m.\u001b[39;49m\u001b[43meth\u001b[49m\u001b[38;5;241;43m.\u001b[39;49m\u001b[43mcall\u001b[49m\u001b[43m(\u001b[49m\n\u001b[1;32m   1526\u001b[0m \u001b[43m    \u001b[49m\u001b[43mcall_transaction\u001b[49m\u001b[43m,\u001b[49m\n\u001b[1;32m   1527\u001b[0m \u001b[43m    \u001b[49m\u001b[43mblock_identifier\u001b[49m\u001b[38;5;241;43m=\u001b[39;49m\u001b[43mblock_id\u001b[49m\u001b[43m,\u001b[49m\n\u001b[1;32m   1528\u001b[0m \u001b[43m    \u001b[49m\u001b[43mstate_override\u001b[49m\u001b[38;5;241;43m=\u001b[39;49m\u001b[43mstate_override\u001b[49m\u001b[43m,\u001b[49m\n\u001b[1;32m   1529\u001b[0m \u001b[43m\u001b[49m\u001b[43m)\u001b[49m\n\u001b[1;32m   1531\u001b[0m \u001b[38;5;28;01mif\u001b[39;00m fn_abi \u001b[38;5;129;01mis\u001b[39;00m \u001b[38;5;28;01mNone\u001b[39;00m:\n\u001b[1;32m   1532\u001b[0m     fn_abi \u001b[38;5;241m=\u001b[39m find_matching_fn_abi(contract_abi, web3\u001b[38;5;241m.\u001b[39mcodec, function_identifier, args, kwargs)\n",
      "File \u001b[0;32m/data2/web3/web3/lib/python3.10/site-packages/web3/module.py:57\u001b[0m, in \u001b[0;36mretrieve_blocking_method_call_fn.<locals>.caller\u001b[0;34m(*args, **kwargs)\u001b[0m\n\u001b[1;32m     55\u001b[0m     \u001b[38;5;28;01mreturn\u001b[39;00m LogFilter(eth_module\u001b[38;5;241m=\u001b[39mmodule, filter_id\u001b[38;5;241m=\u001b[39merr\u001b[38;5;241m.\u001b[39mfilter_id)\n\u001b[1;32m     56\u001b[0m result_formatters, error_formatters, null_result_formatters \u001b[38;5;241m=\u001b[39m response_formatters\n\u001b[0;32m---> 57\u001b[0m result \u001b[38;5;241m=\u001b[39m \u001b[43mw3\u001b[49m\u001b[38;5;241;43m.\u001b[39;49m\u001b[43mmanager\u001b[49m\u001b[38;5;241;43m.\u001b[39;49m\u001b[43mrequest_blocking\u001b[49m\u001b[43m(\u001b[49m\u001b[43mmethod_str\u001b[49m\u001b[43m,\u001b[49m\n\u001b[1;32m     58\u001b[0m \u001b[43m                                     \u001b[49m\u001b[43mparams\u001b[49m\u001b[43m,\u001b[49m\n\u001b[1;32m     59\u001b[0m \u001b[43m                                     \u001b[49m\u001b[43merror_formatters\u001b[49m\u001b[43m,\u001b[49m\n\u001b[1;32m     60\u001b[0m \u001b[43m                                     \u001b[49m\u001b[43mnull_result_formatters\u001b[49m\u001b[43m)\u001b[49m\n\u001b[1;32m     61\u001b[0m \u001b[38;5;28;01mreturn\u001b[39;00m apply_result_formatters(result_formatters, result)\n",
      "File \u001b[0;32m/data2/web3/web3/lib/python3.10/site-packages/web3/manager.py:198\u001b[0m, in \u001b[0;36mRequestManager.request_blocking\u001b[0;34m(self, method, params, error_formatters, null_result_formatters)\u001b[0m\n\u001b[1;32m    194\u001b[0m \u001b[38;5;124;03m\"\"\"\u001b[39;00m\n\u001b[1;32m    195\u001b[0m \u001b[38;5;124;03mMake a synchronous request using the provider\u001b[39;00m\n\u001b[1;32m    196\u001b[0m \u001b[38;5;124;03m\"\"\"\u001b[39;00m\n\u001b[1;32m    197\u001b[0m response \u001b[38;5;241m=\u001b[39m \u001b[38;5;28mself\u001b[39m\u001b[38;5;241m.\u001b[39m_make_request(method, params)\n\u001b[0;32m--> 198\u001b[0m \u001b[38;5;28;01mreturn\u001b[39;00m \u001b[38;5;28;43mself\u001b[39;49m\u001b[38;5;241;43m.\u001b[39;49m\u001b[43mformatted_response\u001b[49m\u001b[43m(\u001b[49m\u001b[43mresponse\u001b[49m\u001b[43m,\u001b[49m\n\u001b[1;32m    199\u001b[0m \u001b[43m                               \u001b[49m\u001b[43mparams\u001b[49m\u001b[43m,\u001b[49m\n\u001b[1;32m    200\u001b[0m \u001b[43m                               \u001b[49m\u001b[43merror_formatters\u001b[49m\u001b[43m,\u001b[49m\n\u001b[1;32m    201\u001b[0m \u001b[43m                               \u001b[49m\u001b[43mnull_result_formatters\u001b[49m\u001b[43m)\u001b[49m\n",
      "File \u001b[0;32m/data2/web3/web3/lib/python3.10/site-packages/web3/manager.py:170\u001b[0m, in \u001b[0;36mRequestManager.formatted_response\u001b[0;34m(response, params, error_formatters, null_result_formatters)\u001b[0m\n\u001b[1;32m    162\u001b[0m \u001b[38;5;129m@staticmethod\u001b[39m\n\u001b[1;32m    163\u001b[0m \u001b[38;5;28;01mdef\u001b[39;00m \u001b[38;5;21mformatted_response\u001b[39m(\n\u001b[1;32m    164\u001b[0m     response: RPCResponse,\n\u001b[0;32m   (...)\u001b[0m\n\u001b[1;32m    167\u001b[0m     null_result_formatters: Optional[Callable[\u001b[38;5;241m.\u001b[39m\u001b[38;5;241m.\u001b[39m\u001b[38;5;241m.\u001b[39m, Any]] \u001b[38;5;241m=\u001b[39m \u001b[38;5;28;01mNone\u001b[39;00m,\n\u001b[1;32m    168\u001b[0m ) \u001b[38;5;241m-\u001b[39m\u001b[38;5;241m>\u001b[39m Any:\n\u001b[1;32m    169\u001b[0m     \u001b[38;5;28;01mif\u001b[39;00m \u001b[38;5;124m\"\u001b[39m\u001b[38;5;124merror\u001b[39m\u001b[38;5;124m\"\u001b[39m \u001b[38;5;129;01min\u001b[39;00m response:\n\u001b[0;32m--> 170\u001b[0m         \u001b[43mapply_error_formatters\u001b[49m\u001b[43m(\u001b[49m\u001b[43merror_formatters\u001b[49m\u001b[43m,\u001b[49m\u001b[43m \u001b[49m\u001b[43mresponse\u001b[49m\u001b[43m)\u001b[49m\n\u001b[1;32m    171\u001b[0m         \u001b[38;5;28;01mraise\u001b[39;00m \u001b[38;5;167;01mValueError\u001b[39;00m(response[\u001b[38;5;124m\"\u001b[39m\u001b[38;5;124merror\u001b[39m\u001b[38;5;124m\"\u001b[39m])\n\u001b[1;32m    172\u001b[0m     \u001b[38;5;66;03m# NULL_RESPONSES includes None, so return False here as the default\u001b[39;00m\n\u001b[1;32m    173\u001b[0m     \u001b[38;5;66;03m# so we don't apply the null_result_formatters if there is no 'result' key\u001b[39;00m\n",
      "File \u001b[0;32m/data2/web3/web3/lib/python3.10/site-packages/web3/manager.py:70\u001b[0m, in \u001b[0;36mapply_error_formatters\u001b[0;34m(error_formatters, response)\u001b[0m\n\u001b[1;32m     65\u001b[0m \u001b[38;5;28;01mdef\u001b[39;00m \u001b[38;5;21mapply_error_formatters\u001b[39m(\n\u001b[1;32m     66\u001b[0m     error_formatters: Callable[\u001b[38;5;241m.\u001b[39m\u001b[38;5;241m.\u001b[39m\u001b[38;5;241m.\u001b[39m, Any],\n\u001b[1;32m     67\u001b[0m     response: RPCResponse,\n\u001b[1;32m     68\u001b[0m ) \u001b[38;5;241m-\u001b[39m\u001b[38;5;241m>\u001b[39m RPCResponse:\n\u001b[1;32m     69\u001b[0m     \u001b[38;5;28;01mif\u001b[39;00m error_formatters:\n\u001b[0;32m---> 70\u001b[0m         formatted_resp \u001b[38;5;241m=\u001b[39m \u001b[43mpipe\u001b[49m\u001b[43m(\u001b[49m\u001b[43mresponse\u001b[49m\u001b[43m,\u001b[49m\u001b[43m \u001b[49m\u001b[43merror_formatters\u001b[49m\u001b[43m)\u001b[49m\n\u001b[1;32m     71\u001b[0m         \u001b[38;5;28;01mreturn\u001b[39;00m formatted_resp\n\u001b[1;32m     72\u001b[0m     \u001b[38;5;28;01melse\u001b[39;00m:\n",
      "File \u001b[0;32m/data2/web3/web3/lib/python3.10/site-packages/cytoolz/functoolz.pyx:666\u001b[0m, in \u001b[0;36mcytoolz.functoolz.pipe\u001b[0;34m()\u001b[0m\n",
      "File \u001b[0;32m/data2/web3/web3/lib/python3.10/site-packages/cytoolz/functoolz.pyx:641\u001b[0m, in \u001b[0;36mcytoolz.functoolz.c_pipe\u001b[0;34m()\u001b[0m\n",
      "File \u001b[0;32m/data2/web3/web3/lib/python3.10/site-packages/web3/_utils/method_formatters.py:561\u001b[0m, in \u001b[0;36mraise_solidity_error_on_revert\u001b[0;34m(response)\u001b[0m\n\u001b[1;32m    559\u001b[0m \u001b[38;5;66;03m# Ganache case:\u001b[39;00m\n\u001b[1;32m    560\u001b[0m \u001b[38;5;28;01mif\u001b[39;00m \u001b[38;5;28misinstance\u001b[39m(data, \u001b[38;5;28mdict\u001b[39m) \u001b[38;5;129;01mand\u001b[39;00m response[\u001b[38;5;124m'\u001b[39m\u001b[38;5;124merror\u001b[39m\u001b[38;5;124m'\u001b[39m]\u001b[38;5;241m.\u001b[39mget(\u001b[38;5;124m'\u001b[39m\u001b[38;5;124mmessage\u001b[39m\u001b[38;5;124m'\u001b[39m):\n\u001b[0;32m--> 561\u001b[0m     \u001b[38;5;28;01mraise\u001b[39;00m ContractLogicError(\u001b[38;5;124mf\u001b[39m\u001b[38;5;124m'\u001b[39m\u001b[38;5;124mexecution reverted: \u001b[39m\u001b[38;5;132;01m{\u001b[39;00mresponse[\u001b[38;5;124m\"\u001b[39m\u001b[38;5;124merror\u001b[39m\u001b[38;5;124m\"\u001b[39m][\u001b[38;5;124m\"\u001b[39m\u001b[38;5;124mmessage\u001b[39m\u001b[38;5;124m\"\u001b[39m]\u001b[38;5;132;01m}\u001b[39;00m\u001b[38;5;124m'\u001b[39m)\n\u001b[1;32m    563\u001b[0m \u001b[38;5;66;03m# Parity/OpenEthereum case:\u001b[39;00m\n\u001b[1;32m    564\u001b[0m \u001b[38;5;28;01mif\u001b[39;00m data\u001b[38;5;241m.\u001b[39mstartswith(\u001b[38;5;124m'\u001b[39m\u001b[38;5;124mReverted \u001b[39m\u001b[38;5;124m'\u001b[39m):\n\u001b[1;32m    565\u001b[0m     \u001b[38;5;66;03m# \"Reverted\", function selector and offset are always the same for revert errors\u001b[39;00m\n",
      "\u001b[0;31mContractLogicError\u001b[0m: execution reverted: VM Exception while processing transaction: revert Caller is not a developer!"
     ]
    }
   ],
   "source": [
    "contract_instance.functions.setIpfsAddress('settingBafyAddr').call()"
   ]
  },
  {
   "cell_type": "markdown",
   "id": "b48928d4-9bee-4db5-a231-a5eea1246512",
   "metadata": {},
   "source": [
    "## Setter call"
   ]
  },
  {
   "cell_type": "code",
   "execution_count": 60,
   "id": "3705d0b6-0f98-477b-80e2-0725c038f6b7",
   "metadata": {},
   "outputs": [],
   "source": [
    "set_ipfs_addr_transaction = contract_instance.functions.setIpfsAddress('fakeBafyHash').buildTransaction({\n",
    "        \"gasPrice\": w3.eth.gas_price,\n",
    "        \"from\": developer_wallets[0],\n",
    "        \"chainId\": chainId,\n",
    "        \"nonce\":  w3.eth.getTransactionCount(developer_wallets[0]),\n",
    "})"
   ]
  },
  {
   "cell_type": "code",
   "execution_count": 61,
   "id": "0135bd09-0328-434b-a59a-c566c5e1d08b",
   "metadata": {},
   "outputs": [],
   "source": [
    "signed_set_ipfs_addr_transaction = w3.eth.account.sign_transaction(set_ipfs_addr_transaction, private_key=developer_private_keys[0])"
   ]
  },
  {
   "cell_type": "code",
   "execution_count": 62,
   "id": "f74a1453-c59e-41f6-8de8-641fb5a9eec7",
   "metadata": {},
   "outputs": [
    {
     "data": {
      "text/plain": [
       "AttributeDict({'transactionHash': HexBytes('0x0e2dba4595fd255fc540086588af749bfd05281984c30f0b6d42de7b9b737f79'),\n",
       " 'transactionIndex': 0,\n",
       " 'blockHash': HexBytes('0x42a545fc2aba9fc69c89ef316679a57a01d760a49db14cabc284a34bda739ed2'),\n",
       " 'blockNumber': 31,\n",
       " 'from': '0x3E5e9111Ae8eB78Fe1CC3bb8915d5D461F3Ef9A9',\n",
       " 'to': '0x86072CbFF48dA3C1F01824a6761A03F105BCC697',\n",
       " 'gasUsed': 29675,\n",
       " 'cumulativeGasUsed': 29675,\n",
       " 'contractAddress': None,\n",
       " 'logs': [],\n",
       " 'status': 1,\n",
       " 'logsBloom': HexBytes('0x00000000000000000000000000000000000000000000000000000000000000000000000000000000000000000000000000000000000000000000000000000000000000000000000000000000000000000000000000000000000000000000000000000000000000000000000000000000000000000000000000000000000000000000000000000000000000000000000000000000000000000000000000000000000000000000000000000000000000000000000000000000000000000000000000000000000000000000000000000000000000000000000000000000000000000000000000000000000000000000000000000000000000000000000000000000')})"
      ]
     },
     "execution_count": 62,
     "metadata": {},
     "output_type": "execute_result"
    }
   ],
   "source": [
    "set_ipfs_tx_hash = w3.eth.send_raw_transaction(signed_set_ipfs_addr_transaction.rawTransaction)\n",
    "set_ipfs_tx_receipt = w3.eth.wait_for_transaction_receipt(set_ipfs_tx_hash)\n",
    "\n",
    "set_ipfs_tx_receipt"
   ]
  },
  {
   "cell_type": "code",
   "execution_count": 63,
   "id": "a9a1a921-d218-497a-8d0b-057e7646265f",
   "metadata": {},
   "outputs": [
    {
     "data": {
      "text/plain": [
       "'fakeBafyHash'"
      ]
     },
     "execution_count": 63,
     "metadata": {},
     "output_type": "execute_result"
    }
   ],
   "source": [
    "contract_instance.functions.getIpfsAddress().call({\"from\": auditor_wallets[0]})"
   ]
  },
  {
   "cell_type": "markdown",
   "id": "5ab7d761-96f4-4e36-9794-9b6591f632bd",
   "metadata": {},
   "source": [
    "## Test bafyHash with non-owner"
   ]
  },
  {
   "cell_type": "code",
   "execution_count": 22,
   "id": "f142db5b-6f61-4501-8a39-178088a4fd71",
   "metadata": {},
   "outputs": [
    {
     "name": "stdout",
     "output_type": "stream",
     "text": [
      "<class 'web3.exceptions.ContractLogicError'>\n"
     ]
    }
   ],
   "source": [
    "try:\n",
    "    set_ipfs_addr_transaction = contract_instance.functions.setIpfsAddress('fakeBafyHash').buildTransaction({\n",
    "        \"gasPrice\": w3.eth.gas_price,\n",
    "        \"from\": '0x016Cf2768A5061AeD1e47DF56E9d09Acfe184692',\n",
    "        \"chainId\": chainId,\n",
    "        \"nonce\": nonce,\n",
    "    })\n",
    "    signed_set_ipfs_addr_transaction = w3.eth.account.sign_transaction(set_ipfs_addr_transaction, private_key='0x0f14c58877d8dbc422f158fbf1b654f8068c4f7cdbb8cdbcae2e671c78969713')\n",
    "\n",
    "    set_ipfs_tx_hash = w3.eth.send_raw_transaction(signed_set_ipfs_addr_transaction.rawTransaction)\n",
    "    set_ipfs_tx_receipt = w3.eth.wait_for_transaction_receipt(set_ipfs_tx_hash)\n",
    "\n",
    "    # update nonce after each successful transaction: each transaction needs to have a unique nonce\n",
    "    nonce += 1\n",
    "\n",
    "    set_ipfs_tx_receipt\n",
    "except Exception as e:\n",
    "    print(type(e))\n",
    "    # print(e.with_traceback())"
   ]
  },
  {
   "cell_type": "markdown",
   "id": "b9aea5f1-e42b-4c30-a398-f25fbc41ef18",
   "metadata": {},
   "source": [
    "ContractLogicError: execution reverted: VM Exception while processing transaction: revert Ownership Assertion: Caller of the function is not the owner."
   ]
  },
  {
   "cell_type": "markdown",
   "id": "d0302811-4611-44ed-aa30-0e96596aeb65",
   "metadata": {},
   "source": [
    "# L1 Integration with dGit"
   ]
  },
  {
   "cell_type": "markdown",
   "id": "013a5d95-1217-4214-81d0-2a58cc695e95",
   "metadata": {},
   "source": [
    "## dGit init"
   ]
  },
  {
   "cell_type": "code",
   "execution_count": 23,
   "id": "0b38f8ff-018d-4fec-bf9a-57df61d17c3d",
   "metadata": {
    "tags": []
   },
   "outputs": [
    {
     "name": "stdout",
     "output_type": "stream",
     "text": [
      "/data2/web3\n"
     ]
    }
   ],
   "source": [
    "! pwd"
   ]
  },
  {
   "cell_type": "code",
   "execution_count": 24,
   "id": "a0533601-f68f-4949-b062-c82c04a266a4",
   "metadata": {},
   "outputs": [
    {
     "name": "stdout",
     "output_type": "stream",
     "text": [
      "/data2/web3\n"
     ]
    }
   ],
   "source": [
    "#  creating a test repository\n",
    "%cd /data2/web3/\n",
    "! rm -rf test-repo\n",
    "! mkdir test-repo"
   ]
  },
  {
   "cell_type": "code",
   "execution_count": 25,
   "id": "864f557d-0cc9-4161-a839-32f5082dc698",
   "metadata": {},
   "outputs": [],
   "source": [
    "# marking dgit as executable\n",
    "! chmod +x dgit.sh"
   ]
  },
  {
   "cell_type": "code",
   "execution_count": 26,
   "id": "154ac217-62be-4c75-ab4b-35736554d310",
   "metadata": {},
   "outputs": [
    {
     "name": "stdout",
     "output_type": "stream",
     "text": [
      "/data2/web3/test-repo\n",
      "/data2/web3/test-repo\n",
      "--------------------------------------------------------------------------------\n",
      "Decentralized-Git-on-IPFS Wrapper\n",
      "--------------------------------------------------------------------------------\n",
      "init\n",
      "Using default password! \n",
      "\n",
      "Empty directory detected... creating README.md\n",
      "\u001b[33mhint: Using 'master' as the name for the initial branch. This default branch name\u001b[m\n",
      "\u001b[33mhint: is subject to change. To configure the initial branch name to use in all\u001b[m\n",
      "\u001b[33mhint: of your new repositories, which will suppress this warning, call:\u001b[m\n",
      "\u001b[33mhint: \u001b[m\n",
      "\u001b[33mhint: \tgit config --global init.defaultBranch <name>\u001b[m\n",
      "\u001b[33mhint: \u001b[m\n",
      "\u001b[33mhint: Names commonly chosen instead of 'master' are 'main', 'trunk' and\u001b[m\n",
      "\u001b[33mhint: 'development'. The just-created branch can be renamed via this command:\u001b[m\n",
      "\u001b[33mhint: \u001b[m\n",
      "\u001b[33mhint: \tgit branch -m <name>\u001b[m\n",
      "Initialized empty Git repository in /data2/web3/test-repo/.git/\n",
      "[master (root-commit) 7c47aee] Initialized new repository\n",
      " 1 file changed, 0 insertions(+), 0 deletions(-)\n",
      " create mode 100644 README.md\n",
      "\u001b[33mhint: Using 'master' as the name for the initial branch. This default branch name\u001b[m\n",
      "\u001b[33mhint: is subject to change. To configure the initial branch name to use in all\u001b[m\n",
      "\u001b[33mhint: of your new repositories, which will suppress this warning, call:\u001b[m\n",
      "\u001b[33mhint: \u001b[m\n",
      "\u001b[33mhint: \tgit config --global init.defaultBranch <name>\u001b[m\n",
      "\u001b[33mhint: \u001b[m\n",
      "\u001b[33mhint: Names commonly chosen instead of 'master' are 'main', 'trunk' and\u001b[m\n",
      "\u001b[33mhint: 'development'. The just-created branch can be renamed via this command:\u001b[m\n",
      "\u001b[33mhint: \u001b[m\n",
      "\u001b[33mhint: \tgit branch -m <name>\u001b[m\n",
      "Initialized empty Git repository in /home/rahul/.tmp/bare/test-repo/\n",
      "Pushing repository... \n",
      "\n",
      "error: No such remote: 'temp'\n",
      "Enumerating objects: 3, done.\n",
      "Counting objects: 100% (3/3), done.\n",
      "Writing objects: 100% (3/3), 229 bytes | 229.00 KiB/s, done.\n",
      "Total 3 (delta 0), reused 0 (delta 0), pack-reused 0\n",
      "To /home/rahul/.tmp/bare/test-repo\n",
      " * [new branch]      master -> master\n",
      "branch 'master' set up to track 'temp/master'.\n",
      " 17.46 KiB / 17.46 KiB [===============================================] 100.00%\u001b[2K\n",
      "Cleaning up... \n",
      "\n",
      "Writing repository tracking information to disk... \n",
      "\n",
      "Updated hash: Qmee8P1DWqeh7ZHy1J1RvsAK55EZv1duT31XPkaH9nLZwz\n",
      "\n",
      "hello world 2\n",
      "[master 9395cfd] test test\n",
      " 1 file changed, 1 insertion(+)\n",
      " create mode 100644 test.txt\n"
     ]
    }
   ],
   "source": [
    "# initialize git repository, stage changes, and commit\n",
    "%cd test-repo\n",
    "! pwd\n",
    "\n",
    "! ../dgit.sh -c init\n",
    "\n",
    "! echo \"hello world 2\" > test.txt\n",
    "! cat test.txt\n",
    "! git add .\n",
    "! git commit -m \"test test\""
   ]
  },
  {
   "cell_type": "code",
   "execution_count": 27,
   "id": "d266b55c-9908-418a-9575-91ea7f72cd1f",
   "metadata": {},
   "outputs": [
    {
     "data": {
      "text/plain": [
       "('Qmee8P1DWqeh7ZHy1J1RvsAK55EZv1duT31XPkaH9nLZwz', 'test-repo')"
      ]
     },
     "execution_count": 27,
     "metadata": {},
     "output_type": "execute_result"
    }
   ],
   "source": [
    "# capture bafyHash and friendlyName from .git/description\n",
    "\n",
    "with open(\".git/description\", \"r\") as file:\n",
    "    bafyHash = file.readline().strip()\n",
    "    friendlyName = file.readline().strip()\n",
    "\n",
    "bafyHash, friendlyName"
   ]
  },
  {
   "cell_type": "markdown",
   "id": "c5bcd78c-1ba1-4046-9610-446f9911f51c",
   "metadata": {},
   "source": [
    "### Create contract with repo info"
   ]
  },
  {
   "cell_type": "code",
   "execution_count": 28,
   "id": "045705af-5501-43aa-80a1-ef9643d87518",
   "metadata": {},
   "outputs": [
    {
     "data": {
      "text/plain": [
       "AttributeDict({'transactionHash': HexBytes('0x7b0fef9cc99ec74e6da2f506e6dc70510fb9dbcce52d347d194d8e6b067900f2'),\n",
       " 'transactionIndex': 0,\n",
       " 'blockHash': HexBytes('0x90a6816a045099d72c359bee9db1c87954f3e457dae45740431086a831b8fc24'),\n",
       " 'blockNumber': 27,\n",
       " 'from': '0x90F8bf6A479f320ead074411a4B0e7944Ea8c9C1',\n",
       " 'to': None,\n",
       " 'gasUsed': 745915,\n",
       " 'cumulativeGasUsed': 745915,\n",
       " 'contractAddress': '0xaD888d0Ade988EbEe74B8D4F39BF29a8d0fe8A8D',\n",
       " 'logs': [],\n",
       " 'status': 1,\n",
       " 'logsBloom': HexBytes('0x00000000000000000000000000000000000000000000000000000000000000000000000000000000000000000000000000000000000000000000000000000000000000000000000000000000000000000000000000000000000000000000000000000000000000000000000000000000000000000000000000000000000000000000000000000000000000000000000000000000000000000000000000000000000000000000000000000000000000000000000000000000000000000000000000000000000000000000000000000000000000000000000000000000000000000000000000000000000000000000000000000000000000000000000000000000')})"
      ]
     },
     "execution_count": 28,
     "metadata": {},
     "output_type": "execute_result"
    }
   ],
   "source": [
    "new_repo_tx = RepositoryTracker.constructor(bafyHash, friendlyName).buildTransaction(\n",
    "    {\n",
    "        \"gasPrice\": w3.eth.gas_price,\n",
    "        \"from\": wallet,\n",
    "        \"chainId\": chainId,\n",
    "        \"nonce\": nonce,\n",
    "    }\n",
    ")\n",
    "\n",
    "new_repo_tx_signed = w3.eth.account.sign_transaction(new_repo_tx, private_key=wallet_private_key)\n",
    "tx_hash = w3.eth.send_raw_transaction(new_repo_tx_signed.rawTransaction)\n",
    "tx_receipt = w3.eth.wait_for_transaction_receipt(tx_hash)\n",
    "\n",
    "nonce += 1\n",
    "\n",
    "contract_address = tx_receipt.contractAddress\n",
    "\n",
    "tx_receipt"
   ]
  },
  {
   "cell_type": "markdown",
   "id": "c19d4359-58c1-4257-8a8c-8f22063047eb",
   "metadata": {
    "tags": []
   },
   "source": [
    "### Read contract and verify changes"
   ]
  },
  {
   "cell_type": "code",
   "execution_count": 29,
   "id": "51146817-5c41-4753-b3df-a0a5c93b1cc6",
   "metadata": {},
   "outputs": [
    {
     "data": {
      "text/plain": [
       "'Qmee8P1DWqeh7ZHy1J1RvsAK55EZv1duT31XPkaH9nLZwz'"
      ]
     },
     "metadata": {},
     "output_type": "display_data"
    },
    {
     "data": {
      "text/plain": [
       "'test-repo'"
      ]
     },
     "metadata": {},
     "output_type": "display_data"
    }
   ],
   "source": [
    "contract_instance = w3.eth.contract(address=tx_receipt.contractAddress, abi=abi)\n",
    "display(contract_instance.functions.getIpfsAddress().call())\n",
    "display(contract_instance.functions.getFriendlyName().call())"
   ]
  },
  {
   "cell_type": "markdown",
   "id": "08054dc3-2bd6-46be-bcbb-b5314ef29271",
   "metadata": {},
   "source": [
    "## dGit push"
   ]
  },
  {
   "cell_type": "code",
   "execution_count": 30,
   "id": "247a6879-eefb-43e4-b5a6-7fb817e251cb",
   "metadata": {},
   "outputs": [
    {
     "name": "stdout",
     "output_type": "stream",
     "text": [
      "[master 0f02610] test push\n",
      " 1 file changed, 0 insertions(+), 0 deletions(-)\n",
      " create mode 100644 newfile\n",
      "--------------------------------------------------------------------------------\n",
      "Decentralized-Git-on-IPFS Wrapper\n",
      "--------------------------------------------------------------------------------\n",
      "push password\n",
      "Fetching repository from IPFS... \n",
      "\n",
      "Saving file(s) to /home/rahul/.tmp/Qmee8P1DWqeh7ZHy1J1RvsAK55EZv1duT31XPkaH9nLZwz.enc\n",
      " 17.46 KiB / 17.46 KiB [============================================] 100.00% 0s\n",
      "\n",
      "Decrypting contents... \n",
      "\n",
      "Friendly repository name: test-repo\n",
      "\n",
      "Pushing repository... \n",
      "\n",
      "Enumerating objects: 6, done.\n",
      "Counting objects: 100% (6/6), done.\n",
      "Delta compression using up to 8 threads\n",
      "Compressing objects: 100% (4/4), done.\n",
      "Writing objects: 100% (5/5), 473 bytes | 473.00 KiB/s, done.\n",
      "Total 5 (delta 1), reused 0 (delta 0), pack-reused 0\n",
      "To /home/rahul/.tmp/bare/test-repo\n",
      "   7c47aee..0f02610  master -> master\n",
      " 20.15 KiB / 20.15 KiB [===============================================] 100.00%\u001b[2K\n",
      "Writing repository tracking information to disk... \n",
      "\n",
      "Updated hash: QmWQFRsYCegGEuaZMDJgZKWU3KpmATXoctE8Qwrsg76vgh\n",
      "\n",
      "\n",
      "Cleaning up... \n",
      "\n"
     ]
    }
   ],
   "source": [
    "! touch newfile\n",
    "! git add .\n",
    "! git commit -m \"test push\"\n",
    "! ../dgit.sh -c push -k \"password\""
   ]
  },
  {
   "cell_type": "markdown",
   "id": "f1b70a89-ada1-4888-8a40-1910a50fabf0",
   "metadata": {},
   "source": [
    "### Update bafyHash (and friendlyName) on repo contract"
   ]
  },
  {
   "cell_type": "code",
   "execution_count": 31,
   "id": "6fbf8edb-b916-4cca-bcdd-f06bce52697c",
   "metadata": {},
   "outputs": [
    {
     "data": {
      "text/plain": [
       "'QmWQFRsYCegGEuaZMDJgZKWU3KpmATXoctE8Qwrsg76vgh'"
      ]
     },
     "metadata": {},
     "output_type": "display_data"
    },
    {
     "data": {
      "text/plain": [
       "'test-repo'"
      ]
     },
     "metadata": {},
     "output_type": "display_data"
    },
    {
     "data": {
      "text/plain": [
       "AttributeDict({'transactionHash': HexBytes('0xfaeef4803245f55623d9eaae3c043c8fb4cf1456641fed0d9c9a905239da7f65'),\n",
       " 'transactionIndex': 0,\n",
       " 'blockHash': HexBytes('0x93b13510e0d9d284f26bf453a40bdbb17ca7defe8c76cf580451dea4abd8e387'),\n",
       " 'blockNumber': 28,\n",
       " 'from': '0x90F8bf6A479f320ead074411a4B0e7944Ea8c9C1',\n",
       " 'to': '0xaD888d0Ade988EbEe74B8D4F39BF29a8d0fe8A8D',\n",
       " 'gasUsed': 36249,\n",
       " 'cumulativeGasUsed': 36249,\n",
       " 'contractAddress': None,\n",
       " 'logs': [],\n",
       " 'status': 1,\n",
       " 'logsBloom': HexBytes('0x00000000000000000000000000000000000000000000000000000000000000000000000000000000000000000000000000000000000000000000000000000000000000000000000000000000000000000000000000000000000000000000000000000000000000000000000000000000000000000000000000000000000000000000000000000000000000000000000000000000000000000000000000000000000000000000000000000000000000000000000000000000000000000000000000000000000000000000000000000000000000000000000000000000000000000000000000000000000000000000000000000000000000000000000000000000')})"
      ]
     },
     "execution_count": 31,
     "metadata": {},
     "output_type": "execute_result"
    }
   ],
   "source": [
    "# capture bafyHash and friendlyName from .git/description\n",
    "\n",
    "with open(\".git/description\", \"r\") as file:\n",
    "    bafyHash = file.readline().strip()\n",
    "    friendlyName = file.readline().strip()\n",
    "\n",
    "display(bafyHash, friendlyName)\n",
    "\n",
    "contract_instance = w3.eth.contract(address=contract_address, abi=abi)\n",
    "\n",
    "update_repo_contract_tx = contract_instance.functions.setIpfsAddress(bafyHash).buildTransaction(\n",
    "    {\n",
    "        \"gasPrice\": w3.eth.gas_price,\n",
    "        \"from\": wallet,\n",
    "        \"chainId\": chainId,\n",
    "        \"nonce\": nonce,\n",
    "    }\n",
    ")\n",
    "\n",
    "update_repo_contract_tx_signed = w3.eth.account.sign_transaction(update_repo_contract_tx, private_key=wallet_private_key)\n",
    "tx_hash = w3.eth.send_raw_transaction(update_repo_contract_tx_signed.rawTransaction)\n",
    "tx_receipt = w3.eth.wait_for_transaction_receipt(tx_hash)\n",
    "\n",
    "nonce += 1\n",
    "\n",
    "tx_receipt"
   ]
  },
  {
   "cell_type": "code",
   "execution_count": 32,
   "id": "a885c497-0cf0-41ec-8b72-7abbfd4e6c5c",
   "metadata": {},
   "outputs": [
    {
     "data": {
      "text/plain": [
       "'QmWQFRsYCegGEuaZMDJgZKWU3KpmATXoctE8Qwrsg76vgh'"
      ]
     },
     "metadata": {},
     "output_type": "display_data"
    },
    {
     "data": {
      "text/plain": [
       "'test-repo'"
      ]
     },
     "metadata": {},
     "output_type": "display_data"
    }
   ],
   "source": [
    "# verifying changes\n",
    "# contract_instance = w3.eth.contract(address=tx_receipt.contractAddress, abi=abi)\n",
    "display(contract_instance.functions.getIpfsAddress().call())\n",
    "display(contract_instance.functions.getFriendlyName().call())"
   ]
  },
  {
   "cell_type": "markdown",
   "id": "6b5a7d32-dc4f-4041-aa16-0751794d6c9b",
   "metadata": {},
   "source": [
    "## dGit clone"
   ]
  },
  {
   "cell_type": "code",
   "execution_count": 35,
   "id": "ab7164c6-e1ea-45cb-8e90-7cb7ce6ec8b5",
   "metadata": {},
   "outputs": [
    {
     "name": "stdout",
     "output_type": "stream",
     "text": [
      "/data2/web3\n",
      "/data2/web3\n",
      "--------------------------------------------------------------------------------\n",
      "Decentralized-Git-on-IPFS Wrapper\n",
      "--------------------------------------------------------------------------------\n",
      "clone password QmWQFRsYCegGEuaZMDJgZKWU3KpmATXoctE8Qwrsg76vgh\n",
      "Fetching repository from IPFS... \n",
      "\n",
      "Saving file(s) to /home/rahul/.tmp/QmWQFRsYCegGEuaZMDJgZKWU3KpmATXoctE8Qwrsg76vgh.enc\n",
      " 20.15 KiB / 20.15 KiB [============================================] 100.00% 0s\n",
      "\n",
      "Decrypting contents... \n",
      "\n",
      "Friendly repository name: test-repo\n",
      "\n",
      "Cloning repository... \n",
      "\n",
      "Cloning into 'test-repo'...\n",
      "done.\n",
      "\n",
      "Cleaning up... \n",
      "\n",
      "Writing repository tracking information to disk... \n",
      "\n"
     ]
    }
   ],
   "source": [
    "%cd /data2/web3/\n",
    "! pwd\n",
    "! rm -rf test-repo/\n",
    "! ./dgit.sh -c clone -k \"password\" -i QmWQFRsYCegGEuaZMDJgZKWU3KpmATXoctE8Qwrsg76vgh"
   ]
  },
  {
   "cell_type": "markdown",
   "id": "ef1f482a-ae67-4acc-84f6-48b56ff920bd",
   "metadata": {},
   "source": [
    "## dGit pull"
   ]
  },
  {
   "cell_type": "code",
   "execution_count": 36,
   "id": "97a5e922-bded-46de-861e-3ef34bacb19b",
   "metadata": {},
   "outputs": [
    {
     "name": "stdout",
     "output_type": "stream",
     "text": [
      "/data2/web3/test-repo\n",
      "/data2/web3/test-repo\n",
      "--------------------------------------------------------------------------------\n",
      "Decentralized-Git-on-IPFS Wrapper\n",
      "--------------------------------------------------------------------------------\n",
      "pull password QmWQFRsYCegGEuaZMDJgZKWU3KpmATXoctE8Qwrsg76vgh\n",
      "Fetching repository from IPFS... \n",
      "\n",
      "Saving file(s) to /home/rahul/.tmp/QmWQFRsYCegGEuaZMDJgZKWU3KpmATXoctE8Qwrsg76vgh.enc\n",
      " 20.15 KiB / 20.15 KiB [============================================] 100.00% 0s\n",
      "\n",
      "Decrypting contents... \n",
      "\n",
      "Friendly repository name: test-repo\n",
      "\n",
      "Pulling repository... \n",
      "\n",
      "From /home/rahul/.tmp/bare/test-repo\n",
      " * branch            HEAD       -> FETCH_HEAD\n",
      "Already up to date.\n",
      "\n",
      "Cleaning up... \n",
      "\n"
     ]
    }
   ],
   "source": [
    "%cd /data2/web3/test-repo/\n",
    "! pwd\n",
    "! ../dgit.sh -c pull -k password -i QmWQFRsYCegGEuaZMDJgZKWU3KpmATXoctE8Qwrsg76vgh"
   ]
  },
  {
   "cell_type": "markdown",
   "id": "54b9612c-830f-4a03-b957-0aa8306a6005",
   "metadata": {
    "tags": []
   },
   "source": [
    "### TODO: Implement code as .py and integrate with dGit"
   ]
  },
  {
   "cell_type": "markdown",
   "id": "157d89f1-5e34-41cf-bb95-3f15cfbe38dc",
   "metadata": {},
   "source": [
    "# L2 Integration with dGit"
   ]
  },
  {
   "cell_type": "markdown",
   "id": "b369eee5-4ee7-4538-ac13-903c5ba43481",
   "metadata": {},
   "source": [
    "## Implementing roles"
   ]
  },
  {
   "cell_type": "markdown",
   "id": "d6c60548-4313-466b-802e-79e250b14b89",
   "metadata": {},
   "source": [
    "### Trying a realistic use case:\n",
    "1. Compiling smart contract (v2)"
   ]
  },
  {
   "cell_type": "code",
   "execution_count": 220,
   "id": "9cb4584f-7b49-4bd9-a640-edcac257eb4c",
   "metadata": {},
   "outputs": [
    {
     "name": "stdout",
     "output_type": "stream",
     "text": [
      "/data2/web3\n"
     ]
    }
   ],
   "source": [
    "%cd /data2/web3/\n",
    "contract_path = \"RepositoryTracker.sol\"\n",
    "with open(contract_path, \"r\") as file:\n",
    "    contract_file = file.read()\n",
    "# print(contract_file)\n",
    "\n",
    "from solcx import compile_standard\n",
    "\n",
    "compiled_solidity = compile_standard(\n",
    "    {\n",
    "        \"language\": \"Solidity\",\n",
    "        \"sources\": {\n",
    "            \"RepositoryTracker.sol\": {\n",
    "                \"content\": contract_file,\n",
    "            }\n",
    "        },\n",
    "        \"settings\": {\n",
    "            \"outputSelection\": {\n",
    "                \"*\": {\"*\": [\"abi\", \"metadata\", \"evm.bytecode\", \"evm.sourceMap\"]}\n",
    "            }\n",
    "        },\n",
    "    },\n",
    "    solc_version=\"0.8.17\",\n",
    ")\n",
    "\n",
    "import json\n",
    "\n",
    "with open(\"compiled_contract.json\", \"w\") as file:\n",
    "    json.dump(compiled_solidity, file)\n",
    "\n",
    "abi = compiled_solidity['contracts']['RepositoryTracker.sol']['RepositoryTracker']['abi']\n",
    "bytecode = compiled_solidity['contracts']['RepositoryTracker.sol']['RepositoryTracker']['evm']['bytecode']['object']"
   ]
  },
  {
   "cell_type": "code",
   "execution_count": 221,
   "id": "a75f648f-c6aa-42c2-be2a-cea3b0c3da4a",
   "metadata": {},
   "outputs": [
    {
     "data": {
      "text/plain": [
       "'0x47a2Db5D68751EeAdFBC44851E84AcDB4F7299Cc'"
      ]
     },
     "execution_count": 221,
     "metadata": {},
     "output_type": "execute_result"
    }
   ],
   "source": [
    "RepositoryTracker = w3.eth.contract(abi=abi, bytecode=bytecode)\n",
    "\n",
    "transaction = RepositoryTracker.constructor('hash', 'reponame', developer_wallets, auditor_wallets).buildTransaction(\n",
    "    {\n",
    "        \"gasPrice\": w3.eth.gas_price,\n",
    "        \"from\": owner_wallet,\n",
    "        \"chainId\": chainId,\n",
    "        \"nonce\":  w3.eth.getTransactionCount(owner_wallet),\n",
    "    }\n",
    ")\n",
    "\n",
    "signed_transaction = w3.eth.account.sign_transaction(transaction, private_key=owner_wallet_private_key)\n",
    "\n",
    "tx_hash = w3.eth.send_raw_transaction(signed_transaction.rawTransaction)\n",
    "tx_receipt = w3.eth.wait_for_transaction_receipt(tx_hash)\n",
    "contract_address = tx_receipt.contractAddress\n",
    "contract_address"
   ]
  },
  {
   "cell_type": "code",
   "execution_count": 186,
   "id": "d4991f1b-b7e1-4a72-86cb-a9b8c1d64760",
   "metadata": {},
   "outputs": [],
   "source": [
    "contract_inst = w3.eth.contract(address=contract_address, abi=abi)"
   ]
  },
  {
   "cell_type": "markdown",
   "id": "0340775d-1659-4dbd-baad-ee85897ff253",
   "metadata": {},
   "source": [
    "2. Attempting to create a new issue"
   ]
  },
  {
   "cell_type": "code",
   "execution_count": 188,
   "id": "8ef54ebc-21af-4ebe-9fe9-3578aefceda1",
   "metadata": {},
   "outputs": [
    {
     "data": {
      "text/plain": [
       "AttributeDict({'transactionHash': HexBytes('0xdb9753a3083fecb309deaf1334e17e1efcf09c5c8309c174a480bae71cbde0b9'),\n",
       " 'transactionIndex': 0,\n",
       " 'blockHash': HexBytes('0x867e762f34e416f0c5307bac315a8b2fdff80058b9f550d04fe59aaf1ee538e9'),\n",
       " 'blockNumber': 142,\n",
       " 'from': '0xACa94ef8bD5ffEE41947b4585a84BdA5a3d3DA6E',\n",
       " 'to': '0xc0b3B62DD0400E4baa721DdEc9B8A384147b23fF',\n",
       " 'gasUsed': 141799,\n",
       " 'cumulativeGasUsed': 141799,\n",
       " 'contractAddress': None,\n",
       " 'logs': [],\n",
       " 'status': 1,\n",
       " 'logsBloom': HexBytes('0x00000000000000000000000000000000000000000000000000000000000000000000000000000000000000000000000000000000000000000000000000000000000000000000000000000000000000000000000000000000000000000000000000000000000000000000000000000000000000000000000000000000000000000000000000000000000000000000000000000000000000000000000000000000000000000000000000000000000000000000000000000000000000000000000000000000000000000000000000000000000000000000000000000000000000000000000000000000000000000000000000000000000000000000000000000000')})"
      ]
     },
     "execution_count": 188,
     "metadata": {},
     "output_type": "execute_result"
    }
   ],
   "source": [
    "tx = contract_inst.functions.newIssue('new issue', 'check this out', 'bafyyyy').buildTransaction(\n",
    "    {\n",
    "        \"gasPrice\": w3.eth.gas_price,\n",
    "        \"from\": auditor_wallets[0],\n",
    "        \"chainId\": chainId,\n",
    "        \"nonce\":  w3.eth.getTransactionCount(auditor_wallets[0]),\n",
    "    }\n",
    ")\n",
    "\n",
    "s_tx = w3.eth.account.sign_transaction(tx, private_key=auditor_private_keys[0])\n",
    "\n",
    "tx_hash = w3.eth.send_raw_transaction(s_tx.rawTransaction)\n",
    "tx_receipt = w3.eth.wait_for_transaction_receipt(tx_hash)\n",
    "tx_receipt\n",
    "# TODO: Capture issueId from tx"
   ]
  },
  {
   "cell_type": "code",
   "execution_count": 189,
   "id": "7ff5813c-b2a2-419d-8ebe-8ebb201a9b1f",
   "metadata": {},
   "outputs": [
    {
     "data": {
      "text/plain": [
       "('0xACa94ef8bD5ffEE41947b4585a84BdA5a3d3DA6E',\n",
       " 'new issue',\n",
       " 'check this out',\n",
       " [],\n",
       " [],\n",
       " 'bafyyyy',\n",
       " '0x0000000000000000000000000000000000000000',\n",
       " [],\n",
       " 0)"
      ]
     },
     "execution_count": 189,
     "metadata": {},
     "output_type": "execute_result"
    }
   ],
   "source": [
    "# Check if the issue is created\n",
    "contract_inst.functions.getIssue(0).call()"
   ]
  },
  {
   "cell_type": "code",
   "execution_count": 190,
   "id": "42f89146-434e-467c-8a6d-0bd618dbbb26",
   "metadata": {},
   "outputs": [
    {
     "data": {
      "text/plain": [
       "AttributeDict({'transactionHash': HexBytes('0xd97fa352a7a9a1994c2568e44d2cb9f5c7246f49cd8db849cf176c0c723d7771'),\n",
       " 'transactionIndex': 0,\n",
       " 'blockHash': HexBytes('0x67b4387e6916262c1c5984644cde1abc6eda56dd6aa18ef941ce1448e5c8bf93'),\n",
       " 'blockNumber': 143,\n",
       " 'from': '0x1dF62f291b2E969fB0849d99D9Ce41e2F137006e',\n",
       " 'to': '0xc0b3B62DD0400E4baa721DdEc9B8A384147b23fF',\n",
       " 'gasUsed': 129730,\n",
       " 'cumulativeGasUsed': 129730,\n",
       " 'contractAddress': None,\n",
       " 'logs': [],\n",
       " 'status': 1,\n",
       " 'logsBloom': HexBytes('0x00000000000000000000000000000000000000000000000000000000000000000000000000000000000000000000000000000000000000000000000000000000000000000000000000000000000000000000000000000000000000000000000000000000000000000000000000000000000000000000000000000000000000000000000000000000000000000000000000000000000000000000000000000000000000000000000000000000000000000000000000000000000000000000000000000000000000000000000000000000000000000000000000000000000000000000000000000000000000000000000000000000000000000000000000000000')})"
      ]
     },
     "execution_count": 190,
     "metadata": {},
     "output_type": "execute_result"
    }
   ],
   "source": [
    "# creating a new comment on the issue\n",
    "tx = contract_inst.functions.commentOnIssue(issueId=0, comment=\"this is a comment from auditor 1\").buildTransaction(\n",
    "    {\n",
    "        \"gasPrice\": w3.eth.gas_price,\n",
    "        \"from\": auditor_wallets[1],\n",
    "        \"chainId\": chainId,\n",
    "        \"nonce\":  w3.eth.getTransactionCount(auditor_wallets[1]),\n",
    "    }\n",
    ")\n",
    "\n",
    "s_tx = w3.eth.account.sign_transaction(tx, private_key=auditor_private_keys[1])\n",
    "\n",
    "tx_hash = w3.eth.send_raw_transaction(s_tx.rawTransaction)\n",
    "tx_receipt = w3.eth.wait_for_transaction_receipt(tx_hash)\n",
    "tx_receipt"
   ]
  },
  {
   "cell_type": "code",
   "execution_count": 191,
   "id": "3b5085f7-4011-4463-9ac2-b74d33aa253d",
   "metadata": {},
   "outputs": [
    {
     "data": {
      "text/plain": [
       "('0xACa94ef8bD5ffEE41947b4585a84BdA5a3d3DA6E',\n",
       " 'new issue',\n",
       " 'check this out',\n",
       " ['0x1dF62f291b2E969fB0849d99D9Ce41e2F137006e'],\n",
       " ['this is a comment from auditor 1'],\n",
       " 'bafyyyy',\n",
       " '0x0000000000000000000000000000000000000000',\n",
       " [],\n",
       " 0)"
      ]
     },
     "execution_count": 191,
     "metadata": {},
     "output_type": "execute_result"
    }
   ],
   "source": [
    "# read comment\n",
    "contract_inst.functions.getIssue(0).call()"
   ]
  },
  {
   "cell_type": "code",
   "execution_count": 192,
   "id": "dd896ad5-2a07-4ae9-800a-e0af5295e2e5",
   "metadata": {},
   "outputs": [
    {
     "data": {
      "text/plain": [
       "('0xACa94ef8bD5ffEE41947b4585a84BdA5a3d3DA6E',\n",
       " 'this issue is fake',\n",
       " 'check this out',\n",
       " ['0x1dF62f291b2E969fB0849d99D9Ce41e2F137006e'],\n",
       " ['this is a comment from auditor 1'],\n",
       " 'bafyyyy',\n",
       " '0x3E5e9111Ae8eB78Fe1CC3bb8915d5D461F3Ef9A9',\n",
       " [],\n",
       " 2)"
      ]
     },
     "metadata": {},
     "output_type": "display_data"
    }
   ],
   "source": [
    "# try to update details of the issue\n",
    "# works only for the person who created the issue!\n",
    "tx = contract_inst.functions.updateIssueTitle(issueId=0, title=\"this issue is fake\").buildTransaction(\n",
    "    {\n",
    "        \"gasPrice\": w3.eth.gas_price,\n",
    "        \"from\": auditor_wallets[0],\n",
    "        \"chainId\": chainId,\n",
    "        \"nonce\":  w3.eth.getTransactionCount(auditor_wallets[0]),\n",
    "    }\n",
    ")\n",
    "\n",
    "s_tx = w3.eth.account.sign_transaction(tx, private_key=auditor_private_keys[0])\n",
    "\n",
    "tx_hash = w3.eth.send_raw_transaction(s_tx.rawTransaction)\n",
    "tx_receipt = w3.eth.wait_for_transaction_receipt(tx_hash)\n",
    "\n",
    "# trying to assign a dev and update the status of the issue\n",
    "tx = contract_inst.functions.assignDeveloperToIssue(issueId=0, developerAddress=developer_wallets[0]).buildTransaction(\n",
    "    {\n",
    "        \"gasPrice\": w3.eth.gas_price,\n",
    "        \"from\": developer_wallets[1],\n",
    "        \"chainId\": chainId,\n",
    "        \"nonce\":  w3.eth.getTransactionCount(developer_wallets[1]),\n",
    "    }\n",
    ")\n",
    "\n",
    "s_tx = w3.eth.account.sign_transaction(tx, private_key=developer_private_keys[1])\n",
    "\n",
    "tx_hash = w3.eth.send_raw_transaction(s_tx.rawTransaction)\n",
    "tx_receipt = w3.eth.wait_for_transaction_receipt(tx_hash)\n",
    "\n",
    "# close an issue\n",
    "tx = contract_inst.functions.closeIssue(issueId=0).buildTransaction(\n",
    "    # 0: OPEN, 1: ASSIGNED, 2: CLOSED\n",
    "    {\n",
    "        \"gasPrice\": w3.eth.gas_price,\n",
    "        \"from\": developer_wallets[1],\n",
    "        \"chainId\": chainId,\n",
    "        \"nonce\":  w3.eth.getTransactionCount(developer_wallets[1]),\n",
    "    }\n",
    ")\n",
    "\n",
    "s_tx = w3.eth.account.sign_transaction(tx, private_key=developer_private_keys[1])\n",
    "\n",
    "tx_hash = w3.eth.send_raw_transaction(s_tx.rawTransaction)\n",
    "tx_receipt = w3.eth.wait_for_transaction_receipt(tx_hash)\n",
    "\n",
    "display(contract_inst.functions.getIssue(0).call())"
   ]
  },
  {
   "cell_type": "code",
   "execution_count": 194,
   "id": "0f88d9e0-9fb7-4b92-814c-3ea4ce5011dc",
   "metadata": {},
   "outputs": [
    {
     "data": {
      "text/plain": [
       "('0xACa94ef8bD5ffEE41947b4585a84BdA5a3d3DA6E',\n",
       " 'this issue is fake',\n",
       " 'check this out',\n",
       " ['0x1dF62f291b2E969fB0849d99D9Ce41e2F137006e'],\n",
       " ['this is a comment from auditor 1'],\n",
       " 'bafyyyy',\n",
       " '0x3E5e9111Ae8eB78Fe1CC3bb8915d5D461F3Ef9A9',\n",
       " ['new label2', 'new la'],\n",
       " 2)"
      ]
     },
     "metadata": {},
     "output_type": "display_data"
    }
   ],
   "source": [
    "# adding a label to the issue\n",
    "tx = contract_inst.functions.addLabelToIssue(issueId=0, label=\"new la\").buildTransaction(\n",
    "    {\n",
    "        \"gasPrice\": w3.eth.gas_price,\n",
    "        \"from\": developer_wallets[1],\n",
    "        \"chainId\": chainId,\n",
    "        \"nonce\":  w3.eth.getTransactionCount(developer_wallets[1]),\n",
    "    }\n",
    ")\n",
    "\n",
    "s_tx = w3.eth.account.sign_transaction(tx, private_key=developer_private_keys[1])\n",
    "\n",
    "tx_hash = w3.eth.send_raw_transaction(s_tx.rawTransaction)\n",
    "tx_receipt = w3.eth.wait_for_transaction_receipt(tx_hash)\n",
    "\n",
    "display(contract_inst.functions.getIssue(0).call())"
   ]
  },
  {
   "cell_type": "markdown",
   "id": "bc51c07c-cac5-4749-a4b4-51d9214b1e12",
   "metadata": {},
   "source": [
    "3. Attempting to create a new pull request"
   ]
  },
  {
   "cell_type": "code",
   "execution_count": 172,
   "id": "5c094ecc-ef05-4e97-9451-cd0eacfeea17",
   "metadata": {},
   "outputs": [
    {
     "data": {
      "text/plain": [
       "AttributeDict({'transactionHash': HexBytes('0x3dc8503423f39bce7cb6bb5adc0e7b3c5bc392d38f9d07828eb318f63d18bac8'),\n",
       " 'transactionIndex': 0,\n",
       " 'blockHash': HexBytes('0x75573f9685a4d39dfe8f1d7f7975ae4a9db290dd8f2f97ed9a4fb9a6348e11b7'),\n",
       " 'blockNumber': 133,\n",
       " 'from': '0x1dF62f291b2E969fB0849d99D9Ce41e2F137006e',\n",
       " 'to': '0x4cFB3F70BF6a80397C2e634e5bDd85BC0bb189EE',\n",
       " 'gasUsed': 164137,\n",
       " 'cumulativeGasUsed': 164137,\n",
       " 'contractAddress': None,\n",
       " 'logs': [],\n",
       " 'status': 1,\n",
       " 'logsBloom': HexBytes('0x00000000000000000000000000000000000000000000000000000000000000000000000000000000000000000000000000000000000000000000000000000000000000000000000000000000000000000000000000000000000000000000000000000000000000000000000000000000000000000000000000000000000000000000000000000000000000000000000000000000000000000000000000000000000000000000000000000000000000000000000000000000000000000000000000000000000000000000000000000000000000000000000000000000000000000000000000000000000000000000000000000000000000000000000000000000')})"
      ]
     },
     "execution_count": 172,
     "metadata": {},
     "output_type": "execute_result"
    }
   ],
   "source": [
    "tx = contract_inst.functions.newPullRequest('new PR', 'check this out', 'oldBafy', 'newBafy', ).buildTransaction(\n",
    "    {\n",
    "        \"gasPrice\": w3.eth.gas_price,\n",
    "        \"from\": auditor_wallets[1],\n",
    "        \"chainId\": chainId,\n",
    "        \"nonce\":  w3.eth.getTransactionCount(auditor_wallets[1]),\n",
    "    }\n",
    ")\n",
    "\n",
    "s_tx = w3.eth.account.sign_transaction(tx, private_key=auditor_private_keys[1])\n",
    "\n",
    "tx_hash = w3.eth.send_raw_transaction(s_tx.rawTransaction)\n",
    "tx_receipt = w3.eth.wait_for_transaction_receipt(tx_hash)\n",
    "tx_receipt\n",
    "# TODO: Capture issueId from tx"
   ]
  },
  {
   "cell_type": "code",
   "execution_count": 173,
   "id": "11731676-fab3-4d01-8833-40b98f319c5a",
   "metadata": {},
   "outputs": [
    {
     "data": {
      "text/plain": [
       "('0x1dF62f291b2E969fB0849d99D9Ce41e2F137006e',\n",
       " 'new PR',\n",
       " 'check this out',\n",
       " [],\n",
       " [],\n",
       " 'oldBafy',\n",
       " 'newBafy',\n",
       " '0x0000000000000000000000000000000000000000',\n",
       " [],\n",
       " 0)"
      ]
     },
     "execution_count": 173,
     "metadata": {},
     "output_type": "execute_result"
    }
   ],
   "source": [
    "# Check if the PR is created\n",
    "contract_inst.functions.getPullRequest(0).call()"
   ]
  },
  {
   "cell_type": "code",
   "execution_count": 174,
   "id": "050a2002-ed7a-4930-8a7c-cc3e31f5004d",
   "metadata": {},
   "outputs": [
    {
     "data": {
      "text/plain": [
       "AttributeDict({'transactionHash': HexBytes('0xf67b7e398f03602001f9a67498d1b35fc9b54cde3d6036d9df505e7d77947078'),\n",
       " 'transactionIndex': 0,\n",
       " 'blockHash': HexBytes('0x2a66e34cd718d21f9a978f9a419b541de97d8507ba4086de828d8db2428d2d14'),\n",
       " 'blockNumber': 134,\n",
       " 'from': '0x1dF62f291b2E969fB0849d99D9Ce41e2F137006e',\n",
       " 'to': '0x4cFB3F70BF6a80397C2e634e5bDd85BC0bb189EE',\n",
       " 'gasUsed': 129755,\n",
       " 'cumulativeGasUsed': 129755,\n",
       " 'contractAddress': None,\n",
       " 'logs': [],\n",
       " 'status': 1,\n",
       " 'logsBloom': HexBytes('0x00000000000000000000000000000000000000000000000000000000000000000000000000000000000000000000000000000000000000000000000000000000000000000000000000000000000000000000000000000000000000000000000000000000000000000000000000000000000000000000000000000000000000000000000000000000000000000000000000000000000000000000000000000000000000000000000000000000000000000000000000000000000000000000000000000000000000000000000000000000000000000000000000000000000000000000000000000000000000000000000000000000000000000000000000000000')})"
      ]
     },
     "execution_count": 174,
     "metadata": {},
     "output_type": "execute_result"
    }
   ],
   "source": [
    "# creating a new comment on the pr\n",
    "tx = contract_inst.functions.commentOnPullRequest(prId=0, comment=\"this is a comment from auditor 1\").buildTransaction(\n",
    "    {\n",
    "        \"gasPrice\": w3.eth.gas_price,\n",
    "        \"from\": auditor_wallets[1],\n",
    "        \"chainId\": chainId,\n",
    "        \"nonce\":  w3.eth.getTransactionCount(auditor_wallets[1]),\n",
    "    }\n",
    ")\n",
    "\n",
    "s_tx = w3.eth.account.sign_transaction(tx, private_key=auditor_private_keys[1])\n",
    "\n",
    "tx_hash = w3.eth.send_raw_transaction(s_tx.rawTransaction)\n",
    "tx_receipt = w3.eth.wait_for_transaction_receipt(tx_hash)\n",
    "tx_receipt"
   ]
  },
  {
   "cell_type": "code",
   "execution_count": 175,
   "id": "8617db26-1067-42d4-b0a6-123f80f8becc",
   "metadata": {},
   "outputs": [
    {
     "data": {
      "text/plain": [
       "('0x1dF62f291b2E969fB0849d99D9Ce41e2F137006e',\n",
       " 'new PR',\n",
       " 'check this out',\n",
       " ['0x1dF62f291b2E969fB0849d99D9Ce41e2F137006e'],\n",
       " ['this is a comment from auditor 1'],\n",
       " 'oldBafy',\n",
       " 'newBafy',\n",
       " '0x0000000000000000000000000000000000000000',\n",
       " [],\n",
       " 0)"
      ]
     },
     "execution_count": 175,
     "metadata": {},
     "output_type": "execute_result"
    }
   ],
   "source": [
    "# read comment\n",
    "contract_inst.functions.getPullRequest(0).call()"
   ]
  },
  {
   "cell_type": "code",
   "execution_count": 176,
   "id": "3162e7b7-dde1-436b-b55e-f072f2cb6c0a",
   "metadata": {},
   "outputs": [
    {
     "data": {
      "text/plain": [
       "AttributeDict({'transactionHash': HexBytes('0xc6bdd2988b748b81f25c57a77a0a7274e2173f36b45a607ab08b4bc77dc71bf9'),\n",
       " 'transactionIndex': 0,\n",
       " 'blockHash': HexBytes('0xbc59b90ad9f8a81f5343d4aacc6453143be5b8a4ac33c77599e42e3d14113bd0'),\n",
       " 'blockNumber': 136,\n",
       " 'from': '0x28a8746e75304c0780E011BEd21C72cD78cd535E',\n",
       " 'to': '0x4cFB3F70BF6a80397C2e634e5bDd85BC0bb189EE',\n",
       " 'gasUsed': 45105,\n",
       " 'cumulativeGasUsed': 45105,\n",
       " 'contractAddress': None,\n",
       " 'logs': [],\n",
       " 'status': 1,\n",
       " 'logsBloom': HexBytes('0x00000000000000000000000000000000000000000000000000000000000000000000000000000000000000000000000000000000000000000000000000000000000000000000000000000000000000000000000000000000000000000000000000000000000000000000000000000000000000000000000000000000000000000000000000000000000000000000000000000000000000000000000000000000000000000000000000000000000000000000000000000000000000000000000000000000000000000000000000000000000000000000000000000000000000000000000000000000000000000000000000000000000000000000000000000000')})"
      ]
     },
     "execution_count": 176,
     "metadata": {},
     "output_type": "execute_result"
    }
   ],
   "source": [
    "# try to update details of the PR\n",
    "# works only for the person who created the PR!\n",
    "tx = contract_inst.functions.updatePullRequestDescription(prId=0, desc=\"this issue is fake\").buildTransaction(\n",
    "    {\n",
    "        \"gasPrice\": w3.eth.gas_price,\n",
    "        \"from\": auditor_wallets[1],\n",
    "        \"chainId\": chainId,\n",
    "        \"nonce\":  w3.eth.getTransactionCount(auditor_wallets[1]),\n",
    "    }\n",
    ")\n",
    "\n",
    "s_tx = w3.eth.account.sign_transaction(tx, private_key=auditor_private_keys[1])\n",
    "\n",
    "tx_hash = w3.eth.send_raw_transaction(s_tx.rawTransaction)\n",
    "tx_receipt = w3.eth.wait_for_transaction_receipt(tx_hash)\n",
    "\n",
    "# trying to assign an auditor and update the status of the PR\n",
    "tx = contract_inst.functions.assignAuditorToPullRequest(prId=0, auditorAddress=auditor_wallets[1]).buildTransaction(\n",
    "    {\n",
    "        \"gasPrice\": w3.eth.gas_price,\n",
    "        \"from\": developer_wallets[1],\n",
    "        \"chainId\": chainId,\n",
    "        \"nonce\":  w3.eth.getTransactionCount(developer_wallets[1]),\n",
    "    }\n",
    ")\n",
    "\n",
    "s_tx = w3.eth.account.sign_transaction(tx, private_key=developer_private_keys[1])\n",
    "\n",
    "tx_hash = w3.eth.send_raw_transaction(s_tx.rawTransaction)\n",
    "tx_receipt = w3.eth.wait_for_transaction_receipt(tx_hash)\n",
    "tx_receipt"
   ]
  },
  {
   "cell_type": "code",
   "execution_count": 177,
   "id": "abe38d26-fd14-424c-8ab1-f2628b9523d0",
   "metadata": {},
   "outputs": [
    {
     "data": {
      "text/plain": [
       "AttributeDict({'transactionHash': HexBytes('0x3c48ecad42f104097e05d7371d42ab1d2b8f0881933a407b2b48110d7f2df55f'),\n",
       " 'transactionIndex': 0,\n",
       " 'blockHash': HexBytes('0xad2fbde7d26dc0e53b7cf53dc0c7a76734a65235fb3d548a8ba73866c84552aa'),\n",
       " 'blockNumber': 137,\n",
       " 'from': '0x1dF62f291b2E969fB0849d99D9Ce41e2F137006e',\n",
       " 'to': '0x4cFB3F70BF6a80397C2e634e5bDd85BC0bb189EE',\n",
       " 'gasUsed': 48133,\n",
       " 'cumulativeGasUsed': 48133,\n",
       " 'contractAddress': None,\n",
       " 'logs': [],\n",
       " 'status': 1,\n",
       " 'logsBloom': HexBytes('0x00000000000000000000000000000000000000000000000000000000000000000000000000000000000000000000000000000000000000000000000000000000000000000000000000000000000000000000000000000000000000000000000000000000000000000000000000000000000000000000000000000000000000000000000000000000000000000000000000000000000000000000000000000000000000000000000000000000000000000000000000000000000000000000000000000000000000000000000000000000000000000000000000000000000000000000000000000000000000000000000000000000000000000000000000000000')})"
      ]
     },
     "execution_count": 177,
     "metadata": {},
     "output_type": "execute_result"
    }
   ],
   "source": [
    "# trying to approve an PR (by assigned auditor)\n",
    "tx = contract_inst.functions.approvePullRequest(prId=0).buildTransaction(\n",
    "    {\n",
    "        \"gasPrice\": w3.eth.gas_price,\n",
    "        \"from\": auditor_wallets[1],\n",
    "        \"chainId\": chainId,\n",
    "        \"nonce\":  w3.eth.getTransactionCount(auditor_wallets[1]),\n",
    "    }\n",
    ")\n",
    "\n",
    "s_tx = w3.eth.account.sign_transaction(tx, private_key=auditor_private_keys[1])\n",
    "\n",
    "tx_hash = w3.eth.send_raw_transaction(s_tx.rawTransaction)\n",
    "tx_receipt = w3.eth.wait_for_transaction_receipt(tx_hash)\n",
    "tx_receipt"
   ]
  },
  {
   "cell_type": "code",
   "execution_count": 178,
   "id": "f4b7a456-072e-49b7-ae4f-cc2a83abdb29",
   "metadata": {},
   "outputs": [
    {
     "data": {
      "text/plain": [
       "('0x1dF62f291b2E969fB0849d99D9Ce41e2F137006e',\n",
       " 'new PR',\n",
       " 'this issue is fake',\n",
       " ['0x1dF62f291b2E969fB0849d99D9Ce41e2F137006e'],\n",
       " ['this is a comment from auditor 1'],\n",
       " 'oldBafy',\n",
       " 'newBafy',\n",
       " '0x1dF62f291b2E969fB0849d99D9Ce41e2F137006e',\n",
       " [],\n",
       " 3)"
      ]
     },
     "metadata": {},
     "output_type": "display_data"
    }
   ],
   "source": [
    "# merge the PR\n",
    "tx = contract_inst.functions.mergePullRequest(prId=0, bafyHash=\"newBafyHash\").buildTransaction(\n",
    "    {\n",
    "        \"gasPrice\": w3.eth.gas_price,\n",
    "        \"from\": developer_wallets[1],\n",
    "        \"chainId\": chainId,\n",
    "        \"nonce\":  w3.eth.getTransactionCount(developer_wallets[1]),\n",
    "    }\n",
    ")\n",
    "\n",
    "s_tx = w3.eth.account.sign_transaction(tx, private_key=developer_private_keys[1])\n",
    "\n",
    "tx_hash = w3.eth.send_raw_transaction(s_tx.rawTransaction)\n",
    "tx_receipt = w3.eth.wait_for_transaction_receipt(tx_hash)\n",
    "\n",
    "display(contract_inst.functions.getPullRequest(0).call())"
   ]
  },
  {
   "cell_type": "code",
   "execution_count": 181,
   "id": "13c4b0d9-dacf-4ffb-9986-f28d5d66acd3",
   "metadata": {},
   "outputs": [
    {
     "data": {
      "text/plain": [
       "('0x1dF62f291b2E969fB0849d99D9Ce41e2F137006e',\n",
       " 'new PR',\n",
       " 'this issue is fake',\n",
       " ['0x1dF62f291b2E969fB0849d99D9Ce41e2F137006e'],\n",
       " ['this is a comment from auditor 1'],\n",
       " 'oldBafy',\n",
       " 'newBafy',\n",
       " '0x1dF62f291b2E969fB0849d99D9Ce41e2F137006e',\n",
       " ['new label', 'new label2'],\n",
       " 3)"
      ]
     },
     "metadata": {},
     "output_type": "display_data"
    }
   ],
   "source": [
    "# adding a label to the PR\n",
    "tx = contract_inst.functions.addLabelToPullRequest(prId=0, label=\"new label2\").buildTransaction(\n",
    "    {\n",
    "        \"gasPrice\": w3.eth.gas_price,\n",
    "        \"from\": developer_wallets[1],\n",
    "        \"chainId\": chainId,\n",
    "        \"nonce\":  w3.eth.getTransactionCount(developer_wallets[1]),\n",
    "    }\n",
    ")\n",
    "\n",
    "s_tx = w3.eth.account.sign_transaction(tx, private_key=developer_private_keys[1])\n",
    "\n",
    "tx_hash = w3.eth.send_raw_transaction(s_tx.rawTransaction)\n",
    "tx_receipt = w3.eth.wait_for_transaction_receipt(tx_hash)\n",
    "\n",
    "display(contract_inst.functions.getPullRequest(0).call())"
   ]
  },
  {
   "cell_type": "markdown",
   "id": "42950ed9-a947-498f-8c11-7ed3f1b4ac1b",
   "metadata": {},
   "source": [
    "# L2 Test compatibility with dGit"
   ]
  },
  {
   "cell_type": "markdown",
   "id": "bee80747-6915-4c50-8700-07d1296fab64",
   "metadata": {},
   "source": [
    "## dGit init"
   ]
  },
  {
   "cell_type": "code",
   "execution_count": 280,
   "id": "16ecb80e-483c-4a4c-8afd-79562fae0ed3",
   "metadata": {
    "tags": []
   },
   "outputs": [
    {
     "name": "stdout",
     "output_type": "stream",
     "text": [
      "/data2/web3\n"
     ]
    }
   ],
   "source": [
    "! pwd"
   ]
  },
  {
   "cell_type": "code",
   "execution_count": 281,
   "id": "f208ec8c-deda-4d6d-a633-a77c11473071",
   "metadata": {},
   "outputs": [
    {
     "name": "stdout",
     "output_type": "stream",
     "text": [
      "/data2/web3\n"
     ]
    }
   ],
   "source": [
    "#  creating a test repository\n",
    "%cd /data2/web3/\n",
    "! rm -rf test-repo\n",
    "! mkdir test-repo"
   ]
  },
  {
   "cell_type": "code",
   "execution_count": 282,
   "id": "13336fe2-4785-47b4-bc5c-227a7172724c",
   "metadata": {},
   "outputs": [],
   "source": [
    "# marking dgit as executable\n",
    "! chmod +x dgit.sh"
   ]
  },
  {
   "cell_type": "code",
   "execution_count": 283,
   "id": "1e9b0685-bdc1-4edb-87aa-8c5254c789f1",
   "metadata": {},
   "outputs": [
    {
     "name": "stdout",
     "output_type": "stream",
     "text": [
      "/data2/web3/test-repo\n",
      "/data2/web3/test-repo\n",
      "--------------------------------------------------------------------------------\n",
      "Decentralized-Git-on-IPFS Wrapper\n",
      "--------------------------------------------------------------------------------\n",
      "init\n",
      "Using default password! \n",
      "\n",
      "Empty directory detected... creating README.md\n",
      "\u001b[33mhint: Using 'master' as the name for the initial branch. This default branch name\u001b[m\n",
      "\u001b[33mhint: is subject to change. To configure the initial branch name to use in all\u001b[m\n",
      "\u001b[33mhint: of your new repositories, which will suppress this warning, call:\u001b[m\n",
      "\u001b[33mhint: \u001b[m\n",
      "\u001b[33mhint: \tgit config --global init.defaultBranch <name>\u001b[m\n",
      "\u001b[33mhint: \u001b[m\n",
      "\u001b[33mhint: Names commonly chosen instead of 'master' are 'main', 'trunk' and\u001b[m\n",
      "\u001b[33mhint: 'development'. The just-created branch can be renamed via this command:\u001b[m\n",
      "\u001b[33mhint: \u001b[m\n",
      "\u001b[33mhint: \tgit branch -m <name>\u001b[m\n",
      "Initialized empty Git repository in /data2/web3/test-repo/.git/\n",
      "[master (root-commit) 5c1ffe8] Initialized new repository\n",
      " 1 file changed, 0 insertions(+), 0 deletions(-)\n",
      " create mode 100644 README.md\n",
      "\u001b[33mhint: Using 'master' as the name for the initial branch. This default branch name\u001b[m\n",
      "\u001b[33mhint: is subject to change. To configure the initial branch name to use in all\u001b[m\n",
      "\u001b[33mhint: of your new repositories, which will suppress this warning, call:\u001b[m\n",
      "\u001b[33mhint: \u001b[m\n",
      "\u001b[33mhint: \tgit config --global init.defaultBranch <name>\u001b[m\n",
      "\u001b[33mhint: \u001b[m\n",
      "\u001b[33mhint: Names commonly chosen instead of 'master' are 'main', 'trunk' and\u001b[m\n",
      "\u001b[33mhint: 'development'. The just-created branch can be renamed via this command:\u001b[m\n",
      "\u001b[33mhint: \u001b[m\n",
      "\u001b[33mhint: \tgit branch -m <name>\u001b[m\n",
      "Initialized empty Git repository in /home/rahul/.tmp/bare/test-repo/\n",
      "Pushing repository... \n",
      "\n",
      "error: No such remote: 'temp'\n",
      "Enumerating objects: 3, done.\n",
      "Counting objects: 100% (3/3), done.\n",
      "Writing objects: 100% (3/3), 229 bytes | 229.00 KiB/s, done.\n",
      "Total 3 (delta 0), reused 0 (delta 0), pack-reused 0\n",
      "To /home/rahul/.tmp/bare/test-repo\n",
      " * [new branch]      master -> master\n",
      "branch 'master' set up to track 'temp/master'.\n",
      " 17.46 KiB / 17.46 KiB [===============================================] 100.00%\u001b[2K\n",
      "Cleaning up... \n",
      "\n",
      "Writing repository tracking information to disk... \n",
      "\n",
      "Updated hash: QmUreVXn85jPLav34Yjc8v4HHhmxgWAWa1BoTsceNiPJe9\n",
      "\n"
     ]
    }
   ],
   "source": [
    "# initialize git repository, stage changes, and commit\n",
    "%cd test-repo\n",
    "! pwd\n",
    "\n",
    "! ../dgit.sh -c init"
   ]
  },
  {
   "cell_type": "code",
   "execution_count": 284,
   "id": "905a95b8-3317-446e-9867-a9ba79752fc7",
   "metadata": {},
   "outputs": [
    {
     "data": {
      "text/plain": [
       "('QmUreVXn85jPLav34Yjc8v4HHhmxgWAWa1BoTsceNiPJe9', 'test-repo')"
      ]
     },
     "execution_count": 284,
     "metadata": {},
     "output_type": "execute_result"
    }
   ],
   "source": [
    "# capture bafyHash and friendlyName from .git/description\n",
    "\n",
    "with open(\".git/description\", \"r\") as file:\n",
    "    bafyHash = file.readline().strip()\n",
    "    friendlyName = file.readline().strip()\n",
    "\n",
    "bafyHash, friendlyName"
   ]
  },
  {
   "cell_type": "markdown",
   "id": "8a09fe53-5ece-4852-b3e4-67084b6e59e7",
   "metadata": {},
   "source": [
    "### Create contract with repo info (repo owner does this stuff)"
   ]
  },
  {
   "cell_type": "code",
   "execution_count": 285,
   "id": "22e50839-ab32-473d-ae28-dcafaebb277a",
   "metadata": {},
   "outputs": [
    {
     "data": {
      "text/plain": [
       "AttributeDict({'transactionHash': HexBytes('0x6a675ff94e4d5bc10115b5d290d5a750442b2c53b49ffa3720f9a5e1a2b9edef'),\n",
       " 'transactionIndex': 0,\n",
       " 'blockHash': HexBytes('0xd943442b6e2dc940b4d533397933b45920252e7f9ee084843fad69d36f4ac479'),\n",
       " 'blockNumber': 167,\n",
       " 'from': '0x90F8bf6A479f320ead074411a4B0e7944Ea8c9C1',\n",
       " 'to': None,\n",
       " 'gasUsed': 5460520,\n",
       " 'cumulativeGasUsed': 5460520,\n",
       " 'contractAddress': '0xe97DbD7116D168190F8A6E7beB1092c103c53a12',\n",
       " 'logs': [AttributeDict({'logIndex': 0,\n",
       "   'transactionIndex': 0,\n",
       "   'transactionHash': HexBytes('0x6a675ff94e4d5bc10115b5d290d5a750442b2c53b49ffa3720f9a5e1a2b9edef'),\n",
       "   'blockHash': HexBytes('0xd943442b6e2dc940b4d533397933b45920252e7f9ee084843fad69d36f4ac479'),\n",
       "   'blockNumber': 167,\n",
       "   'address': '0xe97DbD7116D168190F8A6E7beB1092c103c53a12',\n",
       "   'data': '0x',\n",
       "   'topics': [HexBytes('0x8be0079c531659141344cd1fd0a4f28419497f9722a3daafe3b4186f6b6457e0'),\n",
       "    HexBytes('0x0000000000000000000000000000000000000000000000000000000000000000'),\n",
       "    HexBytes('0x00000000000000000000000090f8bf6a479f320ead074411a4b0e7944ea8c9c1')],\n",
       "   'type': 'mined',\n",
       "   'removed': False}),\n",
       "  AttributeDict({'logIndex': 1,\n",
       "   'transactionIndex': 0,\n",
       "   'transactionHash': HexBytes('0x6a675ff94e4d5bc10115b5d290d5a750442b2c53b49ffa3720f9a5e1a2b9edef'),\n",
       "   'blockHash': HexBytes('0xd943442b6e2dc940b4d533397933b45920252e7f9ee084843fad69d36f4ac479'),\n",
       "   'blockNumber': 167,\n",
       "   'address': '0xe97DbD7116D168190F8A6E7beB1092c103c53a12',\n",
       "   'data': '0x',\n",
       "   'topics': [HexBytes('0x2f8788117e7eff1d82e926ec794901d17c78024a50270940304540a733656f0d'),\n",
       "    HexBytes('0x0000000000000000000000000000000000000000000000000000000000000000'),\n",
       "    HexBytes('0x00000000000000000000000090f8bf6a479f320ead074411a4b0e7944ea8c9c1'),\n",
       "    HexBytes('0x00000000000000000000000090f8bf6a479f320ead074411a4b0e7944ea8c9c1')],\n",
       "   'type': 'mined',\n",
       "   'removed': False}),\n",
       "  AttributeDict({'logIndex': 2,\n",
       "   'transactionIndex': 0,\n",
       "   'transactionHash': HexBytes('0x6a675ff94e4d5bc10115b5d290d5a750442b2c53b49ffa3720f9a5e1a2b9edef'),\n",
       "   'blockHash': HexBytes('0xd943442b6e2dc940b4d533397933b45920252e7f9ee084843fad69d36f4ac479'),\n",
       "   'blockNumber': 167,\n",
       "   'address': '0xe97DbD7116D168190F8A6E7beB1092c103c53a12',\n",
       "   'data': '0x',\n",
       "   'topics': [HexBytes('0x2f8788117e7eff1d82e926ec794901d17c78024a50270940304540a733656f0d'),\n",
       "    HexBytes('0x51b355059847d158e68950419dbcd54fad00bdfd0634c2515a5c533288c7f0a2'),\n",
       "    HexBytes('0x0000000000000000000000003e5e9111ae8eb78fe1cc3bb8915d5d461f3ef9a9'),\n",
       "    HexBytes('0x00000000000000000000000090f8bf6a479f320ead074411a4b0e7944ea8c9c1')],\n",
       "   'type': 'mined',\n",
       "   'removed': False}),\n",
       "  AttributeDict({'logIndex': 3,\n",
       "   'transactionIndex': 0,\n",
       "   'transactionHash': HexBytes('0x6a675ff94e4d5bc10115b5d290d5a750442b2c53b49ffa3720f9a5e1a2b9edef'),\n",
       "   'blockHash': HexBytes('0xd943442b6e2dc940b4d533397933b45920252e7f9ee084843fad69d36f4ac479'),\n",
       "   'blockNumber': 167,\n",
       "   'address': '0xe97DbD7116D168190F8A6E7beB1092c103c53a12',\n",
       "   'data': '0x',\n",
       "   'topics': [HexBytes('0x2f8788117e7eff1d82e926ec794901d17c78024a50270940304540a733656f0d'),\n",
       "    HexBytes('0x51b355059847d158e68950419dbcd54fad00bdfd0634c2515a5c533288c7f0a2'),\n",
       "    HexBytes('0x00000000000000000000000028a8746e75304c0780e011bed21c72cd78cd535e'),\n",
       "    HexBytes('0x00000000000000000000000090f8bf6a479f320ead074411a4b0e7944ea8c9c1')],\n",
       "   'type': 'mined',\n",
       "   'removed': False}),\n",
       "  AttributeDict({'logIndex': 4,\n",
       "   'transactionIndex': 0,\n",
       "   'transactionHash': HexBytes('0x6a675ff94e4d5bc10115b5d290d5a750442b2c53b49ffa3720f9a5e1a2b9edef'),\n",
       "   'blockHash': HexBytes('0xd943442b6e2dc940b4d533397933b45920252e7f9ee084843fad69d36f4ac479'),\n",
       "   'blockNumber': 167,\n",
       "   'address': '0xe97DbD7116D168190F8A6E7beB1092c103c53a12',\n",
       "   'data': '0x',\n",
       "   'topics': [HexBytes('0x2f8788117e7eff1d82e926ec794901d17c78024a50270940304540a733656f0d'),\n",
       "    HexBytes('0x5db53b6955dc773ef555b3cc1835ee528ea8da7adbe1cd523fbff73209b77e0b'),\n",
       "    HexBytes('0x000000000000000000000000aca94ef8bd5ffee41947b4585a84bda5a3d3da6e'),\n",
       "    HexBytes('0x00000000000000000000000090f8bf6a479f320ead074411a4b0e7944ea8c9c1')],\n",
       "   'type': 'mined',\n",
       "   'removed': False}),\n",
       "  AttributeDict({'logIndex': 5,\n",
       "   'transactionIndex': 0,\n",
       "   'transactionHash': HexBytes('0x6a675ff94e4d5bc10115b5d290d5a750442b2c53b49ffa3720f9a5e1a2b9edef'),\n",
       "   'blockHash': HexBytes('0xd943442b6e2dc940b4d533397933b45920252e7f9ee084843fad69d36f4ac479'),\n",
       "   'blockNumber': 167,\n",
       "   'address': '0xe97DbD7116D168190F8A6E7beB1092c103c53a12',\n",
       "   'data': '0x',\n",
       "   'topics': [HexBytes('0x2f8788117e7eff1d82e926ec794901d17c78024a50270940304540a733656f0d'),\n",
       "    HexBytes('0x5db53b6955dc773ef555b3cc1835ee528ea8da7adbe1cd523fbff73209b77e0b'),\n",
       "    HexBytes('0x0000000000000000000000001df62f291b2e969fb0849d99d9ce41e2f137006e'),\n",
       "    HexBytes('0x00000000000000000000000090f8bf6a479f320ead074411a4b0e7944ea8c9c1')],\n",
       "   'type': 'mined',\n",
       "   'removed': False})],\n",
       " 'status': 1,\n",
       " 'logsBloom': HexBytes('0x000000040010000000000000000000000080000000000000008000000000020000000100000000000000a0201000040000000000000000000000000000040000001000000000000000000000000000000001000800000000000000000000000000000000020000000000000008000800000000000000000004000000008000400000000001000000000000004000000000000000000000000000000000000000000002000000000000000000000002000000000000000000001100000000000000000000000000000000000000000000000000000000000100000000140020000000000000000000000000000000000000000000000000000000000000000000')})"
      ]
     },
     "execution_count": 285,
     "metadata": {},
     "output_type": "execute_result"
    }
   ],
   "source": [
    "new_repo_tx = RepositoryTracker.constructor(bafyHash, friendlyName, developer_wallets, auditor_wallets).buildTransaction(\n",
    "    {\n",
    "        \"gasPrice\": w3.eth.gas_price,\n",
    "        \"from\": owner_wallet,\n",
    "        \"chainId\": chainId,\n",
    "        \"nonce\": w3.eth.getTransactionCount(owner_wallet),\n",
    "    }\n",
    ")\n",
    "\n",
    "new_repo_tx_signed = w3.eth.account.sign_transaction(new_repo_tx, private_key=owner_wallet_private_key)\n",
    "tx_hash = w3.eth.send_raw_transaction(new_repo_tx_signed.rawTransaction)\n",
    "tx_receipt = w3.eth.wait_for_transaction_receipt(tx_hash)\n",
    "\n",
    "nonce += 1\n",
    "\n",
    "contract_address = tx_receipt.contractAddress\n",
    "\n",
    "tx_receipt"
   ]
  },
  {
   "cell_type": "markdown",
   "id": "4a247df8-9677-42bc-9eca-37d607533c56",
   "metadata": {
    "tags": []
   },
   "source": [
    "### Read contract and verify changes (trying this as an audit/dev account)"
   ]
  },
  {
   "cell_type": "code",
   "execution_count": 286,
   "id": "cae127b0-8634-40c2-86d5-8fea28cecf32",
   "metadata": {},
   "outputs": [
    {
     "data": {
      "text/plain": [
       "'QmUreVXn85jPLav34Yjc8v4HHhmxgWAWa1BoTsceNiPJe9'"
      ]
     },
     "metadata": {},
     "output_type": "display_data"
    },
    {
     "data": {
      "text/plain": [
       "'test-repo'"
      ]
     },
     "metadata": {},
     "output_type": "display_data"
    }
   ],
   "source": [
    "contract_instance = w3.eth.contract(address=tx_receipt.contractAddress, abi=abi)\n",
    "display(contract_instance.functions.getIpfsAddress().call({\"from\": auditor_wallets[0]}))\n",
    "display(contract_instance.functions.getFriendlyName().call({\"from\": developer_wallets[0]}))"
   ]
  },
  {
   "cell_type": "markdown",
   "id": "4ac1936e-b34c-4f77-a92e-1a44779db3c0",
   "metadata": {},
   "source": [
    "## dGit push"
   ]
  },
  {
   "cell_type": "code",
   "execution_count": 287,
   "id": "6b1a2121-db91-4d8a-9255-c06e81a3655a",
   "metadata": {},
   "outputs": [
    {
     "name": "stdout",
     "output_type": "stream",
     "text": [
      "[master d9e1593] test push\n",
      " 1 file changed, 0 insertions(+), 0 deletions(-)\n",
      " create mode 100644 newfile\n",
      "--------------------------------------------------------------------------------\n",
      "Decentralized-Git-on-IPFS Wrapper\n",
      "--------------------------------------------------------------------------------\n",
      "push password\n",
      "Fetching repository from IPFS... \n",
      "\n",
      "Saving file(s) to /home/rahul/.tmp/QmUreVXn85jPLav34Yjc8v4HHhmxgWAWa1BoTsceNiPJe9.enc\n",
      " 17.46 KiB / 17.46 KiB [============================================] 100.00% 0s\n",
      "\n",
      "Decrypting contents... \n",
      "\n",
      "Friendly repository name: test-repo\n",
      "\n",
      "Pushing repository... \n",
      "\n",
      "Enumerating objects: 3, done.\n",
      "Counting objects: 100% (3/3), done.\n",
      "Delta compression using up to 8 threads\n",
      "Compressing objects: 100% (2/2), done.\n",
      "Writing objects: 100% (2/2), 248 bytes | 248.00 KiB/s, done.\n",
      "Total 2 (delta 0), reused 0 (delta 0), pack-reused 0\n",
      "To /home/rahul/.tmp/bare/test-repo\n",
      "   5c1ffe8..d9e1593  master -> master\n",
      " 18.55 KiB / 18.55 KiB [===============================================] 100.00%\u001b[2K\n",
      "Writing repository tracking information to disk... \n",
      "\n",
      "Updated hash: Qme7hNS2etkbF32dCNaJBNUKCsKJEZSd4BHnfbcmZkHZCp\n",
      "\n",
      "\n",
      "Cleaning up... \n",
      "\n"
     ]
    }
   ],
   "source": [
    "! touch newfile\n",
    "! git add .\n",
    "! git commit -m \"test push\"\n",
    "! ../dgit.sh -c push -k \"password\""
   ]
  },
  {
   "cell_type": "markdown",
   "id": "d2e67e8e-f5b5-4f20-8a2f-50ced8d1aca8",
   "metadata": {},
   "source": [
    "### Create new pull request by dev[0]"
   ]
  },
  {
   "cell_type": "code",
   "execution_count": 288,
   "id": "b0f6fe65-904e-4852-b5e1-13d4a5e5d4b6",
   "metadata": {},
   "outputs": [
    {
     "data": {
      "text/plain": [
       "'Qme7hNS2etkbF32dCNaJBNUKCsKJEZSd4BHnfbcmZkHZCp'"
      ]
     },
     "metadata": {},
     "output_type": "display_data"
    },
    {
     "data": {
      "text/plain": [
       "'test-repo'"
      ]
     },
     "metadata": {},
     "output_type": "display_data"
    },
    {
     "data": {
      "text/plain": [
       "AttributeDict({'transactionHash': HexBytes('0x327b45b2eaf84a417b1937eca4c3b90237f3a5f387c59d49c0f9b7078638070b'),\n",
       " 'transactionIndex': 0,\n",
       " 'blockHash': HexBytes('0x87073fbcf9dac62d42a81269e2f39a8e5c577fa7da4c4eb2148d76953f0a5846'),\n",
       " 'blockNumber': 168,\n",
       " 'from': '0x3E5e9111Ae8eB78Fe1CC3bb8915d5D461F3Ef9A9',\n",
       " 'to': '0xe97DbD7116D168190F8A6E7beB1092c103c53a12',\n",
       " 'gasUsed': 246947,\n",
       " 'cumulativeGasUsed': 246947,\n",
       " 'contractAddress': None,\n",
       " 'logs': [],\n",
       " 'status': 1,\n",
       " 'logsBloom': HexBytes('0x00000000000000000000000000000000000000000000000000000000000000000000000000000000000000000000000000000000000000000000000000000000000000000000000000000000000000000000000000000000000000000000000000000000000000000000000000000000000000000000000000000000000000000000000000000000000000000000000000000000000000000000000000000000000000000000000000000000000000000000000000000000000000000000000000000000000000000000000000000000000000000000000000000000000000000000000000000000000000000000000000000000000000000000000000000000')})"
      ]
     },
     "execution_count": 288,
     "metadata": {},
     "output_type": "execute_result"
    }
   ],
   "source": [
    "# capture bafyHash and friendlyName from .git/description\n",
    "\n",
    "with open(\".git/description\", \"r\") as file:\n",
    "    bafyHash = file.readline().strip()\n",
    "    friendlyName = file.readline().strip()\n",
    "\n",
    "display(bafyHash, friendlyName)\n",
    "\n",
    "contract_instance = w3.eth.contract(address=contract_address, abi=abi)\n",
    "\n",
    "tx = contract_instance.functions.newPullRequest(title='adding a new feature', description='check this out', oldBafyHash='QmUreVXn85jPLav34Yjc8v4HHhmxgWAWa1BoTsceNiPJe9', prBafyHash=bafyHash).buildTransaction(\n",
    "    {\n",
    "        \"gasPrice\": w3.eth.gas_price,\n",
    "        \"from\": developer_wallets[0],\n",
    "        \"chainId\": chainId,\n",
    "        \"nonce\":  w3.eth.getTransactionCount(developer_wallets[0]),\n",
    "    }\n",
    ")\n",
    "\n",
    "s_tx = w3.eth.account.sign_transaction(tx, private_key=developer_private_keys[0])\n",
    "\n",
    "tx_hash = w3.eth.send_raw_transaction(s_tx.rawTransaction)\n",
    "tx_receipt = w3.eth.wait_for_transaction_receipt(tx_hash)\n",
    "tx_receipt\n",
    "# TODO: Capture issueId from tx"
   ]
  },
  {
   "cell_type": "code",
   "execution_count": 289,
   "id": "523e77a9-289d-4ee3-aea6-6fc178576dea",
   "metadata": {},
   "outputs": [
    {
     "data": {
      "text/plain": [
       "('0x3E5e9111Ae8eB78Fe1CC3bb8915d5D461F3Ef9A9',\n",
       " 'adding a new feature',\n",
       " 'check this out',\n",
       " [],\n",
       " [],\n",
       " 'QmUreVXn85jPLav34Yjc8v4HHhmxgWAWa1BoTsceNiPJe9',\n",
       " 'Qme7hNS2etkbF32dCNaJBNUKCsKJEZSd4BHnfbcmZkHZCp',\n",
       " '0x0000000000000000000000000000000000000000',\n",
       " [],\n",
       " 0)"
      ]
     },
     "execution_count": 289,
     "metadata": {},
     "output_type": "execute_result"
    }
   ],
   "source": [
    "# contract_instance.functions.newPullRequest(title='adding a new featur2e', description='check this out', oldBafyHash='QmejoFeyuMVcQMJ6VCgw3hasuZwVVvrCMxZS39whPCqSMt', prBafyHash=bafyHash).call({\"from\": developer_wallets[0]})\n",
    "contract_instance.functions.getPullRequest(0).call()"
   ]
  },
  {
   "cell_type": "markdown",
   "id": "6b9c4a22-9ae4-43ee-8e41-8f237dc92400",
   "metadata": {},
   "source": [
    "### Assign an auditor to the PR"
   ]
  },
  {
   "cell_type": "code",
   "execution_count": 276,
   "id": "256dc9ec-e961-4c19-89b6-0d72ed11f1fd",
   "metadata": {},
   "outputs": [
    {
     "data": {
      "text/plain": [
       "('0x3E5e9111Ae8eB78Fe1CC3bb8915d5D461F3Ef9A9',\n",
       " 'adding a new feature',\n",
       " 'check this out',\n",
       " [],\n",
       " [],\n",
       " 'QmejoFeyuMVcQMJ6VCgw3hasuZwVVvrCMxZS39whPCqSMt',\n",
       " 'QmZSfprteRFCGUPs9Q6vJ3QH4exvJCdU7N326BTooiHxBt',\n",
       " '0x0000000000000000000000000000000000000000',\n",
       " [],\n",
       " 0)"
      ]
     },
     "metadata": {},
     "output_type": "display_data"
    }
   ],
   "source": [
    "# assign an auditor and update the status of the PR\n",
    "tx = contract_instance.functions.assignAuditorToPullRequest(prId=0, auditorAddress=auditor_wallets[1]).buildTransaction(\n",
    "    {\n",
    "        \"gasPrice\": w3.eth.gas_price,\n",
    "        \"from\": developer_wallets[1],\n",
    "        \"chainId\": chainId,\n",
    "        \"nonce\":  w3.eth.getTransactionCount(developer_wallets[1]),\n",
    "    }\n",
    ")\n",
    "\n",
    "s_tx = w3.eth.account.sign_transaction(tx, private_key=developer_private_keys[1])\n",
    "\n",
    "tx_hash = w3.eth.send_raw_transaction(s_tx.rawTransaction)\n",
    "tx_receipt = w3.eth.wait_for_transaction_receipt(tx_hash)"
   ]
  },
  {
   "cell_type": "markdown",
   "id": "1db6c88b-1cfb-4f39-bddf-6832a0fa7b6a",
   "metadata": {},
   "source": [
    "### dGit pull to accept incoming changes and audit code"
   ]
  },
  {
   "cell_type": "code",
   "execution_count": 36,
   "id": "cd319aa2-f541-4794-88ca-6688a567077f",
   "metadata": {
    "tags": []
   },
   "outputs": [
    {
     "name": "stdout",
     "output_type": "stream",
     "text": [
      "/data2/web3/test-repo\n",
      "/data2/web3/test-repo\n",
      "--------------------------------------------------------------------------------\n",
      "Decentralized-Git-on-IPFS Wrapper\n",
      "--------------------------------------------------------------------------------\n",
      "pull password QmWQFRsYCegGEuaZMDJgZKWU3KpmATXoctE8Qwrsg76vgh\n",
      "Fetching repository from IPFS... \n",
      "\n",
      "Saving file(s) to /home/rahul/.tmp/QmWQFRsYCegGEuaZMDJgZKWU3KpmATXoctE8Qwrsg76vgh.enc\n",
      " 20.15 KiB / 20.15 KiB [============================================] 100.00% 0s\n",
      "\n",
      "Decrypting contents... \n",
      "\n",
      "Friendly repository name: test-repo\n",
      "\n",
      "Pulling repository... \n",
      "\n",
      "From /home/rahul/.tmp/bare/test-repo\n",
      " * branch            HEAD       -> FETCH_HEAD\n",
      "Already up to date.\n",
      "\n",
      "Cleaning up... \n",
      "\n"
     ]
    }
   ],
   "source": [
    "%cd /data2/web3/test-repo/\n",
    "! pwd\n",
    "! ../dgit.sh -c pull -k password -i QmZSfprteRFCGUPs9Q6vJ3QH4exvJCdU7N326BTooiHxBt"
   ]
  },
  {
   "cell_type": "markdown",
   "id": "2877e207-a12a-412b-9d75-ae5c4fa2482a",
   "metadata": {},
   "source": [
    "### Audit code (externally) and approve PR"
   ]
  },
  {
   "cell_type": "code",
   "execution_count": null,
   "id": "84f464a4-3110-4fcb-b2ce-0f28d07d23c8",
   "metadata": {},
   "outputs": [],
   "source": [
    "# approve an PR (by assigned auditor)\n",
    "tx = contract_instance.functions.approvePullRequest(prId=0).buildTransaction(\n",
    "    {\n",
    "        \"gasPrice\": w3.eth.gas_price,\n",
    "        \"from\": auditor_wallets[1],\n",
    "        \"chainId\": chainId,\n",
    "        \"nonce\":  w3.eth.getTransactionCount(auditor_wallets[1]),\n",
    "    }\n",
    ")\n",
    "\n",
    "s_tx = w3.eth.account.sign_transaction(tx, private_key=auditor_private_keys[1])\n",
    "\n",
    "tx_hash = w3.eth.send_raw_transaction(s_tx.rawTransaction)\n",
    "tx_receipt = w3.eth.wait_for_transaction_receipt(tx_hash)\n"
   ]
  },
  {
   "cell_type": "markdown",
   "id": "357bad6c-3bb1-4f77-8815-eafe2e1239cb",
   "metadata": {},
   "source": [
    "### Merge PR"
   ]
  },
  {
   "cell_type": "code",
   "execution_count": null,
   "id": "4801f90d-9a4e-46bd-98eb-59e7f5b15655",
   "metadata": {},
   "outputs": [],
   "source": [
    "# merge the PR\n",
    "tx = contract_instance.functions.mergePullRequest(prId=0, bafyHash=bafyHash).buildTransaction(\n",
    "    {\n",
    "        \"gasPrice\": w3.eth.gas_price,\n",
    "        \"from\": developer_wallets[1],\n",
    "        \"chainId\": chainId,\n",
    "        \"nonce\":  w3.eth.getTransactionCount(developer_wallets[1]),\n",
    "    }\n",
    ")\n",
    "\n",
    "s_tx = w3.eth.account.sign_transaction(tx, private_key=developer_private_keys[1])\n",
    "\n",
    "tx_hash = w3.eth.send_raw_transaction(s_tx.rawTransaction)\n",
    "tx_receipt = w3.eth.wait_for_transaction_receipt(tx_hash)\n",
    "display(contract_instance.functions.getPullRequest(0).call())"
   ]
  },
  {
   "cell_type": "markdown",
   "id": "5bef3e64-3cf2-4f77-b744-86a6a9e41d0f",
   "metadata": {},
   "source": [
    "## dGit clone"
   ]
  },
  {
   "cell_type": "code",
   "execution_count": 279,
   "id": "efbf50f0-7ff2-48d3-812d-2077f2a6bf34",
   "metadata": {},
   "outputs": [
    {
     "name": "stdout",
     "output_type": "stream",
     "text": [
      "/data2/web3\n",
      "/data2/web3\n",
      "--------------------------------------------------------------------------------\n",
      "Decentralized-Git-on-IPFS Wrapper\n",
      "--------------------------------------------------------------------------------\n",
      "clone password QmWQFRsYCegGEuaZMDJgZKWU3KpmATXoctE8Qwrsg76vgh\n",
      "Fetching repository from IPFS... \n",
      "\n",
      "Saving file(s) to /home/rahul/.tmp/QmWQFRsYCegGEuaZMDJgZKWU3KpmATXoctE8Qwrsg76vgh.enc\n",
      " 20.15 KiB / 20.15 KiB [============================================] 100.00% 0s\n",
      "\n",
      "Decrypting contents... \n",
      "\n",
      "Friendly repository name: test-repo\n",
      "\n",
      "Cloning repository... \n",
      "\n",
      "Cloning into 'test-repo'...\n",
      "done.\n",
      "\n",
      "Cleaning up... \n",
      "\n",
      "Writing repository tracking information to disk... \n",
      "\n"
     ]
    }
   ],
   "source": [
    "%cd /data2/web3/\n",
    "! pwd\n",
    "! rm -rf test-repo/\n",
    "! ./dgit.sh -c clone -k \"password\" -i QmWQFRsYCegGEuaZMDJgZKWU3KpmATXoctE8Qwrsg76vgh"
   ]
  },
  {
   "cell_type": "code",
   "execution_count": null,
   "id": "15e8d359-90f3-4105-b469-b1fc312205a4",
   "metadata": {},
   "outputs": [],
   "source": []
  }
 ],
 "metadata": {
  "kernelspec": {
   "display_name": "Python 3 (ipykernel)",
   "language": "python",
   "name": "python3"
  },
  "language_info": {
   "codemirror_mode": {
    "name": "ipython",
    "version": 3
   },
   "file_extension": ".py",
   "mimetype": "text/x-python",
   "name": "python",
   "nbconvert_exporter": "python",
   "pygments_lexer": "ipython3",
   "version": "3.10.7"
  }
 },
 "nbformat": 4,
 "nbformat_minor": 5
}
